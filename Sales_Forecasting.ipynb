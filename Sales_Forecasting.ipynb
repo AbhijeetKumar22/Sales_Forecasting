{
 "cells": [
  {
   "cell_type": "markdown",
   "metadata": {},
   "source": [
    "<font color = red><font size = 5>Importing Libraries</font>"
   ]
  },
  {
   "cell_type": "code",
   "execution_count": 1,
   "metadata": {
    "colab": {},
    "colab_type": "code",
    "id": "veyjEU9f2fFl"
   },
   "outputs": [],
   "source": [
    "import warnings\n",
    "import itertools\n",
    "import numpy as np\n",
    "import matplotlib.pyplot as plt\n",
    "warnings.filterwarnings(\"ignore\")\n",
    "plt.style.use('fivethirtyeight')\n",
    "import pandas as pd\n",
    "import statsmodels.api as sm\n",
    "import matplotlib\n",
    "matplotlib.rcParams['axes.labelsize'] = 14\n",
    "matplotlib.rcParams['xtick.labelsize'] = 12\n",
    "matplotlib.rcParams['ytick.labelsize'] = 12\n",
    "matplotlib.rcParams['text.color'] = 'k'\n",
    "import sys\n",
    "import types\n",
    "import os"
   ]
  },
  {
   "cell_type": "markdown",
   "metadata": {},
   "source": [
    "<font color = red><font size = 4> Loading Dataset </font>"
   ]
  },
  {
   "cell_type": "code",
   "execution_count": 2,
   "metadata": {
    "colab": {},
    "colab_type": "code",
    "id": "ubnEmstc2fF1",
    "outputId": "0999c414-0a51-4e7d-c7f7-6533dd19c80e"
   },
   "outputs": [
    {
     "data": {
      "text/html": [
       "<div>\n",
       "<style scoped>\n",
       "    .dataframe tbody tr th:only-of-type {\n",
       "        vertical-align: middle;\n",
       "    }\n",
       "\n",
       "    .dataframe tbody tr th {\n",
       "        vertical-align: top;\n",
       "    }\n",
       "\n",
       "    .dataframe thead th {\n",
       "        text-align: right;\n",
       "    }\n",
       "</style>\n",
       "<table border=\"1\" class=\"dataframe\">\n",
       "  <thead>\n",
       "    <tr style=\"text-align: right;\">\n",
       "      <th></th>\n",
       "      <th>Row ID</th>\n",
       "      <th>Order ID</th>\n",
       "      <th>Order Date</th>\n",
       "      <th>Ship Date</th>\n",
       "      <th>Ship Mode</th>\n",
       "      <th>Customer ID</th>\n",
       "      <th>Customer Name</th>\n",
       "      <th>Segment</th>\n",
       "      <th>Country</th>\n",
       "      <th>City</th>\n",
       "      <th>...</th>\n",
       "      <th>Postal Code</th>\n",
       "      <th>Region</th>\n",
       "      <th>Product ID</th>\n",
       "      <th>Category</th>\n",
       "      <th>Sub-Category</th>\n",
       "      <th>Product Name</th>\n",
       "      <th>Sales</th>\n",
       "      <th>Quantity</th>\n",
       "      <th>Discount</th>\n",
       "      <th>Profit</th>\n",
       "    </tr>\n",
       "  </thead>\n",
       "  <tbody>\n",
       "    <tr>\n",
       "      <th>0</th>\n",
       "      <td>1</td>\n",
       "      <td>CA-2016-152156</td>\n",
       "      <td>11/8/2016</td>\n",
       "      <td>11/11/2016</td>\n",
       "      <td>Second Class</td>\n",
       "      <td>CG-12520</td>\n",
       "      <td>Claire Gute</td>\n",
       "      <td>Consumer</td>\n",
       "      <td>United States</td>\n",
       "      <td>Henderson</td>\n",
       "      <td>...</td>\n",
       "      <td>42420</td>\n",
       "      <td>South</td>\n",
       "      <td>FUR-BO-10001798</td>\n",
       "      <td>Furniture</td>\n",
       "      <td>Bookcases</td>\n",
       "      <td>Bush Somerset Collection Bookcase</td>\n",
       "      <td>261.9600</td>\n",
       "      <td>2</td>\n",
       "      <td>0.00</td>\n",
       "      <td>41.9136</td>\n",
       "    </tr>\n",
       "    <tr>\n",
       "      <th>1</th>\n",
       "      <td>2</td>\n",
       "      <td>CA-2016-152156</td>\n",
       "      <td>11/8/2016</td>\n",
       "      <td>11/11/2016</td>\n",
       "      <td>Second Class</td>\n",
       "      <td>CG-12520</td>\n",
       "      <td>Claire Gute</td>\n",
       "      <td>Consumer</td>\n",
       "      <td>United States</td>\n",
       "      <td>Henderson</td>\n",
       "      <td>...</td>\n",
       "      <td>42420</td>\n",
       "      <td>South</td>\n",
       "      <td>FUR-CH-10000454</td>\n",
       "      <td>Furniture</td>\n",
       "      <td>Chairs</td>\n",
       "      <td>Hon Deluxe Fabric Upholstered Stacking Chairs,...</td>\n",
       "      <td>731.9400</td>\n",
       "      <td>3</td>\n",
       "      <td>0.00</td>\n",
       "      <td>219.5820</td>\n",
       "    </tr>\n",
       "    <tr>\n",
       "      <th>2</th>\n",
       "      <td>4</td>\n",
       "      <td>US-2015-108966</td>\n",
       "      <td>10/11/2015</td>\n",
       "      <td>10/18/2015</td>\n",
       "      <td>Standard Class</td>\n",
       "      <td>SO-20335</td>\n",
       "      <td>Sean O'Donnell</td>\n",
       "      <td>Consumer</td>\n",
       "      <td>United States</td>\n",
       "      <td>Fort Lauderdale</td>\n",
       "      <td>...</td>\n",
       "      <td>33311</td>\n",
       "      <td>South</td>\n",
       "      <td>FUR-TA-10000577</td>\n",
       "      <td>Furniture</td>\n",
       "      <td>Tables</td>\n",
       "      <td>Bretford CR4500 Series Slim Rectangular Table</td>\n",
       "      <td>957.5775</td>\n",
       "      <td>5</td>\n",
       "      <td>0.45</td>\n",
       "      <td>-383.0310</td>\n",
       "    </tr>\n",
       "    <tr>\n",
       "      <th>3</th>\n",
       "      <td>6</td>\n",
       "      <td>CA-2014-115812</td>\n",
       "      <td>6/9/2014</td>\n",
       "      <td>6/14/2014</td>\n",
       "      <td>Standard Class</td>\n",
       "      <td>BH-11710</td>\n",
       "      <td>Brosina Hoffman</td>\n",
       "      <td>Consumer</td>\n",
       "      <td>United States</td>\n",
       "      <td>Los Angeles</td>\n",
       "      <td>...</td>\n",
       "      <td>90032</td>\n",
       "      <td>West</td>\n",
       "      <td>FUR-FU-10001487</td>\n",
       "      <td>Furniture</td>\n",
       "      <td>Furnishings</td>\n",
       "      <td>Eldon Expressions Wood and Plastic Desk Access...</td>\n",
       "      <td>48.8600</td>\n",
       "      <td>7</td>\n",
       "      <td>0.00</td>\n",
       "      <td>14.1694</td>\n",
       "    </tr>\n",
       "    <tr>\n",
       "      <th>4</th>\n",
       "      <td>11</td>\n",
       "      <td>CA-2014-115812</td>\n",
       "      <td>6/9/2014</td>\n",
       "      <td>6/14/2014</td>\n",
       "      <td>Standard Class</td>\n",
       "      <td>BH-11710</td>\n",
       "      <td>Brosina Hoffman</td>\n",
       "      <td>Consumer</td>\n",
       "      <td>United States</td>\n",
       "      <td>Los Angeles</td>\n",
       "      <td>...</td>\n",
       "      <td>90032</td>\n",
       "      <td>West</td>\n",
       "      <td>FUR-TA-10001539</td>\n",
       "      <td>Furniture</td>\n",
       "      <td>Tables</td>\n",
       "      <td>Chromcraft Rectangular Conference Tables</td>\n",
       "      <td>1706.1840</td>\n",
       "      <td>9</td>\n",
       "      <td>0.20</td>\n",
       "      <td>85.3092</td>\n",
       "    </tr>\n",
       "  </tbody>\n",
       "</table>\n",
       "<p>5 rows × 21 columns</p>\n",
       "</div>"
      ],
      "text/plain": [
       "   Row ID        Order ID  Order Date   Ship Date       Ship Mode Customer ID  \\\n",
       "0       1  CA-2016-152156   11/8/2016  11/11/2016    Second Class    CG-12520   \n",
       "1       2  CA-2016-152156   11/8/2016  11/11/2016    Second Class    CG-12520   \n",
       "2       4  US-2015-108966  10/11/2015  10/18/2015  Standard Class    SO-20335   \n",
       "3       6  CA-2014-115812    6/9/2014   6/14/2014  Standard Class    BH-11710   \n",
       "4      11  CA-2014-115812    6/9/2014   6/14/2014  Standard Class    BH-11710   \n",
       "\n",
       "     Customer Name   Segment        Country             City  ... Postal Code  \\\n",
       "0      Claire Gute  Consumer  United States        Henderson  ...       42420   \n",
       "1      Claire Gute  Consumer  United States        Henderson  ...       42420   \n",
       "2   Sean O'Donnell  Consumer  United States  Fort Lauderdale  ...       33311   \n",
       "3  Brosina Hoffman  Consumer  United States      Los Angeles  ...       90032   \n",
       "4  Brosina Hoffman  Consumer  United States      Los Angeles  ...       90032   \n",
       "\n",
       "   Region       Product ID   Category Sub-Category  \\\n",
       "0   South  FUR-BO-10001798  Furniture    Bookcases   \n",
       "1   South  FUR-CH-10000454  Furniture       Chairs   \n",
       "2   South  FUR-TA-10000577  Furniture       Tables   \n",
       "3    West  FUR-FU-10001487  Furniture  Furnishings   \n",
       "4    West  FUR-TA-10001539  Furniture       Tables   \n",
       "\n",
       "                                        Product Name      Sales  Quantity  \\\n",
       "0                  Bush Somerset Collection Bookcase   261.9600         2   \n",
       "1  Hon Deluxe Fabric Upholstered Stacking Chairs,...   731.9400         3   \n",
       "2      Bretford CR4500 Series Slim Rectangular Table   957.5775         5   \n",
       "3  Eldon Expressions Wood and Plastic Desk Access...    48.8600         7   \n",
       "4           Chromcraft Rectangular Conference Tables  1706.1840         9   \n",
       "\n",
       "   Discount    Profit  \n",
       "0      0.00   41.9136  \n",
       "1      0.00  219.5820  \n",
       "2      0.45 -383.0310  \n",
       "3      0.00   14.1694  \n",
       "4      0.20   85.3092  \n",
       "\n",
       "[5 rows x 21 columns]"
      ]
     },
     "execution_count": 2,
     "metadata": {},
     "output_type": "execute_result"
    }
   ],
   "source": [
    "furniture = pd.read_csv(\"Super_Store.csv\", encoding='cp1252')\n",
    "furniture.head()"
   ]
  },
  {
   "cell_type": "code",
   "execution_count": 3,
   "metadata": {
    "colab": {},
    "colab_type": "code",
    "id": "D8EcGqsL2fGI",
    "outputId": "9629c76c-bc15-42d6-cbae-ba0632e98865"
   },
   "outputs": [
    {
     "data": {
      "text/plain": [
       "(2121, 21)"
      ]
     },
     "execution_count": 3,
     "metadata": {},
     "output_type": "execute_result"
    }
   ],
   "source": [
    "# Checking structure of the data\n",
    "furniture.shape"
   ]
  },
  {
   "cell_type": "code",
   "execution_count": 4,
   "metadata": {},
   "outputs": [
    {
     "data": {
      "text/plain": [
       "Index(['Row ID', 'Order ID', 'Order Date', 'Ship Date', 'Ship Mode',\n",
       "       'Customer ID', 'Customer Name', 'Segment', 'Country', 'City', 'State',\n",
       "       'Postal Code', 'Region', 'Product ID', 'Category', 'Sub-Category',\n",
       "       'Product Name', 'Sales', 'Quantity', 'Discount', 'Profit'],\n",
       "      dtype='object')"
      ]
     },
     "execution_count": 4,
     "metadata": {},
     "output_type": "execute_result"
    }
   ],
   "source": [
    "furniture.columns"
   ]
  },
  {
   "cell_type": "markdown",
   "metadata": {},
   "source": [
    "<font color = red><font size = 4> Statistical Summary</font>"
   ]
  },
  {
   "cell_type": "code",
   "execution_count": 5,
   "metadata": {
    "colab": {},
    "colab_type": "code",
    "id": "1Mh3z2yk2fGZ",
    "outputId": "2b2ffd4f-61a1-4834-a4ae-70c4e779d542"
   },
   "outputs": [
    {
     "data": {
      "text/html": [
       "<div>\n",
       "<style scoped>\n",
       "    .dataframe tbody tr th:only-of-type {\n",
       "        vertical-align: middle;\n",
       "    }\n",
       "\n",
       "    .dataframe tbody tr th {\n",
       "        vertical-align: top;\n",
       "    }\n",
       "\n",
       "    .dataframe thead th {\n",
       "        text-align: right;\n",
       "    }\n",
       "</style>\n",
       "<table border=\"1\" class=\"dataframe\">\n",
       "  <thead>\n",
       "    <tr style=\"text-align: right;\">\n",
       "      <th></th>\n",
       "      <th>count</th>\n",
       "      <th>mean</th>\n",
       "      <th>std</th>\n",
       "      <th>min</th>\n",
       "      <th>25%</th>\n",
       "      <th>50%</th>\n",
       "      <th>75%</th>\n",
       "      <th>max</th>\n",
       "    </tr>\n",
       "  </thead>\n",
       "  <tbody>\n",
       "    <tr>\n",
       "      <th>Row ID</th>\n",
       "      <td>2121.0</td>\n",
       "      <td>5041.643564</td>\n",
       "      <td>2885.740258</td>\n",
       "      <td>1.0000</td>\n",
       "      <td>2568.000</td>\n",
       "      <td>5145.0000</td>\n",
       "      <td>7534.0000</td>\n",
       "      <td>9991.000</td>\n",
       "    </tr>\n",
       "    <tr>\n",
       "      <th>Postal Code</th>\n",
       "      <td>2121.0</td>\n",
       "      <td>55726.556341</td>\n",
       "      <td>32261.888225</td>\n",
       "      <td>1040.0000</td>\n",
       "      <td>22801.000</td>\n",
       "      <td>60505.0000</td>\n",
       "      <td>90032.0000</td>\n",
       "      <td>99301.000</td>\n",
       "    </tr>\n",
       "    <tr>\n",
       "      <th>Sales</th>\n",
       "      <td>2121.0</td>\n",
       "      <td>349.834887</td>\n",
       "      <td>503.179145</td>\n",
       "      <td>1.8920</td>\n",
       "      <td>47.040</td>\n",
       "      <td>182.2200</td>\n",
       "      <td>435.1680</td>\n",
       "      <td>4416.174</td>\n",
       "    </tr>\n",
       "    <tr>\n",
       "      <th>Quantity</th>\n",
       "      <td>2121.0</td>\n",
       "      <td>3.785007</td>\n",
       "      <td>2.251620</td>\n",
       "      <td>1.0000</td>\n",
       "      <td>2.000</td>\n",
       "      <td>3.0000</td>\n",
       "      <td>5.0000</td>\n",
       "      <td>14.000</td>\n",
       "    </tr>\n",
       "    <tr>\n",
       "      <th>Discount</th>\n",
       "      <td>2121.0</td>\n",
       "      <td>0.173923</td>\n",
       "      <td>0.181547</td>\n",
       "      <td>0.0000</td>\n",
       "      <td>0.000</td>\n",
       "      <td>0.2000</td>\n",
       "      <td>0.3000</td>\n",
       "      <td>0.700</td>\n",
       "    </tr>\n",
       "    <tr>\n",
       "      <th>Profit</th>\n",
       "      <td>2121.0</td>\n",
       "      <td>8.699327</td>\n",
       "      <td>136.049246</td>\n",
       "      <td>-1862.3124</td>\n",
       "      <td>-12.849</td>\n",
       "      <td>7.7748</td>\n",
       "      <td>33.7266</td>\n",
       "      <td>1013.127</td>\n",
       "    </tr>\n",
       "  </tbody>\n",
       "</table>\n",
       "</div>"
      ],
      "text/plain": [
       "              count          mean           std        min        25%  \\\n",
       "Row ID       2121.0   5041.643564   2885.740258     1.0000   2568.000   \n",
       "Postal Code  2121.0  55726.556341  32261.888225  1040.0000  22801.000   \n",
       "Sales        2121.0    349.834887    503.179145     1.8920     47.040   \n",
       "Quantity     2121.0      3.785007      2.251620     1.0000      2.000   \n",
       "Discount     2121.0      0.173923      0.181547     0.0000      0.000   \n",
       "Profit       2121.0      8.699327    136.049246 -1862.3124    -12.849   \n",
       "\n",
       "                    50%         75%        max  \n",
       "Row ID        5145.0000   7534.0000   9991.000  \n",
       "Postal Code  60505.0000  90032.0000  99301.000  \n",
       "Sales          182.2200    435.1680   4416.174  \n",
       "Quantity         3.0000      5.0000     14.000  \n",
       "Discount         0.2000      0.3000      0.700  \n",
       "Profit           7.7748     33.7266   1013.127  "
      ]
     },
     "execution_count": 5,
     "metadata": {},
     "output_type": "execute_result"
    }
   ],
   "source": [
    "furniture.describe().T"
   ]
  },
  {
   "cell_type": "markdown",
   "metadata": {
    "colab_type": "text",
    "id": "_1OiJyzj2fGk"
   },
   "source": [
    "<font color = red><font size = 4> Checking Data Type and Missing Values </font>"
   ]
  },
  {
   "cell_type": "code",
   "execution_count": 6,
   "metadata": {
    "colab": {},
    "colab_type": "code",
    "id": "YVMD5j6m2fGm",
    "outputId": "cbc3e6a3-4ccc-4738-fd5f-31050b841152"
   },
   "outputs": [
    {
     "name": "stdout",
     "output_type": "stream",
     "text": [
      "<class 'pandas.core.frame.DataFrame'>\n",
      "RangeIndex: 2121 entries, 0 to 2120\n",
      "Data columns (total 21 columns):\n",
      " #   Column         Non-Null Count  Dtype  \n",
      "---  ------         --------------  -----  \n",
      " 0   Row ID         2121 non-null   int64  \n",
      " 1   Order ID       2121 non-null   object \n",
      " 2   Order Date     2121 non-null   object \n",
      " 3   Ship Date      2121 non-null   object \n",
      " 4   Ship Mode      2121 non-null   object \n",
      " 5   Customer ID    2121 non-null   object \n",
      " 6   Customer Name  2121 non-null   object \n",
      " 7   Segment        2121 non-null   object \n",
      " 8   Country        2121 non-null   object \n",
      " 9   City           2121 non-null   object \n",
      " 10  State          2121 non-null   object \n",
      " 11  Postal Code    2121 non-null   int64  \n",
      " 12  Region         2121 non-null   object \n",
      " 13  Product ID     2121 non-null   object \n",
      " 14  Category       2121 non-null   object \n",
      " 15  Sub-Category   2121 non-null   object \n",
      " 16  Product Name   2121 non-null   object \n",
      " 17  Sales          2121 non-null   float64\n",
      " 18  Quantity       2121 non-null   int64  \n",
      " 19  Discount       2121 non-null   float64\n",
      " 20  Profit         2121 non-null   float64\n",
      "dtypes: float64(3), int64(3), object(15)\n",
      "memory usage: 348.1+ KB\n"
     ]
    }
   ],
   "source": [
    "# summary of the data \n",
    "furniture.info()"
   ]
  },
  {
   "cell_type": "markdown",
   "metadata": {
    "colab_type": "text",
    "id": "pCPKMy622fGz"
   },
   "source": [
    "<font color = red><font size = 4>Checking the furniture sales time stamp</font>"
   ]
  },
  {
   "cell_type": "code",
   "execution_count": 7,
   "metadata": {
    "colab": {},
    "colab_type": "code",
    "id": "_Bl5j0952fG2",
    "outputId": "4fe48911-ff14-4b8b-f8ab-0c80324b6e9c"
   },
   "outputs": [
    {
     "data": {
      "text/plain": [
       "('1/1/2017', '9/9/2017')"
      ]
     },
     "execution_count": 7,
     "metadata": {},
     "output_type": "execute_result"
    }
   ],
   "source": [
    "furniture['Order Date'].min(), furniture['Order Date'].max()"
   ]
  },
  {
   "cell_type": "code",
   "execution_count": 8,
   "metadata": {
    "colab": {},
    "colab_type": "code",
    "id": "_0kLMdko2fHL",
    "outputId": "f7514d8a-c1e1-4c9a-d43f-48e56000df51"
   },
   "outputs": [
    {
     "data": {
      "text/plain": [
       "Order Date    0\n",
       "Sales         0\n",
       "dtype: int64"
      ]
     },
     "execution_count": 8,
     "metadata": {},
     "output_type": "execute_result"
    }
   ],
   "source": [
    "cols = ['Row ID', 'Order ID', 'Ship Date', 'Ship Mode', 'Customer ID', 'Customer Name', 'Segment', 'Country', 'City', 'State', 'Postal Code', 'Region', 'Product ID', 'Category', 'Sub-Category', 'Product Name', 'Quantity', 'Discount', 'Profit']\n",
    "furniture.drop(cols, axis=1, inplace=True)\n",
    "furniture = furniture.sort_values('Order Date')\n",
    "furniture.isnull().sum()"
   ]
  },
  {
   "cell_type": "code",
   "execution_count": 9,
   "metadata": {},
   "outputs": [
    {
     "name": "stdout",
     "output_type": "stream",
     "text": [
      "<class 'pandas.core.frame.DataFrame'>\n",
      "Index: 2121 entries, 845 to 964\n",
      "Data columns (total 2 columns):\n",
      " #   Column      Non-Null Count  Dtype  \n",
      "---  ------      --------------  -----  \n",
      " 0   Order Date  2121 non-null   object \n",
      " 1   Sales       2121 non-null   float64\n",
      "dtypes: float64(1), object(1)\n",
      "memory usage: 49.7+ KB\n"
     ]
    }
   ],
   "source": [
    "furniture.info()"
   ]
  },
  {
   "cell_type": "code",
   "execution_count": 10,
   "metadata": {},
   "outputs": [
    {
     "data": {
      "text/plain": [
       "Order Date\n",
       "9/5/2016      10\n",
       "10/30/2017     9\n",
       "12/1/2016      9\n",
       "11/19/2017     9\n",
       "12/25/2016     9\n",
       "              ..\n",
       "6/17/2017      1\n",
       "2/3/2017       1\n",
       "6/17/2014      1\n",
       "2/4/2016       1\n",
       "10/23/2016     1\n",
       "Name: count, Length: 889, dtype: int64"
      ]
     },
     "execution_count": 10,
     "metadata": {},
     "output_type": "execute_result"
    }
   ],
   "source": [
    "furniture[\"Order Date\"].value_counts()"
   ]
  },
  {
   "cell_type": "code",
   "execution_count": 11,
   "metadata": {},
   "outputs": [
    {
     "data": {
      "text/html": [
       "<div>\n",
       "<style scoped>\n",
       "    .dataframe tbody tr th:only-of-type {\n",
       "        vertical-align: middle;\n",
       "    }\n",
       "\n",
       "    .dataframe tbody tr th {\n",
       "        vertical-align: top;\n",
       "    }\n",
       "\n",
       "    .dataframe thead th {\n",
       "        text-align: right;\n",
       "    }\n",
       "</style>\n",
       "<table border=\"1\" class=\"dataframe\">\n",
       "  <thead>\n",
       "    <tr style=\"text-align: right;\">\n",
       "      <th></th>\n",
       "      <th>Order Date</th>\n",
       "      <th>Sales</th>\n",
       "    </tr>\n",
       "  </thead>\n",
       "  <tbody>\n",
       "    <tr>\n",
       "      <th>845</th>\n",
       "      <td>1/1/2017</td>\n",
       "      <td>474.430</td>\n",
       "    </tr>\n",
       "    <tr>\n",
       "      <th>1707</th>\n",
       "      <td>1/1/2017</td>\n",
       "      <td>141.420</td>\n",
       "    </tr>\n",
       "    <tr>\n",
       "      <th>1708</th>\n",
       "      <td>1/1/2017</td>\n",
       "      <td>310.744</td>\n",
       "    </tr>\n",
       "    <tr>\n",
       "      <th>179</th>\n",
       "      <td>1/1/2017</td>\n",
       "      <td>48.896</td>\n",
       "    </tr>\n",
       "    <tr>\n",
       "      <th>181</th>\n",
       "      <td>1/10/2014</td>\n",
       "      <td>51.940</td>\n",
       "    </tr>\n",
       "  </tbody>\n",
       "</table>\n",
       "</div>"
      ],
      "text/plain": [
       "     Order Date    Sales\n",
       "845    1/1/2017  474.430\n",
       "1707   1/1/2017  141.420\n",
       "1708   1/1/2017  310.744\n",
       "179    1/1/2017   48.896\n",
       "181   1/10/2014   51.940"
      ]
     },
     "execution_count": 11,
     "metadata": {},
     "output_type": "execute_result"
    }
   ],
   "source": [
    "furniture.head()"
   ]
  },
  {
   "cell_type": "markdown",
   "metadata": {
    "colab_type": "text",
    "id": "NfhSVd2m2fHW"
   },
   "source": [
    "<font color = red><font size = 3>Aggregate sales data by date</font>"
   ]
  },
  {
   "cell_type": "code",
   "execution_count": 12,
   "metadata": {
    "colab": {},
    "colab_type": "code",
    "id": "Z7vL8r302fHY"
   },
   "outputs": [
    {
     "data": {
      "text/html": [
       "<div>\n",
       "<style scoped>\n",
       "    .dataframe tbody tr th:only-of-type {\n",
       "        vertical-align: middle;\n",
       "    }\n",
       "\n",
       "    .dataframe tbody tr th {\n",
       "        vertical-align: top;\n",
       "    }\n",
       "\n",
       "    .dataframe thead th {\n",
       "        text-align: right;\n",
       "    }\n",
       "</style>\n",
       "<table border=\"1\" class=\"dataframe\">\n",
       "  <thead>\n",
       "    <tr style=\"text-align: right;\">\n",
       "      <th></th>\n",
       "      <th>Order Date</th>\n",
       "      <th>Sales</th>\n",
       "    </tr>\n",
       "  </thead>\n",
       "  <tbody>\n",
       "    <tr>\n",
       "      <th>0</th>\n",
       "      <td>1/1/2017</td>\n",
       "      <td>975.4900</td>\n",
       "    </tr>\n",
       "    <tr>\n",
       "      <th>1</th>\n",
       "      <td>1/10/2014</td>\n",
       "      <td>51.9400</td>\n",
       "    </tr>\n",
       "    <tr>\n",
       "      <th>2</th>\n",
       "      <td>1/10/2015</td>\n",
       "      <td>1018.1040</td>\n",
       "    </tr>\n",
       "    <tr>\n",
       "      <th>3</th>\n",
       "      <td>1/10/2016</td>\n",
       "      <td>104.7700</td>\n",
       "    </tr>\n",
       "    <tr>\n",
       "      <th>4</th>\n",
       "      <td>1/11/2014</td>\n",
       "      <td>9.9400</td>\n",
       "    </tr>\n",
       "    <tr>\n",
       "      <th>...</th>\n",
       "      <td>...</td>\n",
       "      <td>...</td>\n",
       "    </tr>\n",
       "    <tr>\n",
       "      <th>884</th>\n",
       "      <td>9/8/2016</td>\n",
       "      <td>3374.9816</td>\n",
       "    </tr>\n",
       "    <tr>\n",
       "      <th>885</th>\n",
       "      <td>9/8/2017</td>\n",
       "      <td>1000.2390</td>\n",
       "    </tr>\n",
       "    <tr>\n",
       "      <th>886</th>\n",
       "      <td>9/9/2014</td>\n",
       "      <td>864.0240</td>\n",
       "    </tr>\n",
       "    <tr>\n",
       "      <th>887</th>\n",
       "      <td>9/9/2016</td>\n",
       "      <td>15.0080</td>\n",
       "    </tr>\n",
       "    <tr>\n",
       "      <th>888</th>\n",
       "      <td>9/9/2017</td>\n",
       "      <td>482.5640</td>\n",
       "    </tr>\n",
       "  </tbody>\n",
       "</table>\n",
       "<p>889 rows × 2 columns</p>\n",
       "</div>"
      ],
      "text/plain": [
       "    Order Date      Sales\n",
       "0     1/1/2017   975.4900\n",
       "1    1/10/2014    51.9400\n",
       "2    1/10/2015  1018.1040\n",
       "3    1/10/2016   104.7700\n",
       "4    1/11/2014     9.9400\n",
       "..         ...        ...\n",
       "884   9/8/2016  3374.9816\n",
       "885   9/8/2017  1000.2390\n",
       "886   9/9/2014   864.0240\n",
       "887   9/9/2016    15.0080\n",
       "888   9/9/2017   482.5640\n",
       "\n",
       "[889 rows x 2 columns]"
      ]
     },
     "execution_count": 12,
     "metadata": {},
     "output_type": "execute_result"
    }
   ],
   "source": [
    "furniture = furniture.groupby('Order Date')['Sales'].sum().reset_index()\n",
    "furniture"
   ]
  },
  {
   "cell_type": "markdown",
   "metadata": {
    "colab_type": "text",
    "id": "4f21lcOV2fHh"
   },
   "source": [
    "Indexing with the Time Series Data"
   ]
  },
  {
   "cell_type": "code",
   "execution_count": 13,
   "metadata": {},
   "outputs": [
    {
     "data": {
      "text/plain": [
       "Order Date\n",
       "1/1/2017      1\n",
       "6/16/2014     1\n",
       "6/11/2017     1\n",
       "6/12/2015     1\n",
       "6/12/2016     1\n",
       "             ..\n",
       "12/28/2017    1\n",
       "12/29/2014    1\n",
       "12/29/2016    1\n",
       "12/29/2017    1\n",
       "9/9/2017      1\n",
       "Name: count, Length: 889, dtype: int64"
      ]
     },
     "execution_count": 13,
     "metadata": {},
     "output_type": "execute_result"
    }
   ],
   "source": [
    "furniture[\"Order Date\"].value_counts()"
   ]
  },
  {
   "cell_type": "code",
   "execution_count": 14,
   "metadata": {
    "colab": {},
    "colab_type": "code",
    "id": "31YVsYb_2fHj",
    "outputId": "95e35416-6448-48ba-eabc-4181d9875b0a"
   },
   "outputs": [],
   "source": [
    "furniture['Order Date'] = pd.to_datetime(furniture['Order Date'])\n",
    "furniture.sort_values(by=\"Order Date\", inplace=True)"
   ]
  },
  {
   "cell_type": "code",
   "execution_count": 15,
   "metadata": {},
   "outputs": [
    {
     "data": {
      "text/plain": [
       "Timestamp('2014-01-06 00:00:00')"
      ]
     },
     "execution_count": 15,
     "metadata": {},
     "output_type": "execute_result"
    }
   ],
   "source": [
    "furniture[\"Order Date\"].min() "
   ]
  },
  {
   "cell_type": "code",
   "execution_count": 16,
   "metadata": {},
   "outputs": [
    {
     "data": {
      "text/plain": [
       "Timestamp('2017-12-30 00:00:00')"
      ]
     },
     "execution_count": 16,
     "metadata": {},
     "output_type": "execute_result"
    }
   ],
   "source": [
    "furniture[\"Order Date\"].max()"
   ]
  },
  {
   "cell_type": "code",
   "execution_count": 17,
   "metadata": {},
   "outputs": [
    {
     "data": {
      "text/html": [
       "<div>\n",
       "<style scoped>\n",
       "    .dataframe tbody tr th:only-of-type {\n",
       "        vertical-align: middle;\n",
       "    }\n",
       "\n",
       "    .dataframe tbody tr th {\n",
       "        vertical-align: top;\n",
       "    }\n",
       "\n",
       "    .dataframe thead th {\n",
       "        text-align: right;\n",
       "    }\n",
       "</style>\n",
       "<table border=\"1\" class=\"dataframe\">\n",
       "  <thead>\n",
       "    <tr style=\"text-align: right;\">\n",
       "      <th></th>\n",
       "      <th>Order Date</th>\n",
       "      <th>Sales</th>\n",
       "    </tr>\n",
       "  </thead>\n",
       "  <tbody>\n",
       "    <tr>\n",
       "      <th>49</th>\n",
       "      <td>2014-01-06</td>\n",
       "      <td>2573.8200</td>\n",
       "    </tr>\n",
       "    <tr>\n",
       "      <th>50</th>\n",
       "      <td>2014-01-07</td>\n",
       "      <td>76.7280</td>\n",
       "    </tr>\n",
       "    <tr>\n",
       "      <th>1</th>\n",
       "      <td>2014-01-10</td>\n",
       "      <td>51.9400</td>\n",
       "    </tr>\n",
       "    <tr>\n",
       "      <th>4</th>\n",
       "      <td>2014-01-11</td>\n",
       "      <td>9.9400</td>\n",
       "    </tr>\n",
       "    <tr>\n",
       "      <th>7</th>\n",
       "      <td>2014-01-13</td>\n",
       "      <td>879.9390</td>\n",
       "    </tr>\n",
       "    <tr>\n",
       "      <th>...</th>\n",
       "      <td>...</td>\n",
       "      <td>...</td>\n",
       "    </tr>\n",
       "    <tr>\n",
       "      <th>290</th>\n",
       "      <td>2017-12-24</td>\n",
       "      <td>1393.4940</td>\n",
       "    </tr>\n",
       "    <tr>\n",
       "      <th>293</th>\n",
       "      <td>2017-12-25</td>\n",
       "      <td>832.4540</td>\n",
       "    </tr>\n",
       "    <tr>\n",
       "      <th>300</th>\n",
       "      <td>2017-12-28</td>\n",
       "      <td>551.2568</td>\n",
       "    </tr>\n",
       "    <tr>\n",
       "      <th>303</th>\n",
       "      <td>2017-12-29</td>\n",
       "      <td>2330.7180</td>\n",
       "    </tr>\n",
       "    <tr>\n",
       "      <th>309</th>\n",
       "      <td>2017-12-30</td>\n",
       "      <td>323.1360</td>\n",
       "    </tr>\n",
       "  </tbody>\n",
       "</table>\n",
       "<p>889 rows × 2 columns</p>\n",
       "</div>"
      ],
      "text/plain": [
       "    Order Date      Sales\n",
       "49  2014-01-06  2573.8200\n",
       "50  2014-01-07    76.7280\n",
       "1   2014-01-10    51.9400\n",
       "4   2014-01-11     9.9400\n",
       "7   2014-01-13   879.9390\n",
       "..         ...        ...\n",
       "290 2017-12-24  1393.4940\n",
       "293 2017-12-25   832.4540\n",
       "300 2017-12-28   551.2568\n",
       "303 2017-12-29  2330.7180\n",
       "309 2017-12-30   323.1360\n",
       "\n",
       "[889 rows x 2 columns]"
      ]
     },
     "execution_count": 17,
     "metadata": {},
     "output_type": "execute_result"
    }
   ],
   "source": [
    "furniture"
   ]
  },
  {
   "cell_type": "code",
   "execution_count": 18,
   "metadata": {},
   "outputs": [
    {
     "data": {
      "text/plain": [
       "DatetimeIndex(['2014-01-06', '2014-01-07', '2014-01-10', '2014-01-11',\n",
       "               '2014-01-13', '2014-01-14', '2014-01-16', '2014-01-19',\n",
       "               '2014-01-20', '2014-01-21',\n",
       "               ...\n",
       "               '2017-12-18', '2017-12-19', '2017-12-21', '2017-12-22',\n",
       "               '2017-12-23', '2017-12-24', '2017-12-25', '2017-12-28',\n",
       "               '2017-12-29', '2017-12-30'],\n",
       "              dtype='datetime64[ns]', name='Order Date', length=889, freq=None)"
      ]
     },
     "execution_count": 18,
     "metadata": {},
     "output_type": "execute_result"
    }
   ],
   "source": [
    "furniture.set_index('Order Date', inplace=True)\n",
    "furniture.index"
   ]
  },
  {
   "cell_type": "markdown",
   "metadata": {
    "colab_type": "text",
    "id": "IDXwPd0u2fHt"
   },
   "source": [
    "Resampling the datetime data. Here we use the start of each month as the timestamp and take the average daily sales value for a particular month since working with the current datetime data becomes tricky"
   ]
  },
  {
   "cell_type": "code",
   "execution_count": 19,
   "metadata": {},
   "outputs": [],
   "source": [
    "furniture.to_csv(\"df.csv\")"
   ]
  },
  {
   "cell_type": "code",
   "execution_count": 20,
   "metadata": {},
   "outputs": [
    {
     "data": {
      "text/plain": [
       "<Axes: xlabel='Order Date'>"
      ]
     },
     "execution_count": 20,
     "metadata": {},
     "output_type": "execute_result"
    },
    {
     "data": {
      "image/png": "[encoded data removed]",
      "text/plain": [
       "<Figure size 640x480 with 1 Axes>"
      ]
     },
     "metadata": {},
     "output_type": "display_data"
    }
   ],
   "source": [
    "furniture.plot()"
   ]
  },
  {
   "cell_type": "code",
   "execution_count": 21,
   "metadata": {
    "colab": {},
    "colab_type": "code",
    "id": "ShhlI-CQ2fH4"
   },
   "outputs": [],
   "source": [
    "y = furniture['Sales'].resample('MS').mean() "
   ]
  },
  {
   "cell_type": "code",
   "execution_count": 22,
   "metadata": {},
   "outputs": [
    {
     "data": {
      "text/plain": [
       "Order Date\n",
       "2014-01-01     480.194231\n",
       "2014-02-01     367.931600\n",
       "2014-03-01     857.291529\n",
       "2014-04-01     567.488357\n",
       "2014-05-01     432.049188\n",
       "2014-06-01     695.059242\n",
       "2014-07-01     601.169500\n",
       "2014-08-01     457.521656\n",
       "2014-09-01     992.353367\n",
       "2014-10-01     769.015437\n",
       "2014-11-01     980.221486\n",
       "2014-12-01    1532.298325\n",
       "2015-01-01     978.328467\n",
       "2015-02-01     522.395667\n",
       "2015-03-01     781.236437\n",
       "2015-04-01     805.822962\n",
       "2015-05-01     624.996700\n",
       "2015-06-01     428.565500\n",
       "2015-07-01     719.706316\n",
       "2015-08-01     602.412012\n",
       "2015-09-01    1382.790684\n",
       "2015-10-01     632.980184\n",
       "2015-11-01    1286.701354\n",
       "2015-12-01    1049.355418\n",
       "2016-01-01     508.182867\n",
       "2016-02-01     356.868273\n",
       "2016-03-01     609.575810\n",
       "2016-04-01     695.373158\n",
       "2016-05-01     687.265227\n",
       "2016-06-01     816.910750\n",
       "2016-07-01     768.736412\n",
       "2016-08-01     734.307782\n",
       "2016-09-01    1135.953371\n",
       "2016-10-01     624.872474\n",
       "2016-11-01    1271.345152\n",
       "2016-12-01    1410.719808\n",
       "2017-01-01     397.602133\n",
       "2017-02-01     528.179800\n",
       "2017-03-01     544.672240\n",
       "2017-04-01     453.297905\n",
       "2017-05-01     678.302328\n",
       "2017-06-01     826.460291\n",
       "2017-07-01     562.524857\n",
       "2017-08-01     857.881889\n",
       "2017-09-01    1209.508583\n",
       "2017-10-01     875.362728\n",
       "2017-11-01    1277.817759\n",
       "2017-12-01    1256.298672\n",
       "Freq: MS, Name: Sales, dtype: float64"
      ]
     },
     "execution_count": 22,
     "metadata": {},
     "output_type": "execute_result"
    }
   ],
   "source": [
    "y"
   ]
  },
  {
   "cell_type": "code",
   "execution_count": 23,
   "metadata": {
    "colab": {},
    "colab_type": "code",
    "id": "0RquBmFZ2fIA",
    "outputId": "8e108c34-3ece-4f9a-8718-bb81ad3f52e4"
   },
   "outputs": [
    {
     "data": {
      "text/plain": [
       "Order Date\n",
       "2017-01-01     397.602133\n",
       "2017-02-01     528.179800\n",
       "2017-03-01     544.672240\n",
       "2017-04-01     453.297905\n",
       "2017-05-01     678.302328\n",
       "2017-06-01     826.460291\n",
       "2017-07-01     562.524857\n",
       "2017-08-01     857.881889\n",
       "2017-09-01    1209.508583\n",
       "2017-10-01     875.362728\n",
       "2017-11-01    1277.817759\n",
       "2017-12-01    1256.298672\n",
       "Freq: MS, Name: Sales, dtype: float64"
      ]
     },
     "execution_count": 23,
     "metadata": {},
     "output_type": "execute_result"
    }
   ],
   "source": [
    "y['2017':]"
   ]
  },
  {
   "cell_type": "markdown",
   "metadata": {
    "colab_type": "text",
    "id": "ZhmEnOQw2fIM"
   },
   "source": [
    "<font color = red><font size = 5>Visualizing Furniture Sales Time Series Data</font>"
   ]
  },
  {
   "cell_type": "code",
   "execution_count": 24,
   "metadata": {
    "colab": {},
    "colab_type": "code",
    "id": "9ptjYqBH2fIS",
    "outputId": "3b174561-a0af-4316-a1d0-27ef663fb102"
   },
   "outputs": [
    {
     "data": {
      "image/png": "[encoded data removed]",
      "text/plain": [
       "<Figure size 1500x600 with 1 Axes>"
      ]
     },
     "metadata": {},
     "output_type": "display_data"
    }
   ],
   "source": [
    "y.plot(figsize=(15, 6))\n",
    "plt.show()"
   ]
  },
  {
   "cell_type": "markdown",
   "metadata": {
    "colab_type": "text",
    "id": "baqjp5IN2fIj"
   },
   "source": [
    "The plot clearly indicates that the time series has seasonality pattern.The sales are always low at the beginning of the year and high at the end of the year. There is always an upward trend within any single year with a couple of low months in the mid of the year"
   ]
  },
  {
   "cell_type": "code",
   "execution_count": 25,
   "metadata": {},
   "outputs": [],
   "source": [
    "train = y[:'2017-06-01']\n",
    "test = y['2017-07-01':]"
   ]
  },
  {
   "cell_type": "markdown",
   "metadata": {},
   "source": [
    "<font color = red><font size = 5> Single Exponential Smoothing </font>"
   ]
  },
  {
   "cell_type": "code",
   "execution_count": 26,
   "metadata": {},
   "outputs": [],
   "source": [
    "from statsmodels.tsa.holtwinters import ExponentialSmoothing"
   ]
  },
  {
   "cell_type": "code",
   "execution_count": 27,
   "metadata": {},
   "outputs": [],
   "source": [
    "# our guessed parameters\n",
    "alpha = 0.4\n",
    "beta = 0.2\n",
    "gamma = 0.01\n",
    "\n",
    "# initialise model\n",
    "ets_model = ExponentialSmoothing(train, trend='mul', seasonal='mul', seasonal_periods=12)\n",
    "ets_fit = ets_model.fit(smoothing_level=alpha, smoothing_slope=beta, smoothing_seasonal=gamma)"
   ]
  },
  {
   "cell_type": "code",
   "execution_count": 28,
   "metadata": {},
   "outputs": [
    {
     "data": {
      "text/plain": [
       "2017-07-01     741.423179\n",
       "2017-08-01     673.046733\n",
       "2017-09-01    1284.856839\n",
       "2017-10-01     756.386742\n",
       "2017-11-01    1368.828294\n",
       "2017-12-01    1556.822687\n",
       "2018-01-01     786.231093\n",
       "2018-02-01     591.221412\n",
       "2018-03-01     920.412321\n",
       "2018-04-01     861.026185\n",
       "2018-05-01     808.159743\n",
       "2018-06-01     947.976308\n",
       "Freq: MS, dtype: float64"
      ]
     },
     "execution_count": 28,
     "metadata": {},
     "output_type": "execute_result"
    }
   ],
   "source": [
    "fcast = ets_fit.forecast(steps=12)\n",
    "fcast"
   ]
  },
  {
   "cell_type": "code",
   "execution_count": 29,
   "metadata": {},
   "outputs": [
    {
     "data": {
      "text/plain": [
       "Order Date\n",
       "2017-07-01     562.524857\n",
       "2017-08-01     857.881889\n",
       "2017-09-01    1209.508583\n",
       "2017-10-01     875.362728\n",
       "2017-11-01    1277.817759\n",
       "2017-12-01    1256.298672\n",
       "Freq: MS, Name: Sales, dtype: float64"
      ]
     },
     "execution_count": 29,
     "metadata": {},
     "output_type": "execute_result"
    }
   ],
   "source": [
    "test"
   ]
  },
  {
   "cell_type": "code",
   "execution_count": 30,
   "metadata": {},
   "outputs": [
    {
     "name": "stdout",
     "output_type": "stream",
     "text": [
      "MSE:  30766.481756841287\n",
      "MAE:  158.26537848077865\n"
     ]
    }
   ],
   "source": [
    "print(\"MSE: \", np.mean((test-fcast)**2))\n",
    "print(\"MAE: \",np.mean(np.abs((test-fcast))))"
   ]
  },
  {
   "cell_type": "code",
   "execution_count": 31,
   "metadata": {},
   "outputs": [],
   "source": [
    "def ETS_auto(train, test,alpha=[None], beta=[None], gamma=[None]):\n",
    "    best_alpha=0\n",
    "    best_beta=0\n",
    "    best_gamma=0\n",
    "    best_mae=None\n",
    "    for i in alpha:\n",
    "        for j in beta:\n",
    "            for k in gamma:  \n",
    "                ets_model = ExponentialSmoothing(train, trend='mul', seasonal='mul', seasonal_periods=12)\n",
    "                ets_fit = ets_model.fit(smoothing_level=i, smoothing_slope=j, smoothing_seasonal=k)\n",
    "                fcast = ets_fit.forecast(steps=6)\n",
    "                mae=np.mean(np.abs((test-fcast)))\n",
    "                if best_mae is None or best_mae >mae:\n",
    "                    best_mae=mae\n",
    "                    best_alpha=i\n",
    "                    best_beta=j\n",
    "                    best_gamma=k\n",
    "    best_params={\"alpha\":i, \"beta\":j, \"gamma\":k,\"mae\":best_mae}\n",
    "    return best_params       "
   ]
  },
  {
   "cell_type": "code",
   "execution_count": 32,
   "metadata": {},
   "outputs": [],
   "source": [
    "import numpy as np\n",
    "from sklearn.metrics import mean_absolute_error\n",
    "from statsmodels.tsa.holtwinters import ExponentialSmoothing\n",
    "\n",
    "def auto_hwm(timeseries, val_split_date, alpha=[None], beta=[None], gamma=[None], phi=[None], \n",
    "              trend=None, seasonal=None, periods=None, verbose=False):\n",
    "\n",
    "    \n",
    "\n",
    "    best_params = []\n",
    "    actual = timeseries[val_split_date:]\n",
    "\n",
    "    print('Evaluating Exponential Smoothing model for', len(alpha) * len(beta) * len(gamma) * len(phi), 'fits\\n')\n",
    "\n",
    "    for a in alpha:\n",
    "        for b in beta:\n",
    "            for g in gamma:\n",
    "                for p in phi:\n",
    "\n",
    "                    if(verbose == True):\n",
    "                        print('Checking for', {'alpha': a, 'beta': b, 'gamma': g, 'phi': p})\n",
    "\n",
    "                    model = ExponentialSmoothing(timeseries, trend=trend, seasonal=seasonal, seasonal_periods=periods)\n",
    "                    model.fit(smoothing_level=a, smoothing_slope=b, smoothing_seasonal=g, damping_slope=p)\n",
    "                    f_cast = model.predict(model.params, start=actual.index[0])\n",
    "                    score = np.float64(mean_absolute_error(actual, f_cast)).mean()\n",
    "\n",
    "                    best_params.append({'alpha': a, 'beta': b, 'gamma': g, 'phi': p, 'mae': score})\n",
    "\n",
    "    return min(best_params, key=lambda x: x['mae'])\n"
   ]
  },
  {
   "cell_type": "code",
   "execution_count": 33,
   "metadata": {},
   "outputs": [
    {
     "name": "stdout",
     "output_type": "stream",
     "text": [
      "Evaluating Exponential Smoothing model for 125 fits\n",
      "\n",
      "Checking for {'alpha': 0.0, 'beta': 0.0, 'gamma': 0.0, 'phi': None}\n",
      "Checking for {'alpha': 0.0, 'beta': 0.0, 'gamma': 0.125, 'phi': None}\n",
      "Checking for {'alpha': 0.0, 'beta': 0.0, 'gamma': 0.25, 'phi': None}\n",
      "Checking for {'alpha': 0.0, 'beta': 0.0, 'gamma': 0.375, 'phi': None}\n",
      "Checking for {'alpha': 0.0, 'beta': 0.0, 'gamma': 0.5, 'phi': None}\n",
      "Checking for {'alpha': 0.0, 'beta': 0.125, 'gamma': 0.0, 'phi': None}\n",
      "Checking for {'alpha': 0.0, 'beta': 0.125, 'gamma': 0.125, 'phi': None}\n",
      "Checking for {'alpha': 0.0, 'beta': 0.125, 'gamma': 0.25, 'phi': None}\n",
      "Checking for {'alpha': 0.0, 'beta': 0.125, 'gamma': 0.375, 'phi': None}\n",
      "Checking for {'alpha': 0.0, 'beta': 0.125, 'gamma': 0.5, 'phi': None}\n",
      "Checking for {'alpha': 0.0, 'beta': 0.25, 'gamma': 0.0, 'phi': None}\n",
      "Checking for {'alpha': 0.0, 'beta': 0.25, 'gamma': 0.125, 'phi': None}\n",
      "Checking for {'alpha': 0.0, 'beta': 0.25, 'gamma': 0.25, 'phi': None}\n",
      "Checking for {'alpha': 0.0, 'beta': 0.25, 'gamma': 0.375, 'phi': None}\n",
      "Checking for {'alpha': 0.0, 'beta': 0.25, 'gamma': 0.5, 'phi': None}\n",
      "Checking for {'alpha': 0.0, 'beta': 0.375, 'gamma': 0.0, 'phi': None}\n",
      "Checking for {'alpha': 0.0, 'beta': 0.375, 'gamma': 0.125, 'phi': None}\n",
      "Checking for {'alpha': 0.0, 'beta': 0.375, 'gamma': 0.25, 'phi': None}\n",
      "Checking for {'alpha': 0.0, 'beta': 0.375, 'gamma': 0.375, 'phi': None}\n",
      "Checking for {'alpha': 0.0, 'beta': 0.375, 'gamma': 0.5, 'phi': None}\n",
      "Checking for {'alpha': 0.0, 'beta': 0.5, 'gamma': 0.0, 'phi': None}\n",
      "Checking for {'alpha': 0.0, 'beta': 0.5, 'gamma': 0.125, 'phi': None}\n",
      "Checking for {'alpha': 0.0, 'beta': 0.5, 'gamma': 0.25, 'phi': None}\n",
      "Checking for {'alpha': 0.0, 'beta': 0.5, 'gamma': 0.375, 'phi': None}\n",
      "Checking for {'alpha': 0.0, 'beta': 0.5, 'gamma': 0.5, 'phi': None}\n",
      "Checking for {'alpha': 0.125, 'beta': 0.0, 'gamma': 0.0, 'phi': None}\n",
      "Checking for {'alpha': 0.125, 'beta': 0.0, 'gamma': 0.125, 'phi': None}\n",
      "Checking for {'alpha': 0.125, 'beta': 0.0, 'gamma': 0.25, 'phi': None}\n",
      "Checking for {'alpha': 0.125, 'beta': 0.0, 'gamma': 0.375, 'phi': None}\n",
      "Checking for {'alpha': 0.125, 'beta': 0.0, 'gamma': 0.5, 'phi': None}\n",
      "Checking for {'alpha': 0.125, 'beta': 0.125, 'gamma': 0.0, 'phi': None}\n",
      "Checking for {'alpha': 0.125, 'beta': 0.125, 'gamma': 0.125, 'phi': None}\n",
      "Checking for {'alpha': 0.125, 'beta': 0.125, 'gamma': 0.25, 'phi': None}\n",
      "Checking for {'alpha': 0.125, 'beta': 0.125, 'gamma': 0.375, 'phi': None}\n",
      "Checking for {'alpha': 0.125, 'beta': 0.125, 'gamma': 0.5, 'phi': None}\n"
     ]
    },
    {
     "name": "stderr",
     "output_type": "stream",
     "text": [
      "c:\\Users\\KIIT\\AppData\\Local\\Programs\\Python\\Python310\\lib\\site-packages\\statsmodels\\tsa\\holtwinters\\model.py:917: ConvergenceWarning: Optimization failed to converge. Check mle_retvals.\n",
      "  warnings.warn(\n",
      "c:\\Users\\KIIT\\AppData\\Local\\Programs\\Python\\Python310\\lib\\site-packages\\statsmodels\\tsa\\holtwinters\\model.py:917: ConvergenceWarning: Optimization failed to converge. Check mle_retvals.\n",
      "  warnings.warn(\n",
      "c:\\Users\\KIIT\\AppData\\Local\\Programs\\Python\\Python310\\lib\\site-packages\\statsmodels\\tsa\\holtwinters\\model.py:917: ConvergenceWarning: Optimization failed to converge. Check mle_retvals.\n",
      "  warnings.warn(\n",
      "c:\\Users\\KIIT\\AppData\\Local\\Programs\\Python\\Python310\\lib\\site-packages\\statsmodels\\tsa\\holtwinters\\model.py:917: ConvergenceWarning: Optimization failed to converge. Check mle_retvals.\n",
      "  warnings.warn(\n",
      "c:\\Users\\KIIT\\AppData\\Local\\Programs\\Python\\Python310\\lib\\site-packages\\statsmodels\\tsa\\holtwinters\\model.py:917: ConvergenceWarning: Optimization failed to converge. Check mle_retvals.\n",
      "  warnings.warn(\n",
      "c:\\Users\\KIIT\\AppData\\Local\\Programs\\Python\\Python310\\lib\\site-packages\\statsmodels\\tsa\\holtwinters\\model.py:917: ConvergenceWarning: Optimization failed to converge. Check mle_retvals.\n",
      "  warnings.warn(\n",
      "c:\\Users\\KIIT\\AppData\\Local\\Programs\\Python\\Python310\\lib\\site-packages\\statsmodels\\tsa\\holtwinters\\model.py:917: ConvergenceWarning: Optimization failed to converge. Check mle_retvals.\n",
      "  warnings.warn(\n",
      "c:\\Users\\KIIT\\AppData\\Local\\Programs\\Python\\Python310\\lib\\site-packages\\statsmodels\\tsa\\holtwinters\\model.py:917: ConvergenceWarning: Optimization failed to converge. Check mle_retvals.\n",
      "  warnings.warn(\n",
      "c:\\Users\\KIIT\\AppData\\Local\\Programs\\Python\\Python310\\lib\\site-packages\\statsmodels\\tsa\\holtwinters\\model.py:917: ConvergenceWarning: Optimization failed to converge. Check mle_retvals.\n",
      "  warnings.warn(\n",
      "c:\\Users\\KIIT\\AppData\\Local\\Programs\\Python\\Python310\\lib\\site-packages\\statsmodels\\tsa\\holtwinters\\model.py:917: ConvergenceWarning: Optimization failed to converge. Check mle_retvals.\n",
      "  warnings.warn(\n",
      "c:\\Users\\KIIT\\AppData\\Local\\Programs\\Python\\Python310\\lib\\site-packages\\statsmodels\\tsa\\holtwinters\\model.py:917: ConvergenceWarning: Optimization failed to converge. Check mle_retvals.\n",
      "  warnings.warn(\n",
      "c:\\Users\\KIIT\\AppData\\Local\\Programs\\Python\\Python310\\lib\\site-packages\\statsmodels\\tsa\\holtwinters\\model.py:917: ConvergenceWarning: Optimization failed to converge. Check mle_retvals.\n",
      "  warnings.warn(\n",
      "c:\\Users\\KIIT\\AppData\\Local\\Programs\\Python\\Python310\\lib\\site-packages\\statsmodels\\tsa\\holtwinters\\model.py:917: ConvergenceWarning: Optimization failed to converge. Check mle_retvals.\n",
      "  warnings.warn(\n",
      "c:\\Users\\KIIT\\AppData\\Local\\Programs\\Python\\Python310\\lib\\site-packages\\statsmodels\\tsa\\holtwinters\\model.py:917: ConvergenceWarning: Optimization failed to converge. Check mle_retvals.\n",
      "  warnings.warn(\n",
      "c:\\Users\\KIIT\\AppData\\Local\\Programs\\Python\\Python310\\lib\\site-packages\\statsmodels\\tsa\\holtwinters\\model.py:917: ConvergenceWarning: Optimization failed to converge. Check mle_retvals.\n",
      "  warnings.warn(\n",
      "c:\\Users\\KIIT\\AppData\\Local\\Programs\\Python\\Python310\\lib\\site-packages\\statsmodels\\tsa\\holtwinters\\model.py:917: ConvergenceWarning: Optimization failed to converge. Check mle_retvals.\n",
      "  warnings.warn(\n",
      "c:\\Users\\KIIT\\AppData\\Local\\Programs\\Python\\Python310\\lib\\site-packages\\statsmodels\\tsa\\holtwinters\\model.py:917: ConvergenceWarning: Optimization failed to converge. Check mle_retvals.\n",
      "  warnings.warn(\n",
      "c:\\Users\\KIIT\\AppData\\Local\\Programs\\Python\\Python310\\lib\\site-packages\\statsmodels\\tsa\\holtwinters\\model.py:917: ConvergenceWarning: Optimization failed to converge. Check mle_retvals.\n",
      "  warnings.warn(\n",
      "c:\\Users\\KIIT\\AppData\\Local\\Programs\\Python\\Python310\\lib\\site-packages\\statsmodels\\tsa\\holtwinters\\model.py:917: ConvergenceWarning: Optimization failed to converge. Check mle_retvals.\n",
      "  warnings.warn(\n",
      "c:\\Users\\KIIT\\AppData\\Local\\Programs\\Python\\Python310\\lib\\site-packages\\statsmodels\\tsa\\holtwinters\\model.py:917: ConvergenceWarning: Optimization failed to converge. Check mle_retvals.\n",
      "  warnings.warn(\n",
      "c:\\Users\\KIIT\\AppData\\Local\\Programs\\Python\\Python310\\lib\\site-packages\\statsmodels\\tsa\\holtwinters\\model.py:917: ConvergenceWarning: Optimization failed to converge. Check mle_retvals.\n",
      "  warnings.warn(\n",
      "c:\\Users\\KIIT\\AppData\\Local\\Programs\\Python\\Python310\\lib\\site-packages\\statsmodels\\tsa\\holtwinters\\model.py:917: ConvergenceWarning: Optimization failed to converge. Check mle_retvals.\n",
      "  warnings.warn(\n",
      "c:\\Users\\KIIT\\AppData\\Local\\Programs\\Python\\Python310\\lib\\site-packages\\statsmodels\\tsa\\holtwinters\\model.py:917: ConvergenceWarning: Optimization failed to converge. Check mle_retvals.\n",
      "  warnings.warn(\n",
      "c:\\Users\\KIIT\\AppData\\Local\\Programs\\Python\\Python310\\lib\\site-packages\\statsmodels\\tsa\\holtwinters\\model.py:917: ConvergenceWarning: Optimization failed to converge. Check mle_retvals.\n",
      "  warnings.warn(\n",
      "c:\\Users\\KIIT\\AppData\\Local\\Programs\\Python\\Python310\\lib\\site-packages\\statsmodels\\tsa\\holtwinters\\model.py:917: ConvergenceWarning: Optimization failed to converge. Check mle_retvals.\n",
      "  warnings.warn(\n",
      "c:\\Users\\KIIT\\AppData\\Local\\Programs\\Python\\Python310\\lib\\site-packages\\statsmodels\\tsa\\holtwinters\\model.py:917: ConvergenceWarning: Optimization failed to converge. Check mle_retvals.\n",
      "  warnings.warn(\n"
     ]
    },
    {
     "name": "stdout",
     "output_type": "stream",
     "text": [
      "Checking for {'alpha': 0.125, 'beta': 0.25, 'gamma': 0.0, 'phi': None}\n",
      "Checking for {'alpha': 0.125, 'beta': 0.25, 'gamma': 0.125, 'phi': None}\n",
      "Checking for {'alpha': 0.125, 'beta': 0.25, 'gamma': 0.25, 'phi': None}\n",
      "Checking for {'alpha': 0.125, 'beta': 0.25, 'gamma': 0.375, 'phi': None}\n",
      "Checking for {'alpha': 0.125, 'beta': 0.25, 'gamma': 0.5, 'phi': None}\n",
      "Checking for {'alpha': 0.125, 'beta': 0.375, 'gamma': 0.0, 'phi': None}\n",
      "Checking for {'alpha': 0.125, 'beta': 0.375, 'gamma': 0.125, 'phi': None}\n",
      "Checking for {'alpha': 0.125, 'beta': 0.375, 'gamma': 0.25, 'phi': None}\n",
      "Checking for {'alpha': 0.125, 'beta': 0.375, 'gamma': 0.375, 'phi': None}\n",
      "Checking for {'alpha': 0.125, 'beta': 0.375, 'gamma': 0.5, 'phi': None}\n",
      "Checking for {'alpha': 0.125, 'beta': 0.5, 'gamma': 0.0, 'phi': None}\n",
      "Checking for {'alpha': 0.125, 'beta': 0.5, 'gamma': 0.125, 'phi': None}\n",
      "Checking for {'alpha': 0.125, 'beta': 0.5, 'gamma': 0.25, 'phi': None}\n",
      "Checking for {'alpha': 0.125, 'beta': 0.5, 'gamma': 0.375, 'phi': None}\n",
      "Checking for {'alpha': 0.125, 'beta': 0.5, 'gamma': 0.5, 'phi': None}\n",
      "Checking for {'alpha': 0.25, 'beta': 0.0, 'gamma': 0.0, 'phi': None}\n",
      "Checking for {'alpha': 0.25, 'beta': 0.0, 'gamma': 0.125, 'phi': None}\n",
      "Checking for {'alpha': 0.25, 'beta': 0.0, 'gamma': 0.25, 'phi': None}\n",
      "Checking for {'alpha': 0.25, 'beta': 0.0, 'gamma': 0.375, 'phi': None}\n",
      "Checking for {'alpha': 0.25, 'beta': 0.0, 'gamma': 0.5, 'phi': None}\n",
      "Checking for {'alpha': 0.25, 'beta': 0.125, 'gamma': 0.0, 'phi': None}\n",
      "Checking for {'alpha': 0.25, 'beta': 0.125, 'gamma': 0.125, 'phi': None}\n",
      "Checking for {'alpha': 0.25, 'beta': 0.125, 'gamma': 0.25, 'phi': None}\n",
      "Checking for {'alpha': 0.25, 'beta': 0.125, 'gamma': 0.375, 'phi': None}\n",
      "Checking for {'alpha': 0.25, 'beta': 0.125, 'gamma': 0.5, 'phi': None}\n",
      "Checking for {'alpha': 0.25, 'beta': 0.25, 'gamma': 0.0, 'phi': None}\n",
      "Checking for {'alpha': 0.25, 'beta': 0.25, 'gamma': 0.125, 'phi': None}\n",
      "Checking for {'alpha': 0.25, 'beta': 0.25, 'gamma': 0.25, 'phi': None}\n",
      "Checking for {'alpha': 0.25, 'beta': 0.25, 'gamma': 0.375, 'phi': None}\n",
      "Checking for {'alpha': 0.25, 'beta': 0.25, 'gamma': 0.5, 'phi': None}\n",
      "Checking for {'alpha': 0.25, 'beta': 0.375, 'gamma': 0.0, 'phi': None}\n",
      "Checking for {'alpha': 0.25, 'beta': 0.375, 'gamma': 0.125, 'phi': None}\n",
      "Checking for {'alpha': 0.25, 'beta': 0.375, 'gamma': 0.25, 'phi': None}\n",
      "Checking for {'alpha': 0.25, 'beta': 0.375, 'gamma': 0.375, 'phi': None}\n",
      "Checking for {'alpha': 0.25, 'beta': 0.375, 'gamma': 0.5, 'phi': None}\n",
      "Checking for {'alpha': 0.25, 'beta': 0.5, 'gamma': 0.0, 'phi': None}\n",
      "Checking for {'alpha': 0.25, 'beta': 0.5, 'gamma': 0.125, 'phi': None}\n",
      "Checking for {'alpha': 0.25, 'beta': 0.5, 'gamma': 0.25, 'phi': None}\n",
      "Checking for {'alpha': 0.25, 'beta': 0.5, 'gamma': 0.375, 'phi': None}\n",
      "Checking for {'alpha': 0.25, 'beta': 0.5, 'gamma': 0.5, 'phi': None}\n",
      "Checking for {'alpha': 0.375, 'beta': 0.0, 'gamma': 0.0, 'phi': None}\n",
      "Checking for {'alpha': 0.375, 'beta': 0.0, 'gamma': 0.125, 'phi': None}\n",
      "Checking for {'alpha': 0.375, 'beta': 0.0, 'gamma': 0.25, 'phi': None}\n",
      "Checking for {'alpha': 0.375, 'beta': 0.0, 'gamma': 0.375, 'phi': None}\n",
      "Checking for {'alpha': 0.375, 'beta': 0.0, 'gamma': 0.5, 'phi': None}\n",
      "Checking for {'alpha': 0.375, 'beta': 0.125, 'gamma': 0.0, 'phi': None}\n",
      "Checking for {'alpha': 0.375, 'beta': 0.125, 'gamma': 0.125, 'phi': None}\n",
      "Checking for {'alpha': 0.375, 'beta': 0.125, 'gamma': 0.25, 'phi': None}\n",
      "Checking for {'alpha': 0.375, 'beta': 0.125, 'gamma': 0.375, 'phi': None}\n",
      "Checking for {'alpha': 0.375, 'beta': 0.125, 'gamma': 0.5, 'phi': None}\n",
      "Checking for {'alpha': 0.375, 'beta': 0.25, 'gamma': 0.0, 'phi': None}\n",
      "Checking for {'alpha': 0.375, 'beta': 0.25, 'gamma': 0.125, 'phi': None}\n",
      "Checking for {'alpha': 0.375, 'beta': 0.25, 'gamma': 0.25, 'phi': None}\n",
      "Checking for {'alpha': 0.375, 'beta': 0.25, 'gamma': 0.375, 'phi': None}\n",
      "Checking for {'alpha': 0.375, 'beta': 0.25, 'gamma': 0.5, 'phi': None}\n",
      "Checking for {'alpha': 0.375, 'beta': 0.375, 'gamma': 0.0, 'phi': None}\n",
      "Checking for {'alpha': 0.375, 'beta': 0.375, 'gamma': 0.125, 'phi': None}\n",
      "Checking for {'alpha': 0.375, 'beta': 0.375, 'gamma': 0.25, 'phi': None}\n",
      "Checking for {'alpha': 0.375, 'beta': 0.375, 'gamma': 0.375, 'phi': None}\n",
      "Checking for {'alpha': 0.375, 'beta': 0.375, 'gamma': 0.5, 'phi': None}\n",
      "Checking for {'alpha': 0.375, 'beta': 0.5, 'gamma': 0.0, 'phi': None}\n",
      "Checking for {'alpha': 0.375, 'beta': 0.5, 'gamma': 0.125, 'phi': None}\n",
      "Checking for {'alpha': 0.375, 'beta': 0.5, 'gamma': 0.25, 'phi': None}\n",
      "Checking for {'alpha': 0.375, 'beta': 0.5, 'gamma': 0.375, 'phi': None}\n",
      "Checking for {'alpha': 0.375, 'beta': 0.5, 'gamma': 0.5, 'phi': None}\n",
      "Checking for {'alpha': 0.5, 'beta': 0.0, 'gamma': 0.0, 'phi': None}\n",
      "Checking for {'alpha': 0.5, 'beta': 0.0, 'gamma': 0.125, 'phi': None}\n",
      "Checking for {'alpha': 0.5, 'beta': 0.0, 'gamma': 0.25, 'phi': None}\n",
      "Checking for {'alpha': 0.5, 'beta': 0.0, 'gamma': 0.375, 'phi': None}\n",
      "Checking for {'alpha': 0.5, 'beta': 0.0, 'gamma': 0.5, 'phi': None}\n",
      "Checking for {'alpha': 0.5, 'beta': 0.125, 'gamma': 0.0, 'phi': None}\n",
      "Checking for {'alpha': 0.5, 'beta': 0.125, 'gamma': 0.125, 'phi': None}\n",
      "Checking for {'alpha': 0.5, 'beta': 0.125, 'gamma': 0.25, 'phi': None}\n",
      "Checking for {'alpha': 0.5, 'beta': 0.125, 'gamma': 0.375, 'phi': None}\n",
      "Checking for {'alpha': 0.5, 'beta': 0.125, 'gamma': 0.5, 'phi': None}\n",
      "Checking for {'alpha': 0.5, 'beta': 0.25, 'gamma': 0.0, 'phi': None}\n",
      "Checking for {'alpha': 0.5, 'beta': 0.25, 'gamma': 0.125, 'phi': None}\n",
      "Checking for {'alpha': 0.5, 'beta': 0.25, 'gamma': 0.25, 'phi': None}\n",
      "Checking for {'alpha': 0.5, 'beta': 0.25, 'gamma': 0.375, 'phi': None}\n",
      "Checking for {'alpha': 0.5, 'beta': 0.25, 'gamma': 0.5, 'phi': None}\n",
      "Checking for {'alpha': 0.5, 'beta': 0.375, 'gamma': 0.0, 'phi': None}\n",
      "Checking for {'alpha': 0.5, 'beta': 0.375, 'gamma': 0.125, 'phi': None}\n",
      "Checking for {'alpha': 0.5, 'beta': 0.375, 'gamma': 0.25, 'phi': None}\n",
      "Checking for {'alpha': 0.5, 'beta': 0.375, 'gamma': 0.375, 'phi': None}\n",
      "Checking for {'alpha': 0.5, 'beta': 0.375, 'gamma': 0.5, 'phi': None}\n",
      "Checking for {'alpha': 0.5, 'beta': 0.5, 'gamma': 0.0, 'phi': None}\n",
      "Checking for {'alpha': 0.5, 'beta': 0.5, 'gamma': 0.125, 'phi': None}\n",
      "Checking for {'alpha': 0.5, 'beta': 0.5, 'gamma': 0.25, 'phi': None}\n",
      "Checking for {'alpha': 0.5, 'beta': 0.5, 'gamma': 0.375, 'phi': None}\n",
      "Checking for {'alpha': 0.5, 'beta': 0.5, 'gamma': 0.5, 'phi': None}\n"
     ]
    },
    {
     "data": {
      "text/plain": [
       "{'alpha': 0.25,\n",
       " 'beta': 0.0,\n",
       " 'gamma': 0.0,\n",
       " 'phi': None,\n",
       " 'mae': 101.03153844864019}"
      ]
     },
     "execution_count": 33,
     "metadata": {},
     "output_type": "execute_result"
    }
   ],
   "source": [
    "auto_hwm(y, val_split_date = '2017-06-01', \n",
    "         alpha = np.linspace(0,0.5,5), \n",
    "         beta = np.linspace(0,0.5,5), \n",
    "         gamma = np.linspace(0,0.5,5), \n",
    "         trend='mul', \n",
    "         seasonal='mul', \n",
    "         periods=12, verbose=True)"
   ]
  },
  {
   "cell_type": "code",
   "execution_count": 34,
   "metadata": {},
   "outputs": [],
   "source": [
    "# best parameters\n",
    "alpha = 0.125\n",
    "beta = 0.375\n",
    "gamma = 0\n",
    "\n",
    "# initialise model\n",
    "ets_model = ExponentialSmoothing(y, trend='mul', seasonal='mul', seasonal_periods=12)\n",
    "ets_fit = ets_model.fit(smoothing_level=alpha, smoothing_slope=beta, smoothing_seasonal=gamma)"
   ]
  },
  {
   "cell_type": "code",
   "execution_count": 35,
   "metadata": {},
   "outputs": [],
   "source": [
    "fcast = ets_fit.forecast(steps=12)"
   ]
  },
  {
   "cell_type": "code",
   "execution_count": 36,
   "metadata": {},
   "outputs": [
    {
     "data": {
      "text/plain": [
       "2018-01-01     679.902019\n",
       "2018-02-01     529.622863\n",
       "2018-03-01     829.538654\n",
       "2018-04-01     737.774071\n",
       "2018-05-01     732.251045\n",
       "2018-06-01     781.096379\n",
       "2018-07-01     815.626156\n",
       "2018-08-01     830.131829\n",
       "2018-09-01    1454.141160\n",
       "2018-10-01     900.265092\n",
       "2018-11-01    1525.660229\n",
       "2018-12-01    1689.218376\n",
       "Freq: MS, dtype: float64"
      ]
     },
     "execution_count": 36,
     "metadata": {},
     "output_type": "execute_result"
    }
   ],
   "source": [
    "fcast"
   ]
  },
  {
   "cell_type": "markdown",
   "metadata": {
    "colab_type": "text",
    "id": "AE9tBgZx2fIj"
   },
   "source": [
    "<font color = red><font size = 5>Checking Stationarity </font>"
   ]
  },
  {
   "cell_type": "code",
   "execution_count": 37,
   "metadata": {},
   "outputs": [],
   "source": [
    "from statsmodels.tsa.stattools import adfuller"
   ]
  },
  {
   "cell_type": "code",
   "execution_count": 38,
   "metadata": {},
   "outputs": [
    {
     "data": {
      "text/plain": [
       "(-5.191070187339274,\n",
       " 9.1687566556655e-06,\n",
       " 10,\n",
       " 37,\n",
       " {'1%': -3.6209175221605827,\n",
       "  '5%': -2.9435394610388332,\n",
       "  '10%': -2.6104002410518627},\n",
       " 521.9616303121272)"
      ]
     },
     "execution_count": 38,
     "metadata": {},
     "output_type": "execute_result"
    }
   ],
   "source": [
    "adfuller(y)"
   ]
  },
  {
   "cell_type": "code",
   "execution_count": 39,
   "metadata": {
    "colab": {},
    "colab_type": "code",
    "id": "Ai7--10D2fIp",
    "outputId": "42e3da28-9e0f-40da-ae0d-e8e229cf5085"
   },
   "outputs": [
    {
     "name": "stdout",
     "output_type": "stream",
     "text": [
      "ADF Statistic: -5.191070\n",
      "p-value: 0.000009\n",
      "Critical Values:\n",
      "\t1%: -3.621\n",
      "\t5%: -2.944\n",
      "\t10%: -2.610\n"
     ]
    }
   ],
   "source": [
    "from pandas import Series\n",
    "from statsmodels.tsa.stattools import adfuller\n",
    "result = adfuller(y)\n",
    "print('ADF Statistic: %f' % result[0])\n",
    "print('p-value: %f' % result[1])\n",
    "print('Critical Values:')\n",
    "for key, value in result[4].items():\n",
    "    print('\\t%s: %.3f' % (key, value))"
   ]
  },
  {
   "cell_type": "markdown",
   "metadata": {
    "colab_type": "text",
    "id": "P_wzokgY2fI3"
   },
   "source": [
    "We can see that our statistic value of -5.191070 is less than the value of -3.621 at 1%. This suggests that we can reject the null hypothesis with a significance level of less than 1% (i.e. a low probability that the result is a statistical fluke). Rejecting the null hypothesis means that the process has no unit root, and in turn that the time series is stationary or does not have time-dependent structure.\n",
    "\n",
    "The p-value is 0.000009, which is way below the threshold (0.05). Hence the null-hypothesis is rejected. It suggests the time series does not have a unit root, meaning it is stationary."
   ]
  },
  {
   "cell_type": "markdown",
   "metadata": {
    "colab_type": "text",
    "id": "pXlsMkzz2fI4"
   },
   "source": [
    "<font color = red><font size = 5>Decomposing : </font></br>\n",
    "<font color = black><font size = 3>Decomposing the time series into three distinct components: trend, seasonality, and noise.</font>"
   ]
  },
  {
   "cell_type": "code",
   "execution_count": 40,
   "metadata": {},
   "outputs": [
    {
     "data": {
      "text/plain": [
       "<statsmodels.tsa.seasonal.DecomposeResult at 0x234fe894fa0>"
      ]
     },
     "execution_count": 40,
     "metadata": {},
     "output_type": "execute_result"
    }
   ],
   "source": [
    "from statsmodels.tsa.seasonal import seasonal_decompose\n",
    "decomposition = seasonal_decompose(y, model='multiplicative',  two_sided=False, extrapolate_trend=4)\n",
    "decomposition"
   ]
  },
  {
   "cell_type": "code",
   "execution_count": 41,
   "metadata": {
    "colab": {},
    "colab_type": "code",
    "id": "SSi8mWUB2fI_",
    "outputId": "bdffe368-aa57-441c-e6ee-bb619140531e"
   },
   "outputs": [
    {
     "data": {
      "image/png": "[encoded data removed]",
      "text/plain": [
       "<Figure size 640x480 with 1 Axes>"
      ]
     },
     "metadata": {},
     "output_type": "display_data"
    },
    {
     "data": {
      "image/png": "[encoded data removed]",
      "text/plain": [
       "<Figure size 640x480 with 1 Axes>"
      ]
     },
     "metadata": {},
     "output_type": "display_data"
    },
    {
     "data": {
      "image/png": "[encoded data removed]",
      "text/plain": [
       "<Figure size 640x480 with 1 Axes>"
      ]
     },
     "metadata": {},
     "output_type": "display_data"
    },
    {
     "data": {
      "text/plain": [
       "<matplotlib.legend.Legend at 0x234fe72c3d0>"
      ]
     },
     "execution_count": 41,
     "metadata": {},
     "output_type": "execute_result"
    },
    {
     "data": {
      "image/png": "[encoded data removed]",
      "text/plain": [
       "<Figure size 640x480 with 1 Axes>"
      ]
     },
     "metadata": {},
     "output_type": "display_data"
    }
   ],
   "source": [
    "from statsmodels.tsa.seasonal import seasonal_decompose\n",
    "decomposition = seasonal_decompose(y, model='multiplicative',  two_sided=False, extrapolate_trend=4)\n",
    "\n",
    "plt.plot(y, label = 'Original')\n",
    "plt.legend(loc = 'best')\n",
    "\n",
    "trend = decomposition.trend\n",
    "plt.show()\n",
    "plt.plot(trend, label = 'Trend')\n",
    "plt.legend(loc = 'best')\n",
    "\n",
    "seasonal = decomposition.seasonal\n",
    "plt.show()\n",
    "plt.plot(seasonal, label = 'Seasonal')\n",
    "plt.legend(loc = 'best')\n",
    "\n",
    "residual = decomposition.resid\n",
    "plt.show()\n",
    "plt.plot(residual, label = 'Residual')\n",
    "plt.legend(loc='best')"
   ]
  },
  {
   "cell_type": "markdown",
   "metadata": {
    "colab_type": "text",
    "id": "ag1uQgOh2fJF"
   },
   "source": [
    "By visualizing the decomposed components of the original time series we can say that the sales of furniture is unstable, along with its obvious seasonality."
   ]
  },
  {
   "cell_type": "markdown",
   "metadata": {
    "colab_type": "text",
    "id": "P8lrmUY22fJI"
   },
   "source": [
    "<font color = red><font size = 5>Forecasting</font>"
   ]
  },
  {
   "cell_type": "markdown",
   "metadata": {
    "colab_type": "text",
    "id": "DzimuzaE2fJK"
   },
   "source": [
    "<font color = red><font size = 4>Time Series Forecasting using ARIMA</font></br>\n",
    "<font color = black><font size = 2>We will use ARIMA for forecasting our time series. ARIMA is also denoted as ARIMA(p,d,q) where p,d,q accounts for seasonality, trend and noise in the time series data</font>"
   ]
  },
  {
   "cell_type": "code",
   "execution_count": 42,
   "metadata": {
    "colab": {},
    "colab_type": "code",
    "id": "gYUZlLQW2fJL",
    "outputId": "ba489325-a76e-4d13-bc6b-a240cf888320"
   },
   "outputs": [
    {
     "name": "stdout",
     "output_type": "stream",
     "text": [
      "Examples of parameter combinations for Seasonal ARIMA...\n",
      "SARIMAX: (0, 0, 1) x (0, 0, 1, 12)\n",
      "SARIMAX: (0, 0, 1) x (0, 0, 2, 12)\n",
      "SARIMAX: (0, 0, 2) x (0, 1, 0, 12)\n",
      "SARIMAX: (0, 0, 2) x (0, 1, 1, 12)\n"
     ]
    }
   ],
   "source": [
    "p = d = q = range(0, 3)\n",
    "pdq = list(itertools.product(p, d, q))\n",
    "\n",
    "seasonal_pdq = [(x[0], x[1], x[2], 12) for x in list(itertools.product(p, d, q))]\n",
    "print('Examples of parameter combinations for Seasonal ARIMA...')\n",
    "print('SARIMAX: {} x {}'.format(pdq[1], seasonal_pdq[1]))\n",
    "print('SARIMAX: {} x {}'.format(pdq[1], seasonal_pdq[2]))\n",
    "print('SARIMAX: {} x {}'.format(pdq[2], seasonal_pdq[3]))\n",
    "print('SARIMAX: {} x {}'.format(pdq[2], seasonal_pdq[4]))"
   ]
  },
  {
   "cell_type": "markdown",
   "metadata": {
    "colab_type": "text",
    "id": "OhpHQ-uZ2fJQ"
   },
   "source": [
    "<font color = red><font size = 4>Parameter Selection </font></br>\n",
    "<font color = black><font size = 2>We use “grid search” to find the optimal set of parameters that yields the best performance for our model."
   ]
  },
  {
   "cell_type": "code",
   "execution_count": 43,
   "metadata": {
    "colab": {},
    "colab_type": "code",
    "id": "4PH7LPy82fJR",
    "outputId": "cc82e03d-9c2a-495c-cda9-ade16ce5a8b8"
   },
   "outputs": [
    {
     "name": "stdout",
     "output_type": "stream",
     "text": [
      "ARIMA(0, 0, 0)x(0, 0, 0, 12)12 - AIC:769.0817523205915\n",
      "ARIMA(0, 0, 0)x(0, 0, 1, 12)12 - AIC:1376.2755826218497\n",
      "ARIMA(0, 0, 0)x(0, 0, 2, 12)12 - AIC:354.7862732411514\n",
      "ARIMA(0, 0, 0)x(0, 1, 0, 12)12 - AIC:477.7170130920111\n",
      "ARIMA(0, 0, 0)x(0, 1, 1, 12)12 - AIC:302.27028997936003\n"
     ]
    },
    {
     "name": "stderr",
     "output_type": "stream",
     "text": [
      "c:\\Users\\KIIT\\AppData\\Local\\Programs\\Python\\Python310\\lib\\site-packages\\statsmodels\\base\\model.py:607: ConvergenceWarning: Maximum Likelihood optimization failed to converge. Check mle_retvals\n",
      "  warnings.warn(\"Maximum Likelihood optimization failed to \"\n"
     ]
    },
    {
     "name": "stdout",
     "output_type": "stream",
     "text": [
      "ARIMA(0, 0, 0)x(0, 1, 2, 12)12 - AIC:146.88834672428874\n",
      "ARIMA(0, 0, 0)x(0, 2, 0, 12)12 - AIC:336.95366048588164\n",
      "ARIMA(0, 0, 0)x(0, 2, 1, 12)12 - AIC:149.84561033293159\n",
      "ARIMA(0, 0, 0)x(0, 2, 2, 12)12 - AIC:6.0\n",
      "ARIMA(0, 0, 0)x(1, 0, 0, 12)12 - AIC:497.23144334183365\n",
      "ARIMA(0, 0, 0)x(1, 0, 1, 12)12 - AIC:1278.1688813825808\n"
     ]
    },
    {
     "name": "stderr",
     "output_type": "stream",
     "text": [
      "c:\\Users\\KIIT\\AppData\\Local\\Programs\\Python\\Python310\\lib\\site-packages\\statsmodels\\base\\model.py:607: ConvergenceWarning: Maximum Likelihood optimization failed to converge. Check mle_retvals\n",
      "  warnings.warn(\"Maximum Likelihood optimization failed to \"\n"
     ]
    },
    {
     "name": "stdout",
     "output_type": "stream",
     "text": [
      "ARIMA(0, 0, 0)x(1, 0, 2, 12)12 - AIC:309.56039684302846\n",
      "ARIMA(0, 0, 0)x(1, 1, 0, 12)12 - AIC:318.0047199116341\n",
      "ARIMA(0, 0, 0)x(1, 1, 1, 12)12 - AIC:304.24882803008137\n",
      "ARIMA(0, 0, 0)x(1, 1, 2, 12)12 - AIC:148.83996706808242\n",
      "ARIMA(0, 0, 0)x(1, 2, 0, 12)12 - AIC:162.12029487165506\n",
      "ARIMA(0, 0, 0)x(1, 2, 1, 12)12 - AIC:151.35761674830633\n",
      "ARIMA(0, 0, 0)x(1, 2, 2, 12)12 - AIC:8.0\n",
      "ARIMA(0, 0, 0)x(2, 0, 0, 12)12 - AIC:319.96929434508735\n"
     ]
    },
    {
     "name": "stderr",
     "output_type": "stream",
     "text": [
      "c:\\Users\\KIIT\\AppData\\Local\\Programs\\Python\\Python310\\lib\\site-packages\\statsmodels\\base\\model.py:607: ConvergenceWarning: Maximum Likelihood optimization failed to converge. Check mle_retvals\n",
      "  warnings.warn(\"Maximum Likelihood optimization failed to \"\n"
     ]
    },
    {
     "name": "stdout",
     "output_type": "stream",
     "text": [
      "ARIMA(0, 0, 0)x(2, 0, 1, 12)12 - AIC:946.2587115701066\n",
      "ARIMA(0, 0, 0)x(2, 0, 2, 12)12 - AIC:307.89818464737334\n",
      "ARIMA(0, 0, 0)x(2, 1, 0, 12)12 - AIC:159.5144730671919\n"
     ]
    },
    {
     "name": "stderr",
     "output_type": "stream",
     "text": [
      "c:\\Users\\KIIT\\AppData\\Local\\Programs\\Python\\Python310\\lib\\site-packages\\statsmodels\\base\\model.py:607: ConvergenceWarning: Maximum Likelihood optimization failed to converge. Check mle_retvals\n",
      "  warnings.warn(\"Maximum Likelihood optimization failed to \"\n"
     ]
    },
    {
     "name": "stdout",
     "output_type": "stream",
     "text": [
      "ARIMA(0, 0, 0)x(2, 1, 1, 12)12 - AIC:161.29079485585527\n",
      "ARIMA(0, 0, 0)x(2, 1, 2, 12)12 - AIC:150.77405841140103\n",
      "ARIMA(0, 0, 0)x(2, 2, 0, 12)12 - AIC:6.0\n",
      "ARIMA(0, 0, 0)x(2, 2, 1, 12)12 - AIC:8.0\n",
      "ARIMA(0, 0, 0)x(2, 2, 2, 12)12 - AIC:10.0\n",
      "ARIMA(0, 0, 1)x(0, 0, 0, 12)12 - AIC:720.9252270758095\n",
      "ARIMA(0, 0, 1)x(0, 0, 1, 12)12 - AIC:2673.1072596186937\n",
      "ARIMA(0, 0, 1)x(0, 0, 2, 12)12 - AIC:323.4436688558341\n",
      "ARIMA(0, 0, 1)x(0, 1, 0, 12)12 - AIC:466.56074298091437\n"
     ]
    },
    {
     "name": "stderr",
     "output_type": "stream",
     "text": [
      "c:\\Users\\KIIT\\AppData\\Local\\Programs\\Python\\Python310\\lib\\site-packages\\statsmodels\\base\\model.py:607: ConvergenceWarning: Maximum Likelihood optimization failed to converge. Check mle_retvals\n",
      "  warnings.warn(\"Maximum Likelihood optimization failed to \"\n"
     ]
    },
    {
     "name": "stdout",
     "output_type": "stream",
     "text": [
      "ARIMA(0, 0, 1)x(0, 1, 1, 12)12 - AIC:291.6261389673287\n",
      "ARIMA(0, 0, 1)x(0, 1, 2, 12)12 - AIC:135.8829359895526\n",
      "ARIMA(0, 0, 1)x(0, 2, 0, 12)12 - AIC:324.41357896713566\n",
      "ARIMA(0, 0, 1)x(0, 2, 1, 12)12 - AIC:136.53719210574513\n",
      "ARIMA(0, 0, 1)x(0, 2, 2, 12)12 - AIC:8.0\n"
     ]
    },
    {
     "name": "stderr",
     "output_type": "stream",
     "text": [
      "c:\\Users\\KIIT\\AppData\\Local\\Programs\\Python\\Python310\\lib\\site-packages\\statsmodels\\base\\model.py:607: ConvergenceWarning: Maximum Likelihood optimization failed to converge. Check mle_retvals\n",
      "  warnings.warn(\"Maximum Likelihood optimization failed to \"\n",
      "c:\\Users\\KIIT\\AppData\\Local\\Programs\\Python\\Python310\\lib\\site-packages\\statsmodels\\base\\model.py:607: ConvergenceWarning: Maximum Likelihood optimization failed to converge. Check mle_retvals\n",
      "  warnings.warn(\"Maximum Likelihood optimization failed to \"\n"
     ]
    },
    {
     "name": "stdout",
     "output_type": "stream",
     "text": [
      "ARIMA(0, 0, 1)x(1, 0, 0, 12)12 - AIC:499.5665720564813\n",
      "ARIMA(0, 0, 1)x(1, 0, 1, 12)12 - AIC:2528.6245814098006\n"
     ]
    },
    {
     "name": "stderr",
     "output_type": "stream",
     "text": [
      "c:\\Users\\KIIT\\AppData\\Local\\Programs\\Python\\Python310\\lib\\site-packages\\statsmodels\\base\\model.py:607: ConvergenceWarning: Maximum Likelihood optimization failed to converge. Check mle_retvals\n",
      "  warnings.warn(\"Maximum Likelihood optimization failed to \"\n"
     ]
    },
    {
     "name": "stdout",
     "output_type": "stream",
     "text": [
      "ARIMA(0, 0, 1)x(1, 0, 2, 12)12 - AIC:299.1199989025949\n",
      "ARIMA(0, 0, 1)x(1, 1, 0, 12)12 - AIC:319.9884876946865\n",
      "ARIMA(0, 0, 1)x(1, 1, 1, 12)12 - AIC:291.8725576458952\n",
      "ARIMA(0, 0, 1)x(1, 1, 2, 12)12 - AIC:137.6340991455565\n",
      "ARIMA(0, 0, 1)x(1, 2, 0, 12)12 - AIC:163.98834428111348\n",
      "ARIMA(0, 0, 1)x(1, 2, 1, 12)12 - AIC:137.70652786351843\n",
      "ARIMA(0, 0, 1)x(1, 2, 2, 12)12 - AIC:10.0\n",
      "ARIMA(0, 0, 1)x(2, 0, 0, 12)12 - AIC:321.96452770305734\n",
      "ARIMA(0, 0, 1)x(2, 0, 1, 12)12 - AIC:929.5302653272922\n"
     ]
    },
    {
     "name": "stderr",
     "output_type": "stream",
     "text": [
      "c:\\Users\\KIIT\\AppData\\Local\\Programs\\Python\\Python310\\lib\\site-packages\\statsmodels\\base\\model.py:607: ConvergenceWarning: Maximum Likelihood optimization failed to converge. Check mle_retvals\n",
      "  warnings.warn(\"Maximum Likelihood optimization failed to \"\n"
     ]
    },
    {
     "name": "stdout",
     "output_type": "stream",
     "text": [
      "ARIMA(0, 0, 1)x(2, 0, 2, 12)12 - AIC:296.9826016384092\n",
      "ARIMA(0, 0, 1)x(2, 1, 0, 12)12 - AIC:160.85410049250052\n",
      "ARIMA(0, 0, 1)x(2, 1, 1, 12)12 - AIC:162.63152999199508\n"
     ]
    },
    {
     "name": "stderr",
     "output_type": "stream",
     "text": [
      "c:\\Users\\KIIT\\AppData\\Local\\Programs\\Python\\Python310\\lib\\site-packages\\statsmodels\\base\\model.py:607: ConvergenceWarning: Maximum Likelihood optimization failed to converge. Check mle_retvals\n",
      "  warnings.warn(\"Maximum Likelihood optimization failed to \"\n"
     ]
    },
    {
     "name": "stdout",
     "output_type": "stream",
     "text": [
      "ARIMA(0, 0, 1)x(2, 1, 2, 12)12 - AIC:134.84092696801008\n",
      "ARIMA(0, 0, 1)x(2, 2, 0, 12)12 - AIC:8.0\n",
      "ARIMA(0, 0, 1)x(2, 2, 1, 12)12 - AIC:10.0\n",
      "ARIMA(0, 0, 1)x(2, 2, 2, 12)12 - AIC:12.0\n",
      "ARIMA(0, 0, 2)x(0, 0, 0, 12)12 - AIC:695.9854310935226\n",
      "ARIMA(0, 0, 2)x(0, 0, 1, 12)12 - AIC:2533.305816992043\n"
     ]
    },
    {
     "name": "stderr",
     "output_type": "stream",
     "text": [
      "c:\\Users\\KIIT\\AppData\\Local\\Programs\\Python\\Python310\\lib\\site-packages\\statsmodels\\base\\model.py:607: ConvergenceWarning: Maximum Likelihood optimization failed to converge. Check mle_retvals\n",
      "  warnings.warn(\"Maximum Likelihood optimization failed to \"\n"
     ]
    },
    {
     "name": "stdout",
     "output_type": "stream",
     "text": [
      "ARIMA(0, 0, 2)x(0, 0, 2, 12)12 - AIC:311.1637201320492\n",
      "ARIMA(0, 0, 2)x(0, 1, 0, 12)12 - AIC:455.2093474618755\n",
      "ARIMA(0, 0, 2)x(0, 1, 1, 12)12 - AIC:279.996668914431\n"
     ]
    },
    {
     "name": "stderr",
     "output_type": "stream",
     "text": [
      "c:\\Users\\KIIT\\AppData\\Local\\Programs\\Python\\Python310\\lib\\site-packages\\statsmodels\\base\\model.py:607: ConvergenceWarning: Maximum Likelihood optimization failed to converge. Check mle_retvals\n",
      "  warnings.warn(\"Maximum Likelihood optimization failed to \"\n"
     ]
    },
    {
     "name": "stdout",
     "output_type": "stream",
     "text": [
      "ARIMA(0, 0, 2)x(0, 1, 2, 12)12 - AIC:121.513209687251\n",
      "ARIMA(0, 0, 2)x(0, 2, 0, 12)12 - AIC:311.8417385725343\n",
      "ARIMA(0, 0, 2)x(0, 2, 1, 12)12 - AIC:121.64768702815829\n",
      "ARIMA(0, 0, 2)x(0, 2, 2, 12)12 - AIC:10.0\n"
     ]
    },
    {
     "name": "stderr",
     "output_type": "stream",
     "text": [
      "c:\\Users\\KIIT\\AppData\\Local\\Programs\\Python\\Python310\\lib\\site-packages\\statsmodels\\base\\model.py:607: ConvergenceWarning: Maximum Likelihood optimization failed to converge. Check mle_retvals\n",
      "  warnings.warn(\"Maximum Likelihood optimization failed to \"\n"
     ]
    },
    {
     "name": "stdout",
     "output_type": "stream",
     "text": [
      "ARIMA(0, 0, 2)x(1, 0, 0, 12)12 - AIC:501.0295209335852\n"
     ]
    },
    {
     "name": "stderr",
     "output_type": "stream",
     "text": [
      "c:\\Users\\KIIT\\AppData\\Local\\Programs\\Python\\Python310\\lib\\site-packages\\statsmodels\\base\\model.py:607: ConvergenceWarning: Maximum Likelihood optimization failed to converge. Check mle_retvals\n",
      "  warnings.warn(\"Maximum Likelihood optimization failed to \"\n"
     ]
    },
    {
     "name": "stdout",
     "output_type": "stream",
     "text": [
      "ARIMA(0, 0, 2)x(1, 0, 1, 12)12 - AIC:2274.696753228719\n"
     ]
    },
    {
     "name": "stderr",
     "output_type": "stream",
     "text": [
      "c:\\Users\\KIIT\\AppData\\Local\\Programs\\Python\\Python310\\lib\\site-packages\\statsmodels\\base\\model.py:607: ConvergenceWarning: Maximum Likelihood optimization failed to converge. Check mle_retvals\n",
      "  warnings.warn(\"Maximum Likelihood optimization failed to \"\n"
     ]
    },
    {
     "name": "stdout",
     "output_type": "stream",
     "text": [
      "ARIMA(0, 0, 2)x(1, 0, 2, 12)12 - AIC:286.18341540780096\n",
      "ARIMA(0, 0, 2)x(1, 1, 0, 12)12 - AIC:321.8800584473878\n",
      "ARIMA(0, 0, 2)x(1, 1, 1, 12)12 - AIC:281.78833393066\n"
     ]
    },
    {
     "name": "stderr",
     "output_type": "stream",
     "text": [
      "c:\\Users\\KIIT\\AppData\\Local\\Programs\\Python\\Python310\\lib\\site-packages\\statsmodels\\base\\model.py:607: ConvergenceWarning: Maximum Likelihood optimization failed to converge. Check mle_retvals\n",
      "  warnings.warn(\"Maximum Likelihood optimization failed to \"\n"
     ]
    },
    {
     "name": "stdout",
     "output_type": "stream",
     "text": [
      "ARIMA(0, 0, 2)x(1, 1, 2, 12)12 - AIC:122.18811026144748\n",
      "ARIMA(0, 0, 2)x(1, 2, 0, 12)12 - AIC:164.18237603491778\n",
      "ARIMA(0, 0, 2)x(1, 2, 1, 12)12 - AIC:123.96143952092115\n",
      "ARIMA(0, 0, 2)x(1, 2, 2, 12)12 - AIC:12.0\n",
      "ARIMA(0, 0, 2)x(2, 0, 0, 12)12 - AIC:323.58227595886615\n"
     ]
    },
    {
     "name": "stderr",
     "output_type": "stream",
     "text": [
      "c:\\Users\\KIIT\\AppData\\Local\\Programs\\Python\\Python310\\lib\\site-packages\\statsmodels\\base\\model.py:607: ConvergenceWarning: Maximum Likelihood optimization failed to converge. Check mle_retvals\n",
      "  warnings.warn(\"Maximum Likelihood optimization failed to \"\n"
     ]
    },
    {
     "name": "stdout",
     "output_type": "stream",
     "text": [
      "ARIMA(0, 0, 2)x(2, 0, 1, 12)12 - AIC:877.5425886467093\n"
     ]
    },
    {
     "name": "stderr",
     "output_type": "stream",
     "text": [
      "c:\\Users\\KIIT\\AppData\\Local\\Programs\\Python\\Python310\\lib\\site-packages\\statsmodels\\base\\model.py:607: ConvergenceWarning: Maximum Likelihood optimization failed to converge. Check mle_retvals\n",
      "  warnings.warn(\"Maximum Likelihood optimization failed to \"\n"
     ]
    },
    {
     "name": "stdout",
     "output_type": "stream",
     "text": [
      "ARIMA(0, 0, 2)x(2, 0, 2, 12)12 - AIC:285.944631320914\n",
      "ARIMA(0, 0, 2)x(2, 1, 0, 12)12 - AIC:163.57819530872865\n",
      "ARIMA(0, 0, 2)x(2, 1, 1, 12)12 - AIC:164.35074076256276\n"
     ]
    },
    {
     "name": "stderr",
     "output_type": "stream",
     "text": [
      "c:\\Users\\KIIT\\AppData\\Local\\Programs\\Python\\Python310\\lib\\site-packages\\statsmodels\\base\\model.py:607: ConvergenceWarning: Maximum Likelihood optimization failed to converge. Check mle_retvals\n",
      "  warnings.warn(\"Maximum Likelihood optimization failed to \"\n"
     ]
    },
    {
     "name": "stdout",
     "output_type": "stream",
     "text": [
      "ARIMA(0, 0, 2)x(2, 1, 2, 12)12 - AIC:122.10828559186982\n",
      "ARIMA(0, 0, 2)x(2, 2, 0, 12)12 - AIC:10.0\n",
      "ARIMA(0, 0, 2)x(2, 2, 1, 12)12 - AIC:12.0\n",
      "ARIMA(0, 0, 2)x(2, 2, 2, 12)12 - AIC:14.0\n",
      "ARIMA(0, 1, 0)x(0, 0, 0, 12)12 - AIC:677.8947668414504\n",
      "ARIMA(0, 1, 0)x(0, 0, 1, 12)12 - AIC:1404.511010860967\n",
      "ARIMA(0, 1, 0)x(0, 0, 2, 12)12 - AIC:315.54758780435515\n",
      "ARIMA(0, 1, 0)x(0, 1, 0, 12)12 - AIC:486.63785671402354\n"
     ]
    },
    {
     "name": "stderr",
     "output_type": "stream",
     "text": [
      "c:\\Users\\KIIT\\AppData\\Local\\Programs\\Python\\Python310\\lib\\site-packages\\statsmodels\\base\\model.py:607: ConvergenceWarning: Maximum Likelihood optimization failed to converge. Check mle_retvals\n",
      "  warnings.warn(\"Maximum Likelihood optimization failed to \"\n"
     ]
    },
    {
     "name": "stdout",
     "output_type": "stream",
     "text": [
      "ARIMA(0, 1, 0)x(0, 1, 1, 12)12 - AIC:304.96712281679635\n",
      "ARIMA(0, 1, 0)x(0, 1, 2, 12)12 - AIC:139.90087903188373\n",
      "ARIMA(0, 1, 0)x(0, 2, 0, 12)12 - AIC:334.9778123201552\n",
      "ARIMA(0, 1, 0)x(0, 2, 1, 12)12 - AIC:139.41258910452575\n",
      "ARIMA(0, 1, 0)x(0, 2, 2, 12)12 - AIC:6.0\n",
      "ARIMA(0, 1, 0)x(1, 0, 0, 12)12 - AIC:497.7889663004408\n"
     ]
    },
    {
     "name": "stderr",
     "output_type": "stream",
     "text": [
      "c:\\Users\\KIIT\\AppData\\Local\\Programs\\Python\\Python310\\lib\\site-packages\\statsmodels\\base\\model.py:607: ConvergenceWarning: Maximum Likelihood optimization failed to converge. Check mle_retvals\n",
      "  warnings.warn(\"Maximum Likelihood optimization failed to \"\n"
     ]
    },
    {
     "name": "stdout",
     "output_type": "stream",
     "text": [
      "ARIMA(0, 1, 0)x(1, 0, 1, 12)12 - AIC:1181.9956249356317\n",
      "ARIMA(0, 1, 0)x(1, 0, 2, 12)12 - AIC:306.3042741398156\n",
      "ARIMA(0, 1, 0)x(1, 1, 0, 12)12 - AIC:319.7714068109212\n",
      "ARIMA(0, 1, 0)x(1, 1, 1, 12)12 - AIC:306.9113200151422\n"
     ]
    },
    {
     "name": "stderr",
     "output_type": "stream",
     "text": [
      "c:\\Users\\KIIT\\AppData\\Local\\Programs\\Python\\Python310\\lib\\site-packages\\statsmodels\\base\\model.py:607: ConvergenceWarning: Maximum Likelihood optimization failed to converge. Check mle_retvals\n",
      "  warnings.warn(\"Maximum Likelihood optimization failed to \"\n"
     ]
    },
    {
     "name": "stdout",
     "output_type": "stream",
     "text": [
      "ARIMA(0, 1, 0)x(1, 1, 2, 12)12 - AIC:141.9492884092156\n",
      "ARIMA(0, 1, 0)x(1, 2, 0, 12)12 - AIC:152.42852106596334\n"
     ]
    },
    {
     "name": "stderr",
     "output_type": "stream",
     "text": [
      "c:\\Users\\KIIT\\AppData\\Local\\Programs\\Python\\Python310\\lib\\site-packages\\statsmodels\\base\\model.py:607: ConvergenceWarning: Maximum Likelihood optimization failed to converge. Check mle_retvals\n",
      "  warnings.warn(\"Maximum Likelihood optimization failed to \"\n"
     ]
    },
    {
     "name": "stdout",
     "output_type": "stream",
     "text": [
      "ARIMA(0, 1, 0)x(1, 2, 1, 12)12 - AIC:141.41133369593382\n",
      "ARIMA(0, 1, 0)x(1, 2, 2, 12)12 - AIC:8.0\n",
      "ARIMA(0, 1, 0)x(2, 0, 0, 12)12 - AIC:317.69402237661177\n",
      "ARIMA(0, 1, 0)x(2, 0, 1, 12)12 - AIC:978.5369726490882\n"
     ]
    },
    {
     "name": "stderr",
     "output_type": "stream",
     "text": [
      "c:\\Users\\KIIT\\AppData\\Local\\Programs\\Python\\Python310\\lib\\site-packages\\statsmodels\\base\\model.py:607: ConvergenceWarning: Maximum Likelihood optimization failed to converge. Check mle_retvals\n",
      "  warnings.warn(\"Maximum Likelihood optimization failed to \"\n"
     ]
    },
    {
     "name": "stdout",
     "output_type": "stream",
     "text": [
      "ARIMA(0, 1, 0)x(2, 0, 2, 12)12 - AIC:307.0475142657875\n",
      "ARIMA(0, 1, 0)x(2, 1, 0, 12)12 - AIC:153.33829187964875\n",
      "ARIMA(0, 1, 0)x(2, 1, 1, 12)12 - AIC:155.03846231505918\n"
     ]
    },
    {
     "name": "stderr",
     "output_type": "stream",
     "text": [
      "c:\\Users\\KIIT\\AppData\\Local\\Programs\\Python\\Python310\\lib\\site-packages\\statsmodels\\base\\model.py:607: ConvergenceWarning: Maximum Likelihood optimization failed to converge. Check mle_retvals\n",
      "  warnings.warn(\"Maximum Likelihood optimization failed to \"\n"
     ]
    },
    {
     "name": "stdout",
     "output_type": "stream",
     "text": [
      "ARIMA(0, 1, 0)x(2, 1, 2, 12)12 - AIC:143.8124253811778\n",
      "ARIMA(0, 1, 0)x(2, 2, 0, 12)12 - AIC:6.0\n",
      "ARIMA(0, 1, 0)x(2, 2, 1, 12)12 - AIC:8.0\n",
      "ARIMA(0, 1, 0)x(2, 2, 2, 12)12 - AIC:10.0\n",
      "ARIMA(0, 1, 1)x(0, 0, 0, 12)12 - AIC:649.905617681688\n"
     ]
    },
    {
     "name": "stderr",
     "output_type": "stream",
     "text": [
      "c:\\Users\\KIIT\\AppData\\Local\\Programs\\Python\\Python310\\lib\\site-packages\\statsmodels\\base\\model.py:607: ConvergenceWarning: Maximum Likelihood optimization failed to converge. Check mle_retvals\n",
      "  warnings.warn(\"Maximum Likelihood optimization failed to \"\n"
     ]
    },
    {
     "name": "stdout",
     "output_type": "stream",
     "text": [
      "ARIMA(0, 1, 1)x(0, 0, 1, 12)12 - AIC:2488.723611476449\n",
      "ARIMA(0, 1, 1)x(0, 0, 2, 12)12 - AIC:295.4984100601973\n",
      "ARIMA(0, 1, 1)x(0, 1, 0, 12)12 - AIC:458.8705548483014\n",
      "ARIMA(0, 1, 1)x(0, 1, 1, 12)12 - AIC:279.5806233372343\n",
      "ARIMA(0, 1, 1)x(0, 1, 2, 12)12 - AIC:124.25148374133651\n",
      "ARIMA(0, 1, 1)x(0, 2, 0, 12)12 - AIC:317.19576972399113\n",
      "ARIMA(0, 1, 1)x(0, 2, 1, 12)12 - AIC:123.1877419593564\n",
      "ARIMA(0, 1, 1)x(0, 2, 2, 12)12 - AIC:8.0\n",
      "ARIMA(0, 1, 1)x(1, 0, 0, 12)12 - AIC:486.18329774427525\n"
     ]
    },
    {
     "name": "stderr",
     "output_type": "stream",
     "text": [
      "c:\\Users\\KIIT\\AppData\\Local\\Programs\\Python\\Python310\\lib\\site-packages\\statsmodels\\base\\model.py:607: ConvergenceWarning: Maximum Likelihood optimization failed to converge. Check mle_retvals\n",
      "  warnings.warn(\"Maximum Likelihood optimization failed to \"\n"
     ]
    },
    {
     "name": "stdout",
     "output_type": "stream",
     "text": [
      "ARIMA(0, 1, 1)x(1, 0, 1, 12)12 - AIC:2465.0460826278813\n"
     ]
    },
    {
     "name": "stderr",
     "output_type": "stream",
     "text": [
      "c:\\Users\\KIIT\\AppData\\Local\\Programs\\Python\\Python310\\lib\\site-packages\\statsmodels\\base\\model.py:607: ConvergenceWarning: Maximum Likelihood optimization failed to converge. Check mle_retvals\n",
      "  warnings.warn(\"Maximum Likelihood optimization failed to \"\n"
     ]
    },
    {
     "name": "stdout",
     "output_type": "stream",
     "text": [
      "ARIMA(0, 1, 1)x(1, 0, 2, 12)12 - AIC:289.0207496247915\n",
      "ARIMA(0, 1, 1)x(1, 1, 0, 12)12 - AIC:310.75743684173585\n",
      "ARIMA(0, 1, 1)x(1, 1, 1, 12)12 - AIC:281.5576621461245\n",
      "ARIMA(0, 1, 1)x(1, 1, 2, 12)12 - AIC:126.0774115713321\n",
      "ARIMA(0, 1, 1)x(1, 2, 0, 12)12 - AIC:154.41754102599276\n",
      "ARIMA(0, 1, 1)x(1, 2, 1, 12)12 - AIC:125.15199078580065\n",
      "ARIMA(0, 1, 1)x(1, 2, 2, 12)12 - AIC:10.0\n",
      "ARIMA(0, 1, 1)x(2, 0, 0, 12)12 - AIC:311.85906742410657\n"
     ]
    },
    {
     "name": "stderr",
     "output_type": "stream",
     "text": [
      "c:\\Users\\KIIT\\AppData\\Local\\Programs\\Python\\Python310\\lib\\site-packages\\statsmodels\\base\\model.py:607: ConvergenceWarning: Maximum Likelihood optimization failed to converge. Check mle_retvals\n",
      "  warnings.warn(\"Maximum Likelihood optimization failed to \"\n"
     ]
    },
    {
     "name": "stdout",
     "output_type": "stream",
     "text": [
      "ARIMA(0, 1, 1)x(2, 0, 1, 12)12 - AIC:950.6432506903142\n",
      "ARIMA(0, 1, 1)x(2, 0, 2, 12)12 - AIC:287.50889544014785\n",
      "ARIMA(0, 1, 1)x(2, 1, 0, 12)12 - AIC:149.57227369322186\n",
      "ARIMA(0, 1, 1)x(2, 1, 1, 12)12 - AIC:151.43439374610517\n"
     ]
    },
    {
     "name": "stderr",
     "output_type": "stream",
     "text": [
      "c:\\Users\\KIIT\\AppData\\Local\\Programs\\Python\\Python310\\lib\\site-packages\\statsmodels\\base\\model.py:607: ConvergenceWarning: Maximum Likelihood optimization failed to converge. Check mle_retvals\n",
      "  warnings.warn(\"Maximum Likelihood optimization failed to \"\n"
     ]
    },
    {
     "name": "stdout",
     "output_type": "stream",
     "text": [
      "ARIMA(0, 1, 1)x(2, 1, 2, 12)12 - AIC:128.0753489078108\n",
      "ARIMA(0, 1, 1)x(2, 2, 0, 12)12 - AIC:8.0\n",
      "ARIMA(0, 1, 1)x(2, 2, 1, 12)12 - AIC:10.0\n",
      "ARIMA(0, 1, 1)x(2, 2, 2, 12)12 - AIC:12.0\n",
      "ARIMA(0, 1, 2)x(0, 0, 0, 12)12 - AIC:634.8844283595578\n",
      "ARIMA(0, 1, 2)x(0, 0, 1, 12)12 - AIC:2332.266951633066\n"
     ]
    },
    {
     "name": "stderr",
     "output_type": "stream",
     "text": [
      "c:\\Users\\KIIT\\AppData\\Local\\Programs\\Python\\Python310\\lib\\site-packages\\statsmodels\\base\\model.py:607: ConvergenceWarning: Maximum Likelihood optimization failed to converge. Check mle_retvals\n",
      "  warnings.warn(\"Maximum Likelihood optimization failed to \"\n"
     ]
    },
    {
     "name": "stdout",
     "output_type": "stream",
     "text": [
      "ARIMA(0, 1, 2)x(0, 0, 2, 12)12 - AIC:283.6008764405975\n",
      "ARIMA(0, 1, 2)x(0, 1, 0, 12)12 - AIC:447.58573969527447\n",
      "ARIMA(0, 1, 2)x(0, 1, 1, 12)12 - AIC:269.8325945163813\n",
      "ARIMA(0, 1, 2)x(0, 1, 2, 12)12 - AIC:109.97825475313083\n",
      "ARIMA(0, 1, 2)x(0, 2, 0, 12)12 - AIC:305.03445359430805\n",
      "ARIMA(0, 1, 2)x(0, 2, 1, 12)12 - AIC:112.17910628369151\n",
      "ARIMA(0, 1, 2)x(0, 2, 2, 12)12 - AIC:10.0\n",
      "ARIMA(0, 1, 2)x(1, 0, 0, 12)12 - AIC:487.4986912679796\n",
      "ARIMA(0, 1, 2)x(1, 0, 1, 12)12 - AIC:1172.638220031588\n",
      "ARIMA(0, 1, 2)x(1, 0, 2, 12)12 - AIC:276.4075358740031\n",
      "ARIMA(0, 1, 2)x(1, 1, 0, 12)12 - AIC:310.73389307255576\n",
      "ARIMA(0, 1, 2)x(1, 1, 1, 12)12 - AIC:271.7935696069856\n"
     ]
    },
    {
     "name": "stderr",
     "output_type": "stream",
     "text": [
      "c:\\Users\\KIIT\\AppData\\Local\\Programs\\Python\\Python310\\lib\\site-packages\\statsmodels\\base\\model.py:607: ConvergenceWarning: Maximum Likelihood optimization failed to converge. Check mle_retvals\n",
      "  warnings.warn(\"Maximum Likelihood optimization failed to \"\n"
     ]
    },
    {
     "name": "stdout",
     "output_type": "stream",
     "text": [
      "ARIMA(0, 1, 2)x(1, 1, 2, 12)12 - AIC:113.19032296223335\n",
      "ARIMA(0, 1, 2)x(1, 2, 0, 12)12 - AIC:154.69701034327406\n"
     ]
    },
    {
     "name": "stderr",
     "output_type": "stream",
     "text": [
      "c:\\Users\\KIIT\\AppData\\Local\\Programs\\Python\\Python310\\lib\\site-packages\\statsmodels\\base\\model.py:607: ConvergenceWarning: Maximum Likelihood optimization failed to converge. Check mle_retvals\n",
      "  warnings.warn(\"Maximum Likelihood optimization failed to \"\n"
     ]
    },
    {
     "name": "stdout",
     "output_type": "stream",
     "text": [
      "ARIMA(0, 1, 2)x(1, 2, 1, 12)12 - AIC:113.38656692456206\n",
      "ARIMA(0, 1, 2)x(1, 2, 2, 12)12 - AIC:12.0\n",
      "ARIMA(0, 1, 2)x(2, 0, 0, 12)12 - AIC:313.4823847170164\n"
     ]
    },
    {
     "name": "stderr",
     "output_type": "stream",
     "text": [
      "c:\\Users\\KIIT\\AppData\\Local\\Programs\\Python\\Python310\\lib\\site-packages\\statsmodels\\base\\model.py:607: ConvergenceWarning: Maximum Likelihood optimization failed to converge. Check mle_retvals\n",
      "  warnings.warn(\"Maximum Likelihood optimization failed to \"\n"
     ]
    },
    {
     "name": "stdout",
     "output_type": "stream",
     "text": [
      "ARIMA(0, 1, 2)x(2, 0, 1, 12)12 - AIC:831.7358166407977\n",
      "ARIMA(0, 1, 2)x(2, 0, 2, 12)12 - AIC:275.7436506591645\n",
      "ARIMA(0, 1, 2)x(2, 1, 0, 12)12 - AIC:151.19056458654197\n"
     ]
    },
    {
     "name": "stderr",
     "output_type": "stream",
     "text": [
      "c:\\Users\\KIIT\\AppData\\Local\\Programs\\Python\\Python310\\lib\\site-packages\\statsmodels\\base\\model.py:607: ConvergenceWarning: Maximum Likelihood optimization failed to converge. Check mle_retvals\n",
      "  warnings.warn(\"Maximum Likelihood optimization failed to \"\n"
     ]
    },
    {
     "name": "stdout",
     "output_type": "stream",
     "text": [
      "ARIMA(0, 1, 2)x(2, 1, 1, 12)12 - AIC:153.01413134829065\n"
     ]
    },
    {
     "name": "stderr",
     "output_type": "stream",
     "text": [
      "c:\\Users\\KIIT\\AppData\\Local\\Programs\\Python\\Python310\\lib\\site-packages\\statsmodels\\base\\model.py:607: ConvergenceWarning: Maximum Likelihood optimization failed to converge. Check mle_retvals\n",
      "  warnings.warn(\"Maximum Likelihood optimization failed to \"\n"
     ]
    },
    {
     "name": "stdout",
     "output_type": "stream",
     "text": [
      "ARIMA(0, 1, 2)x(2, 1, 2, 12)12 - AIC:113.91244536736431\n",
      "ARIMA(0, 1, 2)x(2, 2, 0, 12)12 - AIC:10.0\n",
      "ARIMA(0, 1, 2)x(2, 2, 1, 12)12 - AIC:12.0\n",
      "ARIMA(0, 1, 2)x(2, 2, 2, 12)12 - AIC:14.0\n",
      "ARIMA(0, 2, 0)x(0, 0, 0, 12)12 - AIC:710.112555708784\n"
     ]
    },
    {
     "name": "stderr",
     "output_type": "stream",
     "text": [
      "c:\\Users\\KIIT\\AppData\\Local\\Programs\\Python\\Python310\\lib\\site-packages\\statsmodels\\base\\model.py:607: ConvergenceWarning: Maximum Likelihood optimization failed to converge. Check mle_retvals\n",
      "  warnings.warn(\"Maximum Likelihood optimization failed to \"\n"
     ]
    },
    {
     "name": "stdout",
     "output_type": "stream",
     "text": [
      "ARIMA(0, 2, 0)x(0, 0, 1, 12)12 - AIC:1538.982629818451\n",
      "ARIMA(0, 2, 0)x(0, 0, 2, 12)12 - AIC:319.1317032099982\n",
      "ARIMA(0, 2, 0)x(0, 1, 0, 12)12 - AIC:509.89680953130835\n",
      "ARIMA(0, 2, 0)x(0, 1, 1, 12)12 - AIC:315.5897398007573\n",
      "ARIMA(0, 2, 0)x(0, 1, 2, 12)12 - AIC:128.86001461829787\n",
      "ARIMA(0, 2, 0)x(0, 2, 0, 12)12 - AIC:342.9544200829582\n",
      "ARIMA(0, 2, 0)x(0, 2, 1, 12)12 - AIC:127.63190004606327\n",
      "ARIMA(0, 2, 0)x(0, 2, 2, 12)12 - AIC:6.0\n",
      "ARIMA(0, 2, 0)x(1, 0, 0, 12)12 - AIC:520.887712617653\n",
      "ARIMA(0, 2, 0)x(1, 0, 1, 12)12 - AIC:1237.3462466533842\n"
     ]
    },
    {
     "name": "stderr",
     "output_type": "stream",
     "text": [
      "c:\\Users\\KIIT\\AppData\\Local\\Programs\\Python\\Python310\\lib\\site-packages\\statsmodels\\base\\model.py:607: ConvergenceWarning: Maximum Likelihood optimization failed to converge. Check mle_retvals\n",
      "  warnings.warn(\"Maximum Likelihood optimization failed to \"\n"
     ]
    },
    {
     "name": "stdout",
     "output_type": "stream",
     "text": [
      "ARIMA(0, 2, 0)x(1, 0, 2, 12)12 - AIC:311.35352007860297\n",
      "ARIMA(0, 2, 0)x(1, 1, 0, 12)12 - AIC:331.2504844685115\n",
      "ARIMA(0, 2, 0)x(1, 1, 1, 12)12 - AIC:317.555232694489\n",
      "ARIMA(0, 2, 0)x(1, 1, 2, 12)12 - AIC:130.88456972792713\n",
      "ARIMA(0, 2, 0)x(1, 2, 0, 12)12 - AIC:141.68398673297636\n"
     ]
    },
    {
     "name": "stderr",
     "output_type": "stream",
     "text": [
      "c:\\Users\\KIIT\\AppData\\Local\\Programs\\Python\\Python310\\lib\\site-packages\\statsmodels\\base\\model.py:607: ConvergenceWarning: Maximum Likelihood optimization failed to converge. Check mle_retvals\n",
      "  warnings.warn(\"Maximum Likelihood optimization failed to \"\n"
     ]
    },
    {
     "name": "stdout",
     "output_type": "stream",
     "text": [
      "ARIMA(0, 2, 0)x(1, 2, 1, 12)12 - AIC:129.52125068473362\n",
      "ARIMA(0, 2, 0)x(1, 2, 2, 12)12 - AIC:8.0\n",
      "ARIMA(0, 2, 0)x(2, 0, 0, 12)12 - AIC:327.59550043149045\n",
      "ARIMA(0, 2, 0)x(2, 0, 1, 12)12 - AIC:329.2193578022213\n",
      "ARIMA(0, 2, 0)x(2, 0, 2, 12)12 - AIC:312.2057126479243\n",
      "ARIMA(0, 2, 0)x(2, 1, 0, 12)12 - AIC:143.52744982862203\n",
      "ARIMA(0, 2, 0)x(2, 1, 1, 12)12 - AIC:145.09668550015226\n"
     ]
    },
    {
     "name": "stderr",
     "output_type": "stream",
     "text": [
      "c:\\Users\\KIIT\\AppData\\Local\\Programs\\Python\\Python310\\lib\\site-packages\\statsmodels\\base\\model.py:607: ConvergenceWarning: Maximum Likelihood optimization failed to converge. Check mle_retvals\n",
      "  warnings.warn(\"Maximum Likelihood optimization failed to \"\n"
     ]
    },
    {
     "name": "stdout",
     "output_type": "stream",
     "text": [
      "ARIMA(0, 2, 0)x(2, 1, 2, 12)12 - AIC:132.67716751760713\n",
      "ARIMA(0, 2, 0)x(2, 2, 0, 12)12 - AIC:6.0\n",
      "ARIMA(0, 2, 0)x(2, 2, 1, 12)12 - AIC:8.0\n",
      "ARIMA(0, 2, 0)x(2, 2, 2, 12)12 - AIC:10.0\n",
      "ARIMA(0, 2, 1)x(0, 0, 0, 12)12 - AIC:652.8685965207255\n"
     ]
    },
    {
     "name": "stderr",
     "output_type": "stream",
     "text": [
      "c:\\Users\\KIIT\\AppData\\Local\\Programs\\Python\\Python310\\lib\\site-packages\\statsmodels\\base\\model.py:607: ConvergenceWarning: Maximum Likelihood optimization failed to converge. Check mle_retvals\n",
      "  warnings.warn(\"Maximum Likelihood optimization failed to \"\n"
     ]
    },
    {
     "name": "stdout",
     "output_type": "stream",
     "text": [
      "ARIMA(0, 2, 1)x(0, 0, 1, 12)12 - AIC:1795.5549827426912\n",
      "ARIMA(0, 2, 1)x(0, 0, 2, 12)12 - AIC:288.6859049829866\n",
      "ARIMA(0, 2, 1)x(0, 1, 0, 12)12 - AIC:463.0346544279356\n",
      "ARIMA(0, 2, 1)x(0, 1, 1, 12)12 - AIC:282.2460467104946\n",
      "ARIMA(0, 2, 1)x(0, 1, 2, 12)12 - AIC:114.8632097967209\n",
      "ARIMA(0, 2, 1)x(0, 2, 0, 12)12 - AIC:310.3285223971965\n",
      "ARIMA(0, 2, 1)x(0, 2, 1, 12)12 - AIC:112.08533450045076\n",
      "ARIMA(0, 2, 1)x(0, 2, 2, 12)12 - AIC:8.0\n",
      "ARIMA(0, 2, 1)x(1, 0, 0, 12)12 - AIC:489.9458560734481\n"
     ]
    },
    {
     "name": "stderr",
     "output_type": "stream",
     "text": [
      "c:\\Users\\KIIT\\AppData\\Local\\Programs\\Python\\Python310\\lib\\site-packages\\statsmodels\\base\\model.py:607: ConvergenceWarning: Maximum Likelihood optimization failed to converge. Check mle_retvals\n",
      "  warnings.warn(\"Maximum Likelihood optimization failed to \"\n"
     ]
    },
    {
     "name": "stdout",
     "output_type": "stream",
     "text": [
      "ARIMA(0, 2, 1)x(1, 0, 1, 12)12 - AIC:1266.564013677685\n"
     ]
    },
    {
     "name": "stderr",
     "output_type": "stream",
     "text": [
      "c:\\Users\\KIIT\\AppData\\Local\\Programs\\Python\\Python310\\lib\\site-packages\\statsmodels\\base\\model.py:607: ConvergenceWarning: Maximum Likelihood optimization failed to converge. Check mle_retvals\n",
      "  warnings.warn(\"Maximum Likelihood optimization failed to \"\n"
     ]
    },
    {
     "name": "stdout",
     "output_type": "stream",
     "text": [
      "ARIMA(0, 2, 1)x(1, 0, 2, 12)12 - AIC:284.9086564453789\n",
      "ARIMA(0, 2, 1)x(1, 1, 0, 12)12 - AIC:310.98647286928093\n",
      "ARIMA(0, 2, 1)x(1, 1, 1, 12)12 - AIC:284.23540532541705\n"
     ]
    },
    {
     "name": "stderr",
     "output_type": "stream",
     "text": [
      "c:\\Users\\KIIT\\AppData\\Local\\Programs\\Python\\Python310\\lib\\site-packages\\statsmodels\\base\\model.py:607: ConvergenceWarning: Maximum Likelihood optimization failed to converge. Check mle_retvals\n",
      "  warnings.warn(\"Maximum Likelihood optimization failed to \"\n"
     ]
    },
    {
     "name": "stdout",
     "output_type": "stream",
     "text": [
      "ARIMA(0, 2, 1)x(1, 1, 2, 12)12 - AIC:116.6551702279653\n",
      "ARIMA(0, 2, 1)x(1, 2, 0, 12)12 - AIC:143.279359105162\n",
      "ARIMA(0, 2, 1)x(1, 2, 1, 12)12 - AIC:116.3462212332214\n",
      "ARIMA(0, 2, 1)x(1, 2, 2, 12)12 - AIC:10.0\n",
      "ARIMA(0, 2, 1)x(2, 0, 0, 12)12 - AIC:310.505624470917\n",
      "ARIMA(0, 2, 1)x(2, 0, 1, 12)12 - AIC:311.48054867243843\n",
      "ARIMA(0, 2, 1)x(2, 0, 2, 12)12 - AIC:284.47238651692885\n",
      "ARIMA(0, 2, 1)x(2, 1, 0, 12)12 - AIC:142.29873089320236\n",
      "ARIMA(0, 2, 1)x(2, 1, 1, 12)12 - AIC:146.62326377529126\n"
     ]
    },
    {
     "name": "stderr",
     "output_type": "stream",
     "text": [
      "c:\\Users\\KIIT\\AppData\\Local\\Programs\\Python\\Python310\\lib\\site-packages\\statsmodels\\base\\model.py:607: ConvergenceWarning: Maximum Likelihood optimization failed to converge. Check mle_retvals\n",
      "  warnings.warn(\"Maximum Likelihood optimization failed to \"\n"
     ]
    },
    {
     "name": "stdout",
     "output_type": "stream",
     "text": [
      "ARIMA(0, 2, 1)x(2, 1, 2, 12)12 - AIC:117.89104875643181\n",
      "ARIMA(0, 2, 1)x(2, 2, 0, 12)12 - AIC:8.0\n",
      "ARIMA(0, 2, 1)x(2, 2, 1, 12)12 - AIC:10.0\n",
      "ARIMA(0, 2, 1)x(2, 2, 2, 12)12 - AIC:12.0\n",
      "ARIMA(0, 2, 2)x(0, 0, 0, 12)12 - AIC:628.8859101990295\n"
     ]
    },
    {
     "name": "stderr",
     "output_type": "stream",
     "text": [
      "c:\\Users\\KIIT\\AppData\\Local\\Programs\\Python\\Python310\\lib\\site-packages\\statsmodels\\base\\model.py:607: ConvergenceWarning: Maximum Likelihood optimization failed to converge. Check mle_retvals\n",
      "  warnings.warn(\"Maximum Likelihood optimization failed to \"\n"
     ]
    },
    {
     "name": "stdout",
     "output_type": "stream",
     "text": [
      "ARIMA(0, 2, 2)x(0, 0, 1, 12)12 - AIC:1013.9765361958181\n",
      "ARIMA(0, 2, 2)x(0, 0, 2, 12)12 - AIC:273.67229364011865\n",
      "ARIMA(0, 2, 2)x(0, 1, 0, 12)12 - AIC:440.1803441333329\n",
      "ARIMA(0, 2, 2)x(0, 1, 1, 12)12 - AIC:262.0630438782632\n",
      "ARIMA(0, 2, 2)x(0, 1, 2, 12)12 - AIC:99.04347048459535\n",
      "ARIMA(0, 2, 2)x(0, 2, 0, 12)12 - AIC:294.74667970552724\n",
      "ARIMA(0, 2, 2)x(0, 2, 1, 12)12 - AIC:96.60021511491118\n",
      "ARIMA(0, 2, 2)x(0, 2, 2, 12)12 - AIC:10.0\n",
      "ARIMA(0, 2, 2)x(1, 0, 0, 12)12 - AIC:482.9003703221172\n"
     ]
    },
    {
     "name": "stderr",
     "output_type": "stream",
     "text": [
      "c:\\Users\\KIIT\\AppData\\Local\\Programs\\Python\\Python310\\lib\\site-packages\\statsmodels\\base\\model.py:607: ConvergenceWarning: Maximum Likelihood optimization failed to converge. Check mle_retvals\n",
      "  warnings.warn(\"Maximum Likelihood optimization failed to \"\n"
     ]
    },
    {
     "name": "stdout",
     "output_type": "stream",
     "text": [
      "ARIMA(0, 2, 2)x(1, 0, 1, 12)12 - AIC:676.8904951911717\n"
     ]
    },
    {
     "name": "stderr",
     "output_type": "stream",
     "text": [
      "c:\\Users\\KIIT\\AppData\\Local\\Programs\\Python\\Python310\\lib\\site-packages\\statsmodels\\base\\model.py:607: ConvergenceWarning: Maximum Likelihood optimization failed to converge. Check mle_retvals\n",
      "  warnings.warn(\"Maximum Likelihood optimization failed to \"\n"
     ]
    },
    {
     "name": "stdout",
     "output_type": "stream",
     "text": [
      "ARIMA(0, 2, 2)x(1, 0, 2, 12)12 - AIC:269.35404502286116\n",
      "ARIMA(0, 2, 2)x(1, 1, 0, 12)12 - AIC:305.8984452655963\n"
     ]
    },
    {
     "name": "stderr",
     "output_type": "stream",
     "text": [
      "c:\\Users\\KIIT\\AppData\\Local\\Programs\\Python\\Python310\\lib\\site-packages\\statsmodels\\base\\model.py:607: ConvergenceWarning: Maximum Likelihood optimization failed to converge. Check mle_retvals\n",
      "  warnings.warn(\"Maximum Likelihood optimization failed to \"\n"
     ]
    },
    {
     "name": "stdout",
     "output_type": "stream",
     "text": [
      "ARIMA(0, 2, 2)x(1, 1, 1, 12)12 - AIC:263.5280327064812\n"
     ]
    },
    {
     "name": "stderr",
     "output_type": "stream",
     "text": [
      "c:\\Users\\KIIT\\AppData\\Local\\Programs\\Python\\Python310\\lib\\site-packages\\statsmodels\\base\\model.py:607: ConvergenceWarning: Maximum Likelihood optimization failed to converge. Check mle_retvals\n",
      "  warnings.warn(\"Maximum Likelihood optimization failed to \"\n"
     ]
    },
    {
     "name": "stdout",
     "output_type": "stream",
     "text": [
      "ARIMA(0, 2, 2)x(1, 1, 2, 12)12 - AIC:101.04591468289851\n",
      "ARIMA(0, 2, 2)x(1, 2, 0, 12)12 - AIC:145.59346405869874\n"
     ]
    },
    {
     "name": "stderr",
     "output_type": "stream",
     "text": [
      "c:\\Users\\KIIT\\AppData\\Local\\Programs\\Python\\Python310\\lib\\site-packages\\statsmodels\\base\\model.py:607: ConvergenceWarning: Maximum Likelihood optimization failed to converge. Check mle_retvals\n",
      "  warnings.warn(\"Maximum Likelihood optimization failed to \"\n"
     ]
    },
    {
     "name": "stdout",
     "output_type": "stream",
     "text": [
      "ARIMA(0, 2, 2)x(1, 2, 1, 12)12 - AIC:98.86078957027027\n",
      "ARIMA(0, 2, 2)x(1, 2, 2, 12)12 - AIC:12.0\n",
      "ARIMA(0, 2, 2)x(2, 0, 0, 12)12 - AIC:306.3280772163378\n",
      "ARIMA(0, 2, 2)x(2, 0, 1, 12)12 - AIC:307.10588368558535\n"
     ]
    },
    {
     "name": "stderr",
     "output_type": "stream",
     "text": [
      "c:\\Users\\KIIT\\AppData\\Local\\Programs\\Python\\Python310\\lib\\site-packages\\statsmodels\\base\\model.py:607: ConvergenceWarning: Maximum Likelihood optimization failed to converge. Check mle_retvals\n",
      "  warnings.warn(\"Maximum Likelihood optimization failed to \"\n"
     ]
    },
    {
     "name": "stdout",
     "output_type": "stream",
     "text": [
      "ARIMA(0, 2, 2)x(2, 0, 2, 12)12 - AIC:269.35687728257915\n"
     ]
    },
    {
     "name": "stderr",
     "output_type": "stream",
     "text": [
      "c:\\Users\\KIIT\\AppData\\Local\\Programs\\Python\\Python310\\lib\\site-packages\\statsmodels\\base\\model.py:607: ConvergenceWarning: Maximum Likelihood optimization failed to converge. Check mle_retvals\n",
      "  warnings.warn(\"Maximum Likelihood optimization failed to \"\n"
     ]
    },
    {
     "name": "stdout",
     "output_type": "stream",
     "text": [
      "ARIMA(0, 2, 2)x(2, 1, 0, 12)12 - AIC:140.89547004926197\n"
     ]
    },
    {
     "name": "stderr",
     "output_type": "stream",
     "text": [
      "c:\\Users\\KIIT\\AppData\\Local\\Programs\\Python\\Python310\\lib\\site-packages\\statsmodels\\base\\model.py:607: ConvergenceWarning: Maximum Likelihood optimization failed to converge. Check mle_retvals\n",
      "  warnings.warn(\"Maximum Likelihood optimization failed to \"\n"
     ]
    },
    {
     "name": "stdout",
     "output_type": "stream",
     "text": [
      "ARIMA(0, 2, 2)x(2, 1, 1, 12)12 - AIC:143.08954831304263\n"
     ]
    },
    {
     "name": "stderr",
     "output_type": "stream",
     "text": [
      "c:\\Users\\KIIT\\AppData\\Local\\Programs\\Python\\Python310\\lib\\site-packages\\statsmodels\\base\\model.py:607: ConvergenceWarning: Maximum Likelihood optimization failed to converge. Check mle_retvals\n",
      "  warnings.warn(\"Maximum Likelihood optimization failed to \"\n"
     ]
    },
    {
     "name": "stdout",
     "output_type": "stream",
     "text": [
      "ARIMA(0, 2, 2)x(2, 1, 2, 12)12 - AIC:107.19954129882265\n",
      "ARIMA(0, 2, 2)x(2, 2, 0, 12)12 - AIC:10.0\n",
      "ARIMA(0, 2, 2)x(2, 2, 1, 12)12 - AIC:12.0\n",
      "ARIMA(0, 2, 2)x(2, 2, 2, 12)12 - AIC:14.0\n",
      "ARIMA(1, 0, 0)x(0, 0, 0, 12)12 - AIC:692.1645522067713\n"
     ]
    },
    {
     "name": "stderr",
     "output_type": "stream",
     "text": [
      "c:\\Users\\KIIT\\AppData\\Local\\Programs\\Python\\Python310\\lib\\site-packages\\statsmodels\\base\\model.py:607: ConvergenceWarning: Maximum Likelihood optimization failed to converge. Check mle_retvals\n",
      "  warnings.warn(\"Maximum Likelihood optimization failed to \"\n"
     ]
    },
    {
     "name": "stdout",
     "output_type": "stream",
     "text": [
      "ARIMA(1, 0, 0)x(0, 0, 1, 12)12 - AIC:1503.876307821994\n",
      "ARIMA(1, 0, 0)x(0, 0, 2, 12)12 - AIC:329.8577321597344\n",
      "ARIMA(1, 0, 0)x(0, 1, 0, 12)12 - AIC:479.46321478521355\n",
      "ARIMA(1, 0, 0)x(0, 1, 1, 12)12 - AIC:304.20776751609355\n",
      "ARIMA(1, 0, 0)x(0, 1, 2, 12)12 - AIC:148.4686710957216\n",
      "ARIMA(1, 0, 0)x(0, 2, 0, 12)12 - AIC:338.22248101866865\n",
      "ARIMA(1, 0, 0)x(0, 2, 1, 12)12 - AIC:151.845078318012\n",
      "ARIMA(1, 0, 0)x(0, 2, 2, 12)12 - AIC:8.0\n",
      "ARIMA(1, 0, 0)x(1, 0, 0, 12)12 - AIC:480.9259367935209\n",
      "ARIMA(1, 0, 0)x(1, 0, 1, 12)12 - AIC:1353.9677268192142\n"
     ]
    },
    {
     "name": "stderr",
     "output_type": "stream",
     "text": [
      "c:\\Users\\KIIT\\AppData\\Local\\Programs\\Python\\Python310\\lib\\site-packages\\statsmodels\\base\\model.py:607: ConvergenceWarning: Maximum Likelihood optimization failed to converge. Check mle_retvals\n",
      "  warnings.warn(\"Maximum Likelihood optimization failed to \"\n"
     ]
    },
    {
     "name": "stdout",
     "output_type": "stream",
     "text": [
      "ARIMA(1, 0, 0)x(1, 0, 2, 12)12 - AIC:311.9152956725446\n",
      "ARIMA(1, 0, 0)x(1, 1, 0, 12)12 - AIC:304.4664675084575\n",
      "ARIMA(1, 0, 0)x(1, 1, 1, 12)12 - AIC:304.5842692143816\n",
      "ARIMA(1, 0, 0)x(1, 1, 2, 12)12 - AIC:150.4662693883812\n",
      "ARIMA(1, 0, 0)x(1, 2, 0, 12)12 - AIC:151.38820367564816\n"
     ]
    },
    {
     "name": "stderr",
     "output_type": "stream",
     "text": [
      "c:\\Users\\KIIT\\AppData\\Local\\Programs\\Python\\Python310\\lib\\site-packages\\statsmodels\\base\\model.py:607: ConvergenceWarning: Maximum Likelihood optimization failed to converge. Check mle_retvals\n",
      "  warnings.warn(\"Maximum Likelihood optimization failed to \"\n"
     ]
    },
    {
     "name": "stdout",
     "output_type": "stream",
     "text": [
      "ARIMA(1, 0, 0)x(1, 2, 1, 12)12 - AIC:153.2938979300114\n",
      "ARIMA(1, 0, 0)x(1, 2, 2, 12)12 - AIC:10.0\n",
      "ARIMA(1, 0, 0)x(2, 0, 0, 12)12 - AIC:306.4639496842726\n"
     ]
    },
    {
     "name": "stderr",
     "output_type": "stream",
     "text": [
      "c:\\Users\\KIIT\\AppData\\Local\\Programs\\Python\\Python310\\lib\\site-packages\\statsmodels\\base\\model.py:607: ConvergenceWarning: Maximum Likelihood optimization failed to converge. Check mle_retvals\n",
      "  warnings.warn(\"Maximum Likelihood optimization failed to \"\n"
     ]
    },
    {
     "name": "stdout",
     "output_type": "stream",
     "text": [
      "ARIMA(1, 0, 0)x(2, 0, 1, 12)12 - AIC:685.8990883534973\n"
     ]
    },
    {
     "name": "stderr",
     "output_type": "stream",
     "text": [
      "c:\\Users\\KIIT\\AppData\\Local\\Programs\\Python\\Python310\\lib\\site-packages\\statsmodels\\base\\model.py:607: ConvergenceWarning: Maximum Likelihood optimization failed to converge. Check mle_retvals\n",
      "  warnings.warn(\"Maximum Likelihood optimization failed to \"\n"
     ]
    },
    {
     "name": "stdout",
     "output_type": "stream",
     "text": [
      "ARIMA(1, 0, 0)x(2, 0, 2, 12)12 - AIC:309.8109418359331\n",
      "ARIMA(1, 0, 0)x(2, 1, 0, 12)12 - AIC:148.47129149085134\n",
      "ARIMA(1, 0, 0)x(2, 1, 1, 12)12 - AIC:150.4709073853275\n",
      "ARIMA(1, 0, 0)x(2, 1, 2, 12)12 - AIC:152.46207036518243\n",
      "ARIMA(1, 0, 0)x(2, 2, 0, 12)12 - AIC:8.0\n",
      "ARIMA(1, 0, 0)x(2, 2, 1, 12)12 - AIC:10.0\n",
      "ARIMA(1, 0, 0)x(2, 2, 2, 12)12 - AIC:12.0\n",
      "ARIMA(1, 0, 1)x(0, 0, 0, 12)12 - AIC:665.7794442185823\n"
     ]
    },
    {
     "name": "stderr",
     "output_type": "stream",
     "text": [
      "c:\\Users\\KIIT\\AppData\\Local\\Programs\\Python\\Python310\\lib\\site-packages\\statsmodels\\base\\model.py:607: ConvergenceWarning: Maximum Likelihood optimization failed to converge. Check mle_retvals\n",
      "  warnings.warn(\"Maximum Likelihood optimization failed to \"\n"
     ]
    },
    {
     "name": "stdout",
     "output_type": "stream",
     "text": [
      "ARIMA(1, 0, 1)x(0, 0, 1, 12)12 - AIC:2631.8436451402004\n",
      "ARIMA(1, 0, 1)x(0, 0, 2, 12)12 - AIC:311.0682307827664\n",
      "ARIMA(1, 0, 1)x(0, 1, 0, 12)12 - AIC:468.36851958133946\n",
      "ARIMA(1, 0, 1)x(0, 1, 1, 12)12 - AIC:293.34221939659244\n",
      "ARIMA(1, 0, 1)x(0, 1, 2, 12)12 - AIC:137.44660509316105\n",
      "ARIMA(1, 0, 1)x(0, 2, 0, 12)12 - AIC:326.36049011937166\n",
      "ARIMA(1, 0, 1)x(0, 2, 1, 12)12 - AIC:140.00660547448297\n",
      "ARIMA(1, 0, 1)x(0, 2, 2, 12)12 - AIC:10.0\n",
      "ARIMA(1, 0, 1)x(1, 0, 0, 12)12 - AIC:482.5763323876922\n",
      "ARIMA(1, 0, 1)x(1, 0, 1, 12)12 - AIC:2396.6970457354255\n"
     ]
    },
    {
     "name": "stderr",
     "output_type": "stream",
     "text": [
      "c:\\Users\\KIIT\\AppData\\Local\\Programs\\Python\\Python310\\lib\\site-packages\\statsmodels\\base\\model.py:607: ConvergenceWarning: Maximum Likelihood optimization failed to converge. Check mle_retvals\n",
      "  warnings.warn(\"Maximum Likelihood optimization failed to \"\n",
      "c:\\Users\\KIIT\\AppData\\Local\\Programs\\Python\\Python310\\lib\\site-packages\\statsmodels\\base\\model.py:607: ConvergenceWarning: Maximum Likelihood optimization failed to converge. Check mle_retvals\n",
      "  warnings.warn(\"Maximum Likelihood optimization failed to \"\n"
     ]
    },
    {
     "name": "stdout",
     "output_type": "stream",
     "text": [
      "ARIMA(1, 0, 1)x(1, 0, 2, 12)12 - AIC:301.0148648163952\n",
      "ARIMA(1, 0, 1)x(1, 1, 0, 12)12 - AIC:306.0156002107807\n",
      "ARIMA(1, 0, 1)x(1, 1, 1, 12)12 - AIC:293.75131881115306\n",
      "ARIMA(1, 0, 1)x(1, 1, 2, 12)12 - AIC:139.59955612083837\n",
      "ARIMA(1, 0, 1)x(1, 2, 0, 12)12 - AIC:153.45916388544592\n",
      "ARIMA(1, 0, 1)x(1, 2, 1, 12)12 - AIC:138.87977123595743\n",
      "ARIMA(1, 0, 1)x(1, 2, 2, 12)12 - AIC:12.0\n",
      "ARIMA(1, 0, 1)x(2, 0, 0, 12)12 - AIC:309.7096567884304\n"
     ]
    },
    {
     "name": "stderr",
     "output_type": "stream",
     "text": [
      "c:\\Users\\KIIT\\AppData\\Local\\Programs\\Python\\Python310\\lib\\site-packages\\statsmodels\\base\\model.py:607: ConvergenceWarning: Maximum Likelihood optimization failed to converge. Check mle_retvals\n",
      "  warnings.warn(\"Maximum Likelihood optimization failed to \"\n"
     ]
    },
    {
     "name": "stdout",
     "output_type": "stream",
     "text": [
      "ARIMA(1, 0, 1)x(2, 0, 1, 12)12 - AIC:971.5750036600407\n"
     ]
    },
    {
     "name": "stderr",
     "output_type": "stream",
     "text": [
      "c:\\Users\\KIIT\\AppData\\Local\\Programs\\Python\\Python310\\lib\\site-packages\\statsmodels\\base\\model.py:607: ConvergenceWarning: Maximum Likelihood optimization failed to converge. Check mle_retvals\n",
      "  warnings.warn(\"Maximum Likelihood optimization failed to \"\n"
     ]
    },
    {
     "name": "stdout",
     "output_type": "stream",
     "text": [
      "ARIMA(1, 0, 1)x(2, 0, 2, 12)12 - AIC:298.7789669528436\n",
      "ARIMA(1, 0, 1)x(2, 1, 0, 12)12 - AIC:148.6441533236216\n",
      "ARIMA(1, 0, 1)x(2, 1, 1, 12)12 - AIC:152.44503995634668\n"
     ]
    },
    {
     "name": "stderr",
     "output_type": "stream",
     "text": [
      "c:\\Users\\KIIT\\AppData\\Local\\Programs\\Python\\Python310\\lib\\site-packages\\statsmodels\\base\\model.py:607: ConvergenceWarning: Maximum Likelihood optimization failed to converge. Check mle_retvals\n",
      "  warnings.warn(\"Maximum Likelihood optimization failed to \"\n"
     ]
    },
    {
     "name": "stdout",
     "output_type": "stream",
     "text": [
      "ARIMA(1, 0, 1)x(2, 1, 2, 12)12 - AIC:136.32198781700387\n",
      "ARIMA(1, 0, 1)x(2, 2, 0, 12)12 - AIC:10.0\n",
      "ARIMA(1, 0, 1)x(2, 2, 1, 12)12 - AIC:12.0\n",
      "ARIMA(1, 0, 1)x(2, 2, 2, 12)12 - AIC:14.0\n",
      "ARIMA(1, 0, 2)x(0, 0, 0, 12)12 - AIC:652.5371565506007\n"
     ]
    },
    {
     "name": "stderr",
     "output_type": "stream",
     "text": [
      "c:\\Users\\KIIT\\AppData\\Local\\Programs\\Python\\Python310\\lib\\site-packages\\statsmodels\\base\\model.py:607: ConvergenceWarning: Maximum Likelihood optimization failed to converge. Check mle_retvals\n",
      "  warnings.warn(\"Maximum Likelihood optimization failed to \"\n"
     ]
    },
    {
     "name": "stdout",
     "output_type": "stream",
     "text": [
      "ARIMA(1, 0, 2)x(0, 0, 1, 12)12 - AIC:370.208279946071\n"
     ]
    },
    {
     "name": "stderr",
     "output_type": "stream",
     "text": [
      "c:\\Users\\KIIT\\AppData\\Local\\Programs\\Python\\Python310\\lib\\site-packages\\statsmodels\\base\\model.py:607: ConvergenceWarning: Maximum Likelihood optimization failed to converge. Check mle_retvals\n",
      "  warnings.warn(\"Maximum Likelihood optimization failed to \"\n"
     ]
    },
    {
     "name": "stdout",
     "output_type": "stream",
     "text": [
      "ARIMA(1, 0, 2)x(0, 0, 2, 12)12 - AIC:298.37774063190363\n",
      "ARIMA(1, 0, 2)x(0, 1, 0, 12)12 - AIC:454.51625971598844\n",
      "ARIMA(1, 0, 2)x(0, 1, 1, 12)12 - AIC:277.7588927594993\n"
     ]
    },
    {
     "name": "stderr",
     "output_type": "stream",
     "text": [
      "c:\\Users\\KIIT\\AppData\\Local\\Programs\\Python\\Python310\\lib\\site-packages\\statsmodels\\base\\model.py:607: ConvergenceWarning: Maximum Likelihood optimization failed to converge. Check mle_retvals\n",
      "  warnings.warn(\"Maximum Likelihood optimization failed to \"\n"
     ]
    },
    {
     "name": "stdout",
     "output_type": "stream",
     "text": [
      "ARIMA(1, 0, 2)x(0, 1, 2, 12)12 - AIC:122.83844516418111\n",
      "ARIMA(1, 0, 2)x(0, 2, 0, 12)12 - AIC:311.96866882599875\n"
     ]
    },
    {
     "name": "stderr",
     "output_type": "stream",
     "text": [
      "c:\\Users\\KIIT\\AppData\\Local\\Programs\\Python\\Python310\\lib\\site-packages\\statsmodels\\base\\model.py:607: ConvergenceWarning: Maximum Likelihood optimization failed to converge. Check mle_retvals\n",
      "  warnings.warn(\"Maximum Likelihood optimization failed to \"\n"
     ]
    },
    {
     "name": "stdout",
     "output_type": "stream",
     "text": [
      "ARIMA(1, 0, 2)x(0, 2, 1, 12)12 - AIC:120.19492638174222\n",
      "ARIMA(1, 0, 2)x(0, 2, 2, 12)12 - AIC:12.0\n",
      "ARIMA(1, 0, 2)x(1, 0, 0, 12)12 - AIC:483.9435796131644\n",
      "ARIMA(1, 0, 2)x(1, 0, 1, 12)12 - AIC:2408.0301862177894\n"
     ]
    },
    {
     "name": "stderr",
     "output_type": "stream",
     "text": [
      "c:\\Users\\KIIT\\AppData\\Local\\Programs\\Python\\Python310\\lib\\site-packages\\statsmodels\\base\\model.py:607: ConvergenceWarning: Maximum Likelihood optimization failed to converge. Check mle_retvals\n",
      "  warnings.warn(\"Maximum Likelihood optimization failed to \"\n"
     ]
    },
    {
     "name": "stdout",
     "output_type": "stream",
     "text": [
      "ARIMA(1, 0, 2)x(1, 0, 2, 12)12 - AIC:290.9909360274361\n",
      "ARIMA(1, 0, 2)x(1, 1, 0, 12)12 - AIC:305.84607229011374\n",
      "ARIMA(1, 0, 2)x(1, 1, 1, 12)12 - AIC:279.7400732282485\n"
     ]
    },
    {
     "name": "stderr",
     "output_type": "stream",
     "text": [
      "c:\\Users\\KIIT\\AppData\\Local\\Programs\\Python\\Python310\\lib\\site-packages\\statsmodels\\base\\model.py:607: ConvergenceWarning: Maximum Likelihood optimization failed to converge. Check mle_retvals\n",
      "  warnings.warn(\"Maximum Likelihood optimization failed to \"\n"
     ]
    },
    {
     "name": "stdout",
     "output_type": "stream",
     "text": [
      "ARIMA(1, 0, 2)x(1, 1, 2, 12)12 - AIC:124.37981702446845\n"
     ]
    },
    {
     "name": "stderr",
     "output_type": "stream",
     "text": [
      "c:\\Users\\KIIT\\AppData\\Local\\Programs\\Python\\Python310\\lib\\site-packages\\statsmodels\\base\\model.py:607: ConvergenceWarning: Maximum Likelihood optimization failed to converge. Check mle_retvals\n",
      "  warnings.warn(\"Maximum Likelihood optimization failed to \"\n"
     ]
    },
    {
     "name": "stdout",
     "output_type": "stream",
     "text": [
      "ARIMA(1, 0, 2)x(1, 2, 0, 12)12 - AIC:153.2389206072583\n"
     ]
    },
    {
     "name": "stderr",
     "output_type": "stream",
     "text": [
      "c:\\Users\\KIIT\\AppData\\Local\\Programs\\Python\\Python310\\lib\\site-packages\\statsmodels\\base\\model.py:607: ConvergenceWarning: Maximum Likelihood optimization failed to converge. Check mle_retvals\n",
      "  warnings.warn(\"Maximum Likelihood optimization failed to \"\n"
     ]
    },
    {
     "name": "stdout",
     "output_type": "stream",
     "text": [
      "ARIMA(1, 0, 2)x(1, 2, 1, 12)12 - AIC:120.41629287254935\n",
      "ARIMA(1, 0, 2)x(1, 2, 2, 12)12 - AIC:14.0\n",
      "ARIMA(1, 0, 2)x(2, 0, 0, 12)12 - AIC:309.00667879877705\n"
     ]
    },
    {
     "name": "stderr",
     "output_type": "stream",
     "text": [
      "c:\\Users\\KIIT\\AppData\\Local\\Programs\\Python\\Python310\\lib\\site-packages\\statsmodels\\base\\model.py:607: ConvergenceWarning: Maximum Likelihood optimization failed to converge. Check mle_retvals\n",
      "  warnings.warn(\"Maximum Likelihood optimization failed to \"\n"
     ]
    },
    {
     "name": "stdout",
     "output_type": "stream",
     "text": [
      "ARIMA(1, 0, 2)x(2, 0, 1, 12)12 - AIC:848.5745280320452\n"
     ]
    },
    {
     "name": "stderr",
     "output_type": "stream",
     "text": [
      "c:\\Users\\KIIT\\AppData\\Local\\Programs\\Python\\Python310\\lib\\site-packages\\statsmodels\\base\\model.py:607: ConvergenceWarning: Maximum Likelihood optimization failed to converge. Check mle_retvals\n",
      "  warnings.warn(\"Maximum Likelihood optimization failed to \"\n"
     ]
    },
    {
     "name": "stdout",
     "output_type": "stream",
     "text": [
      "ARIMA(1, 0, 2)x(2, 0, 2, 12)12 - AIC:286.29168217969465\n",
      "ARIMA(1, 0, 2)x(2, 1, 0, 12)12 - AIC:150.64208002290064\n"
     ]
    },
    {
     "name": "stderr",
     "output_type": "stream",
     "text": [
      "c:\\Users\\KIIT\\AppData\\Local\\Programs\\Python\\Python310\\lib\\site-packages\\statsmodels\\base\\model.py:607: ConvergenceWarning: Maximum Likelihood optimization failed to converge. Check mle_retvals\n",
      "  warnings.warn(\"Maximum Likelihood optimization failed to \"\n"
     ]
    },
    {
     "name": "stdout",
     "output_type": "stream",
     "text": [
      "ARIMA(1, 0, 2)x(2, 1, 1, 12)12 - AIC:152.69586667932572\n"
     ]
    },
    {
     "name": "stderr",
     "output_type": "stream",
     "text": [
      "c:\\Users\\KIIT\\AppData\\Local\\Programs\\Python\\Python310\\lib\\site-packages\\statsmodels\\base\\model.py:607: ConvergenceWarning: Maximum Likelihood optimization failed to converge. Check mle_retvals\n",
      "  warnings.warn(\"Maximum Likelihood optimization failed to \"\n"
     ]
    },
    {
     "name": "stdout",
     "output_type": "stream",
     "text": [
      "ARIMA(1, 0, 2)x(2, 1, 2, 12)12 - AIC:126.90953670286825\n",
      "ARIMA(1, 0, 2)x(2, 2, 0, 12)12 - AIC:12.0\n",
      "ARIMA(1, 0, 2)x(2, 2, 1, 12)12 - AIC:14.0\n",
      "ARIMA(1, 0, 2)x(2, 2, 2, 12)12 - AIC:16.0\n",
      "ARIMA(1, 1, 0)x(0, 0, 0, 12)12 - AIC:671.2513547541902\n",
      "ARIMA(1, 1, 0)x(0, 0, 1, 12)12 - AIC:1271.0569854810851\n"
     ]
    },
    {
     "name": "stderr",
     "output_type": "stream",
     "text": [
      "c:\\Users\\KIIT\\AppData\\Local\\Programs\\Python\\Python310\\lib\\site-packages\\statsmodels\\base\\model.py:607: ConvergenceWarning: Maximum Likelihood optimization failed to converge. Check mle_retvals\n",
      "  warnings.warn(\"Maximum Likelihood optimization failed to \"\n"
     ]
    },
    {
     "name": "stdout",
     "output_type": "stream",
     "text": [
      "ARIMA(1, 1, 0)x(0, 0, 2, 12)12 - AIC:313.80896143746065\n",
      "ARIMA(1, 1, 0)x(0, 1, 0, 12)12 - AIC:479.2003422281135\n",
      "ARIMA(1, 1, 0)x(0, 1, 1, 12)12 - AIC:300.2130611619098\n",
      "ARIMA(1, 1, 0)x(0, 1, 2, 12)12 - AIC:141.0735667612097\n",
      "ARIMA(1, 1, 0)x(0, 2, 0, 12)12 - AIC:332.3956597623956\n",
      "ARIMA(1, 1, 0)x(0, 2, 1, 12)12 - AIC:140.96246737935172\n",
      "ARIMA(1, 1, 0)x(0, 2, 2, 12)12 - AIC:8.0\n",
      "ARIMA(1, 1, 0)x(1, 0, 0, 12)12 - AIC:475.3403658784316\n",
      "ARIMA(1, 1, 0)x(1, 0, 1, 12)12 - AIC:1426.9611568377777\n"
     ]
    },
    {
     "name": "stderr",
     "output_type": "stream",
     "text": [
      "c:\\Users\\KIIT\\AppData\\Local\\Programs\\Python\\Python310\\lib\\site-packages\\statsmodels\\base\\model.py:607: ConvergenceWarning: Maximum Likelihood optimization failed to converge. Check mle_retvals\n",
      "  warnings.warn(\"Maximum Likelihood optimization failed to \"\n"
     ]
    },
    {
     "name": "stdout",
     "output_type": "stream",
     "text": [
      "ARIMA(1, 1, 0)x(1, 0, 2, 12)12 - AIC:305.35396697101305\n",
      "ARIMA(1, 1, 0)x(1, 1, 0, 12)12 - AIC:300.6270901345406\n",
      "ARIMA(1, 1, 0)x(1, 1, 1, 12)12 - AIC:302.3264992508105\n",
      "ARIMA(1, 1, 0)x(1, 1, 2, 12)12 - AIC:143.05792041324653\n",
      "ARIMA(1, 1, 0)x(1, 2, 0, 12)12 - AIC:140.97940432820874\n",
      "ARIMA(1, 1, 0)x(1, 2, 1, 12)12 - AIC:142.4449446177075\n",
      "ARIMA(1, 1, 0)x(1, 2, 2, 12)12 - AIC:10.0\n",
      "ARIMA(1, 1, 0)x(2, 0, 0, 12)12 - AIC:301.768852428957\n"
     ]
    },
    {
     "name": "stderr",
     "output_type": "stream",
     "text": [
      "c:\\Users\\KIIT\\AppData\\Local\\Programs\\Python\\Python310\\lib\\site-packages\\statsmodels\\base\\model.py:607: ConvergenceWarning: Maximum Likelihood optimization failed to converge. Check mle_retvals\n",
      "  warnings.warn(\"Maximum Likelihood optimization failed to \"\n"
     ]
    },
    {
     "name": "stdout",
     "output_type": "stream",
     "text": [
      "ARIMA(1, 1, 0)x(2, 0, 1, 12)12 - AIC:885.2496782074354\n",
      "ARIMA(1, 1, 0)x(2, 0, 2, 12)12 - AIC:305.5489372390792\n",
      "ARIMA(1, 1, 0)x(2, 1, 0, 12)12 - AIC:141.03361172511552\n",
      "ARIMA(1, 1, 0)x(2, 1, 1, 12)12 - AIC:142.93320305151468\n",
      "ARIMA(1, 1, 0)x(2, 1, 2, 12)12 - AIC:144.93321200610046\n",
      "ARIMA(1, 1, 0)x(2, 2, 0, 12)12 - AIC:8.0\n",
      "ARIMA(1, 1, 0)x(2, 2, 1, 12)12 - AIC:10.0\n",
      "ARIMA(1, 1, 0)x(2, 2, 2, 12)12 - AIC:12.0\n",
      "ARIMA(1, 1, 1)x(0, 0, 0, 12)12 - AIC:649.0318019835112\n"
     ]
    },
    {
     "name": "stderr",
     "output_type": "stream",
     "text": [
      "c:\\Users\\KIIT\\AppData\\Local\\Programs\\Python\\Python310\\lib\\site-packages\\statsmodels\\base\\model.py:607: ConvergenceWarning: Maximum Likelihood optimization failed to converge. Check mle_retvals\n",
      "  warnings.warn(\"Maximum Likelihood optimization failed to \"\n"
     ]
    },
    {
     "name": "stdout",
     "output_type": "stream",
     "text": [
      "ARIMA(1, 1, 1)x(0, 0, 1, 12)12 - AIC:2272.8470449415067\n",
      "ARIMA(1, 1, 1)x(0, 0, 2, 12)12 - AIC:296.29257055432805\n",
      "ARIMA(1, 1, 1)x(0, 1, 0, 12)12 - AIC:460.4762687610587\n",
      "ARIMA(1, 1, 1)x(0, 1, 1, 12)12 - AIC:281.3873006939389\n",
      "ARIMA(1, 1, 1)x(0, 1, 2, 12)12 - AIC:126.23923692129222\n",
      "ARIMA(1, 1, 1)x(0, 2, 0, 12)12 - AIC:317.99077543477046\n",
      "ARIMA(1, 1, 1)x(0, 2, 1, 12)12 - AIC:127.02337312437191\n",
      "ARIMA(1, 1, 1)x(0, 2, 2, 12)12 - AIC:10.0\n",
      "ARIMA(1, 1, 1)x(1, 0, 0, 12)12 - AIC:469.5250354660837\n"
     ]
    },
    {
     "name": "stderr",
     "output_type": "stream",
     "text": [
      "c:\\Users\\KIIT\\AppData\\Local\\Programs\\Python\\Python310\\lib\\site-packages\\statsmodels\\base\\model.py:607: ConvergenceWarning: Maximum Likelihood optimization failed to converge. Check mle_retvals\n",
      "  warnings.warn(\"Maximum Likelihood optimization failed to \"\n"
     ]
    },
    {
     "name": "stdout",
     "output_type": "stream",
     "text": [
      "ARIMA(1, 1, 1)x(1, 0, 1, 12)12 - AIC:2283.9804074313\n",
      "ARIMA(1, 1, 1)x(1, 0, 2, 12)12 - AIC:289.50320986892933\n",
      "ARIMA(1, 1, 1)x(1, 1, 0, 12)12 - AIC:297.78754395476454\n",
      "ARIMA(1, 1, 1)x(1, 1, 1, 12)12 - AIC:283.36610144273885\n",
      "ARIMA(1, 1, 1)x(1, 1, 2, 12)12 - AIC:128.07390203992242\n",
      "ARIMA(1, 1, 1)x(1, 2, 0, 12)12 - AIC:139.89884389575093\n",
      "ARIMA(1, 1, 1)x(1, 2, 1, 12)12 - AIC:126.41574490826943\n",
      "ARIMA(1, 1, 1)x(1, 2, 2, 12)12 - AIC:12.0\n",
      "ARIMA(1, 1, 1)x(2, 0, 0, 12)12 - AIC:304.81353214544527\n"
     ]
    },
    {
     "name": "stderr",
     "output_type": "stream",
     "text": [
      "c:\\Users\\KIIT\\AppData\\Local\\Programs\\Python\\Python310\\lib\\site-packages\\statsmodels\\base\\model.py:607: ConvergenceWarning: Maximum Likelihood optimization failed to converge. Check mle_retvals\n",
      "  warnings.warn(\"Maximum Likelihood optimization failed to \"\n"
     ]
    },
    {
     "name": "stdout",
     "output_type": "stream",
     "text": [
      "ARIMA(1, 1, 1)x(2, 0, 1, 12)12 - AIC:911.0623239788245\n"
     ]
    },
    {
     "name": "stderr",
     "output_type": "stream",
     "text": [
      "c:\\Users\\KIIT\\AppData\\Local\\Programs\\Python\\Python310\\lib\\site-packages\\statsmodels\\base\\model.py:607: ConvergenceWarning: Maximum Likelihood optimization failed to converge. Check mle_retvals\n",
      "  warnings.warn(\"Maximum Likelihood optimization failed to \"\n"
     ]
    },
    {
     "name": "stdout",
     "output_type": "stream",
     "text": [
      "ARIMA(1, 1, 1)x(2, 0, 2, 12)12 - AIC:289.17547525571854\n",
      "ARIMA(1, 1, 1)x(2, 1, 0, 12)12 - AIC:138.33714365181467\n"
     ]
    },
    {
     "name": "stderr",
     "output_type": "stream",
     "text": [
      "c:\\Users\\KIIT\\AppData\\Local\\Programs\\Python\\Python310\\lib\\site-packages\\statsmodels\\base\\model.py:607: ConvergenceWarning: Maximum Likelihood optimization failed to converge. Check mle_retvals\n",
      "  warnings.warn(\"Maximum Likelihood optimization failed to \"\n"
     ]
    },
    {
     "name": "stdout",
     "output_type": "stream",
     "text": [
      "ARIMA(1, 1, 1)x(2, 1, 1, 12)12 - AIC:140.32911072401586\n"
     ]
    },
    {
     "name": "stderr",
     "output_type": "stream",
     "text": [
      "c:\\Users\\KIIT\\AppData\\Local\\Programs\\Python\\Python310\\lib\\site-packages\\statsmodels\\base\\model.py:607: ConvergenceWarning: Maximum Likelihood optimization failed to converge. Check mle_retvals\n",
      "  warnings.warn(\"Maximum Likelihood optimization failed to \"\n"
     ]
    },
    {
     "name": "stdout",
     "output_type": "stream",
     "text": [
      "ARIMA(1, 1, 1)x(2, 1, 2, 12)12 - AIC:130.24891868471542\n",
      "ARIMA(1, 1, 1)x(2, 2, 0, 12)12 - AIC:10.0\n",
      "ARIMA(1, 1, 1)x(2, 2, 1, 12)12 - AIC:12.0\n",
      "ARIMA(1, 1, 1)x(2, 2, 2, 12)12 - AIC:14.0\n",
      "ARIMA(1, 1, 2)x(0, 0, 0, 12)12 - AIC:636.879037789045\n"
     ]
    },
    {
     "name": "stderr",
     "output_type": "stream",
     "text": [
      "c:\\Users\\KIIT\\AppData\\Local\\Programs\\Python\\Python310\\lib\\site-packages\\statsmodels\\base\\model.py:607: ConvergenceWarning: Maximum Likelihood optimization failed to converge. Check mle_retvals\n",
      "  warnings.warn(\"Maximum Likelihood optimization failed to \"\n"
     ]
    },
    {
     "name": "stdout",
     "output_type": "stream",
     "text": [
      "ARIMA(1, 1, 2)x(0, 0, 1, 12)12 - AIC:267.4053580366707\n",
      "ARIMA(1, 1, 2)x(0, 0, 2, 12)12 - AIC:280.9458311304909\n",
      "ARIMA(1, 1, 2)x(0, 1, 0, 12)12 - AIC:449.4788858975246\n",
      "ARIMA(1, 1, 2)x(0, 1, 1, 12)12 - AIC:270.58058847587904\n",
      "ARIMA(1, 1, 2)x(0, 1, 2, 12)12 - AIC:110.64989107611538\n",
      "ARIMA(1, 1, 2)x(0, 2, 0, 12)12 - AIC:305.71513971590304\n"
     ]
    },
    {
     "name": "stderr",
     "output_type": "stream",
     "text": [
      "c:\\Users\\KIIT\\AppData\\Local\\Programs\\Python\\Python310\\lib\\site-packages\\statsmodels\\base\\model.py:607: ConvergenceWarning: Maximum Likelihood optimization failed to converge. Check mle_retvals\n",
      "  warnings.warn(\"Maximum Likelihood optimization failed to \"\n"
     ]
    },
    {
     "name": "stdout",
     "output_type": "stream",
     "text": [
      "ARIMA(1, 1, 2)x(0, 2, 1, 12)12 - AIC:111.97626150460249\n",
      "ARIMA(1, 1, 2)x(0, 2, 2, 12)12 - AIC:12.0\n",
      "ARIMA(1, 1, 2)x(1, 0, 0, 12)12 - AIC:471.055576507095\n"
     ]
    },
    {
     "name": "stderr",
     "output_type": "stream",
     "text": [
      "c:\\Users\\KIIT\\AppData\\Local\\Programs\\Python\\Python310\\lib\\site-packages\\statsmodels\\base\\model.py:607: ConvergenceWarning: Maximum Likelihood optimization failed to converge. Check mle_retvals\n",
      "  warnings.warn(\"Maximum Likelihood optimization failed to \"\n"
     ]
    },
    {
     "name": "stdout",
     "output_type": "stream",
     "text": [
      "ARIMA(1, 1, 2)x(1, 0, 1, 12)12 - AIC:1740.1795997482095\n"
     ]
    },
    {
     "name": "stderr",
     "output_type": "stream",
     "text": [
      "c:\\Users\\KIIT\\AppData\\Local\\Programs\\Python\\Python310\\lib\\site-packages\\statsmodels\\base\\model.py:607: ConvergenceWarning: Maximum Likelihood optimization failed to converge. Check mle_retvals\n",
      "  warnings.warn(\"Maximum Likelihood optimization failed to \"\n"
     ]
    },
    {
     "name": "stdout",
     "output_type": "stream",
     "text": [
      "ARIMA(1, 1, 2)x(1, 0, 2, 12)12 - AIC:278.23027008941375\n"
     ]
    },
    {
     "name": "stderr",
     "output_type": "stream",
     "text": [
      "c:\\Users\\KIIT\\AppData\\Local\\Programs\\Python\\Python310\\lib\\site-packages\\statsmodels\\base\\model.py:607: ConvergenceWarning: Maximum Likelihood optimization failed to converge. Check mle_retvals\n",
      "  warnings.warn(\"Maximum Likelihood optimization failed to \"\n"
     ]
    },
    {
     "name": "stdout",
     "output_type": "stream",
     "text": [
      "ARIMA(1, 1, 2)x(1, 1, 0, 12)12 - AIC:299.77539080601554\n"
     ]
    },
    {
     "name": "stderr",
     "output_type": "stream",
     "text": [
      "c:\\Users\\KIIT\\AppData\\Local\\Programs\\Python\\Python310\\lib\\site-packages\\statsmodels\\base\\model.py:607: ConvergenceWarning: Maximum Likelihood optimization failed to converge. Check mle_retvals\n",
      "  warnings.warn(\"Maximum Likelihood optimization failed to \"\n"
     ]
    },
    {
     "name": "stdout",
     "output_type": "stream",
     "text": [
      "ARIMA(1, 1, 2)x(1, 1, 1, 12)12 - AIC:273.2015521614737\n"
     ]
    },
    {
     "name": "stderr",
     "output_type": "stream",
     "text": [
      "c:\\Users\\KIIT\\AppData\\Local\\Programs\\Python\\Python310\\lib\\site-packages\\statsmodels\\base\\model.py:607: ConvergenceWarning: Maximum Likelihood optimization failed to converge. Check mle_retvals\n",
      "  warnings.warn(\"Maximum Likelihood optimization failed to \"\n"
     ]
    },
    {
     "name": "stdout",
     "output_type": "stream",
     "text": [
      "ARIMA(1, 1, 2)x(1, 1, 2, 12)12 - AIC:110.86742600966198\n",
      "ARIMA(1, 1, 2)x(1, 2, 0, 12)12 - AIC:142.46380187451695\n"
     ]
    },
    {
     "name": "stderr",
     "output_type": "stream",
     "text": [
      "c:\\Users\\KIIT\\AppData\\Local\\Programs\\Python\\Python310\\lib\\site-packages\\statsmodels\\base\\model.py:607: ConvergenceWarning: Maximum Likelihood optimization failed to converge. Check mle_retvals\n",
      "  warnings.warn(\"Maximum Likelihood optimization failed to \"\n"
     ]
    },
    {
     "name": "stdout",
     "output_type": "stream",
     "text": [
      "ARIMA(1, 1, 2)x(1, 2, 1, 12)12 - AIC:109.15899573626933\n",
      "ARIMA(1, 1, 2)x(1, 2, 2, 12)12 - AIC:14.0\n",
      "ARIMA(1, 1, 2)x(2, 0, 0, 12)12 - AIC:302.21776809096394\n",
      "ARIMA(1, 1, 2)x(2, 0, 1, 12)12 - AIC:942.3397129687116\n"
     ]
    },
    {
     "name": "stderr",
     "output_type": "stream",
     "text": [
      "c:\\Users\\KIIT\\AppData\\Local\\Programs\\Python\\Python310\\lib\\site-packages\\statsmodels\\base\\model.py:607: ConvergenceWarning: Maximum Likelihood optimization failed to converge. Check mle_retvals\n",
      "  warnings.warn(\"Maximum Likelihood optimization failed to \"\n"
     ]
    },
    {
     "name": "stdout",
     "output_type": "stream",
     "text": [
      "ARIMA(1, 1, 2)x(2, 0, 2, 12)12 - AIC:278.5193941507099\n"
     ]
    },
    {
     "name": "stderr",
     "output_type": "stream",
     "text": [
      "c:\\Users\\KIIT\\AppData\\Local\\Programs\\Python\\Python310\\lib\\site-packages\\statsmodels\\base\\model.py:607: ConvergenceWarning: Maximum Likelihood optimization failed to converge. Check mle_retvals\n",
      "  warnings.warn(\"Maximum Likelihood optimization failed to \"\n"
     ]
    },
    {
     "name": "stdout",
     "output_type": "stream",
     "text": [
      "ARIMA(1, 1, 2)x(2, 1, 0, 12)12 - AIC:140.8831199291131\n"
     ]
    },
    {
     "name": "stderr",
     "output_type": "stream",
     "text": [
      "c:\\Users\\KIIT\\AppData\\Local\\Programs\\Python\\Python310\\lib\\site-packages\\statsmodels\\base\\model.py:607: ConvergenceWarning: Maximum Likelihood optimization failed to converge. Check mle_retvals\n",
      "  warnings.warn(\"Maximum Likelihood optimization failed to \"\n"
     ]
    },
    {
     "name": "stdout",
     "output_type": "stream",
     "text": [
      "ARIMA(1, 1, 2)x(2, 1, 1, 12)12 - AIC:142.22935814501304\n"
     ]
    },
    {
     "name": "stderr",
     "output_type": "stream",
     "text": [
      "c:\\Users\\KIIT\\AppData\\Local\\Programs\\Python\\Python310\\lib\\site-packages\\statsmodels\\base\\model.py:607: ConvergenceWarning: Maximum Likelihood optimization failed to converge. Check mle_retvals\n",
      "  warnings.warn(\"Maximum Likelihood optimization failed to \"\n"
     ]
    },
    {
     "name": "stdout",
     "output_type": "stream",
     "text": [
      "ARIMA(1, 1, 2)x(2, 1, 2, 12)12 - AIC:112.86552163510531\n",
      "ARIMA(1, 1, 2)x(2, 2, 0, 12)12 - AIC:12.0\n",
      "ARIMA(1, 1, 2)x(2, 2, 1, 12)12 - AIC:14.0\n",
      "ARIMA(1, 1, 2)x(2, 2, 2, 12)12 - AIC:16.0\n",
      "ARIMA(1, 2, 0)x(0, 0, 0, 12)12 - AIC:691.2298181871188\n",
      "ARIMA(1, 2, 0)x(0, 0, 1, 12)12 - AIC:1131.6185101506878\n"
     ]
    },
    {
     "name": "stderr",
     "output_type": "stream",
     "text": [
      "c:\\Users\\KIIT\\AppData\\Local\\Programs\\Python\\Python310\\lib\\site-packages\\statsmodels\\base\\model.py:607: ConvergenceWarning: Maximum Likelihood optimization failed to converge. Check mle_retvals\n",
      "  warnings.warn(\"Maximum Likelihood optimization failed to \"\n"
     ]
    },
    {
     "name": "stdout",
     "output_type": "stream",
     "text": [
      "ARIMA(1, 2, 0)x(0, 0, 2, 12)12 - AIC:314.2097887299909\n",
      "ARIMA(1, 2, 0)x(0, 1, 0, 12)12 - AIC:487.72549582761314\n",
      "ARIMA(1, 2, 0)x(0, 1, 1, 12)12 - AIC:301.9151498677647\n",
      "ARIMA(1, 2, 0)x(0, 1, 2, 12)12 - AIC:130.77323947220563\n",
      "ARIMA(1, 2, 0)x(0, 2, 0, 12)12 - AIC:326.75644156583337\n",
      "ARIMA(1, 2, 0)x(0, 2, 1, 12)12 - AIC:129.5885643812777\n",
      "ARIMA(1, 2, 0)x(0, 2, 2, 12)12 - AIC:8.0\n",
      "ARIMA(1, 2, 0)x(1, 0, 0, 12)12 - AIC:485.77468859005546\n"
     ]
    },
    {
     "name": "stderr",
     "output_type": "stream",
     "text": [
      "c:\\Users\\KIIT\\AppData\\Local\\Programs\\Python\\Python310\\lib\\site-packages\\statsmodels\\base\\model.py:607: ConvergenceWarning: Maximum Likelihood optimization failed to converge. Check mle_retvals\n",
      "  warnings.warn(\"Maximum Likelihood optimization failed to \"\n"
     ]
    },
    {
     "name": "stdout",
     "output_type": "stream",
     "text": [
      "ARIMA(1, 2, 0)x(1, 0, 1, 12)12 - AIC:1260.6674011207547\n",
      "ARIMA(1, 2, 0)x(1, 0, 2, 12)12 - AIC:303.7332993067201\n",
      "ARIMA(1, 2, 0)x(1, 1, 0, 12)12 - AIC:302.05521432253494\n",
      "ARIMA(1, 2, 0)x(1, 1, 1, 12)12 - AIC:302.47454706123233\n"
     ]
    },
    {
     "name": "stderr",
     "output_type": "stream",
     "text": [
      "c:\\Users\\KIIT\\AppData\\Local\\Programs\\Python\\Python310\\lib\\site-packages\\statsmodels\\base\\model.py:607: ConvergenceWarning: Maximum Likelihood optimization failed to converge. Check mle_retvals\n",
      "  warnings.warn(\"Maximum Likelihood optimization failed to \"\n"
     ]
    },
    {
     "name": "stdout",
     "output_type": "stream",
     "text": [
      "ARIMA(1, 2, 0)x(1, 1, 2, 12)12 - AIC:132.87740539608916\n",
      "ARIMA(1, 2, 0)x(1, 2, 0, 12)12 - AIC:129.59004245503223\n",
      "ARIMA(1, 2, 0)x(1, 2, 1, 12)12 - AIC:131.58851842695577\n",
      "ARIMA(1, 2, 0)x(1, 2, 2, 12)12 - AIC:10.0\n",
      "ARIMA(1, 2, 0)x(2, 0, 0, 12)12 - AIC:303.8385216914435\n",
      "ARIMA(1, 2, 0)x(2, 0, 1, 12)12 - AIC:302.41024985536643\n",
      "ARIMA(1, 2, 0)x(2, 0, 2, 12)12 - AIC:303.83029229257124\n",
      "ARIMA(1, 2, 0)x(2, 1, 0, 12)12 - AIC:130.86502683981098\n"
     ]
    },
    {
     "name": "stderr",
     "output_type": "stream",
     "text": [
      "c:\\Users\\KIIT\\AppData\\Local\\Programs\\Python\\Python310\\lib\\site-packages\\statsmodels\\base\\model.py:607: ConvergenceWarning: Maximum Likelihood optimization failed to converge. Check mle_retvals\n",
      "  warnings.warn(\"Maximum Likelihood optimization failed to \"\n"
     ]
    },
    {
     "name": "stdout",
     "output_type": "stream",
     "text": [
      "ARIMA(1, 2, 0)x(2, 1, 1, 12)12 - AIC:132.55791509334978\n",
      "ARIMA(1, 2, 0)x(2, 1, 2, 12)12 - AIC:134.60016400807757\n",
      "ARIMA(1, 2, 0)x(2, 2, 0, 12)12 - AIC:8.0\n",
      "ARIMA(1, 2, 0)x(2, 2, 1, 12)12 - AIC:10.0\n",
      "ARIMA(1, 2, 0)x(2, 2, 2, 12)12 - AIC:12.0\n",
      "ARIMA(1, 2, 1)x(0, 0, 0, 12)12 - AIC:647.5183048786664\n"
     ]
    },
    {
     "name": "stderr",
     "output_type": "stream",
     "text": [
      "c:\\Users\\KIIT\\AppData\\Local\\Programs\\Python\\Python310\\lib\\site-packages\\statsmodels\\base\\model.py:607: ConvergenceWarning: Maximum Likelihood optimization failed to converge. Check mle_retvals\n",
      "  warnings.warn(\"Maximum Likelihood optimization failed to \"\n"
     ]
    },
    {
     "name": "stdout",
     "output_type": "stream",
     "text": [
      "ARIMA(1, 2, 1)x(0, 0, 1, 12)12 - AIC:2498.602997779225\n",
      "ARIMA(1, 2, 1)x(0, 0, 2, 12)12 - AIC:288.0088549033308\n",
      "ARIMA(1, 2, 1)x(0, 1, 0, 12)12 - AIC:455.9868411970384\n",
      "ARIMA(1, 2, 1)x(0, 1, 1, 12)12 - AIC:278.8955672587369\n",
      "ARIMA(1, 2, 1)x(0, 1, 2, 12)12 - AIC:116.13948298198699\n",
      "ARIMA(1, 2, 1)x(0, 2, 0, 12)12 - AIC:308.33975356015907\n",
      "ARIMA(1, 2, 1)x(0, 2, 1, 12)12 - AIC:116.3050743773563\n",
      "ARIMA(1, 2, 1)x(0, 2, 2, 12)12 - AIC:10.0\n",
      "ARIMA(1, 2, 1)x(1, 0, 0, 12)12 - AIC:470.83502628215723\n"
     ]
    },
    {
     "name": "stderr",
     "output_type": "stream",
     "text": [
      "c:\\Users\\KIIT\\AppData\\Local\\Programs\\Python\\Python310\\lib\\site-packages\\statsmodels\\base\\model.py:607: ConvergenceWarning: Maximum Likelihood optimization failed to converge. Check mle_retvals\n",
      "  warnings.warn(\"Maximum Likelihood optimization failed to \"\n"
     ]
    },
    {
     "name": "stdout",
     "output_type": "stream",
     "text": [
      "ARIMA(1, 2, 1)x(1, 0, 1, 12)12 - AIC:1496.0753377898268\n"
     ]
    },
    {
     "name": "stderr",
     "output_type": "stream",
     "text": [
      "c:\\Users\\KIIT\\AppData\\Local\\Programs\\Python\\Python310\\lib\\site-packages\\statsmodels\\base\\model.py:607: ConvergenceWarning: Maximum Likelihood optimization failed to converge. Check mle_retvals\n",
      "  warnings.warn(\"Maximum Likelihood optimization failed to \"\n"
     ]
    },
    {
     "name": "stdout",
     "output_type": "stream",
     "text": [
      "ARIMA(1, 2, 1)x(1, 0, 2, 12)12 - AIC:284.0803926354265\n",
      "ARIMA(1, 2, 1)x(1, 1, 0, 12)12 - AIC:293.0917446828754\n",
      "ARIMA(1, 2, 1)x(1, 1, 1, 12)12 - AIC:280.8604639142295\n"
     ]
    },
    {
     "name": "stderr",
     "output_type": "stream",
     "text": [
      "c:\\Users\\KIIT\\AppData\\Local\\Programs\\Python\\Python310\\lib\\site-packages\\statsmodels\\base\\model.py:607: ConvergenceWarning: Maximum Likelihood optimization failed to converge. Check mle_retvals\n",
      "  warnings.warn(\"Maximum Likelihood optimization failed to \"\n"
     ]
    },
    {
     "name": "stdout",
     "output_type": "stream",
     "text": [
      "ARIMA(1, 2, 1)x(1, 1, 2, 12)12 - AIC:117.96622045303377\n"
     ]
    },
    {
     "name": "stderr",
     "output_type": "stream",
     "text": [
      "c:\\Users\\KIIT\\AppData\\Local\\Programs\\Python\\Python310\\lib\\site-packages\\statsmodels\\base\\model.py:607: ConvergenceWarning: Maximum Likelihood optimization failed to converge. Check mle_retvals\n",
      "  warnings.warn(\"Maximum Likelihood optimization failed to \"\n"
     ]
    },
    {
     "name": "stdout",
     "output_type": "stream",
     "text": [
      "ARIMA(1, 2, 1)x(1, 2, 0, 12)12 - AIC:129.01972509287955\n"
     ]
    },
    {
     "name": "stderr",
     "output_type": "stream",
     "text": [
      "c:\\Users\\KIIT\\AppData\\Local\\Programs\\Python\\Python310\\lib\\site-packages\\statsmodels\\base\\model.py:607: ConvergenceWarning: Maximum Likelihood optimization failed to converge. Check mle_retvals\n",
      "  warnings.warn(\"Maximum Likelihood optimization failed to \"\n"
     ]
    },
    {
     "name": "stdout",
     "output_type": "stream",
     "text": [
      "ARIMA(1, 2, 1)x(1, 2, 1, 12)12 - AIC:110.63982258173209\n",
      "ARIMA(1, 2, 1)x(1, 2, 2, 12)12 - AIC:12.0\n",
      "ARIMA(1, 2, 1)x(2, 0, 0, 12)12 - AIC:293.76780130292565\n",
      "ARIMA(1, 2, 1)x(2, 0, 1, 12)12 - AIC:292.99261165453305\n",
      "ARIMA(1, 2, 1)x(2, 0, 2, 12)12 - AIC:284.14022541948873\n",
      "ARIMA(1, 2, 1)x(2, 1, 0, 12)12 - AIC:130.6725051357859\n"
     ]
    },
    {
     "name": "stderr",
     "output_type": "stream",
     "text": [
      "c:\\Users\\KIIT\\AppData\\Local\\Programs\\Python\\Python310\\lib\\site-packages\\statsmodels\\base\\model.py:607: ConvergenceWarning: Maximum Likelihood optimization failed to converge. Check mle_retvals\n",
      "  warnings.warn(\"Maximum Likelihood optimization failed to \"\n"
     ]
    },
    {
     "name": "stdout",
     "output_type": "stream",
     "text": [
      "ARIMA(1, 2, 1)x(2, 1, 1, 12)12 - AIC:132.10934161893445\n"
     ]
    },
    {
     "name": "stderr",
     "output_type": "stream",
     "text": [
      "c:\\Users\\KIIT\\AppData\\Local\\Programs\\Python\\Python310\\lib\\site-packages\\statsmodels\\base\\model.py:607: ConvergenceWarning: Maximum Likelihood optimization failed to converge. Check mle_retvals\n",
      "  warnings.warn(\"Maximum Likelihood optimization failed to \"\n"
     ]
    },
    {
     "name": "stdout",
     "output_type": "stream",
     "text": [
      "ARIMA(1, 2, 1)x(2, 1, 2, 12)12 - AIC:120.20579404505925\n",
      "ARIMA(1, 2, 1)x(2, 2, 0, 12)12 - AIC:10.0\n",
      "ARIMA(1, 2, 1)x(2, 2, 1, 12)12 - AIC:12.0\n",
      "ARIMA(1, 2, 1)x(2, 2, 2, 12)12 - AIC:14.0\n",
      "ARIMA(1, 2, 2)x(0, 0, 0, 12)12 - AIC:629.389747057616\n"
     ]
    },
    {
     "name": "stderr",
     "output_type": "stream",
     "text": [
      "c:\\Users\\KIIT\\AppData\\Local\\Programs\\Python\\Python310\\lib\\site-packages\\statsmodels\\base\\model.py:607: ConvergenceWarning: Maximum Likelihood optimization failed to converge. Check mle_retvals\n",
      "  warnings.warn(\"Maximum Likelihood optimization failed to \"\n"
     ]
    },
    {
     "name": "stdout",
     "output_type": "stream",
     "text": [
      "ARIMA(1, 2, 2)x(0, 0, 1, 12)12 - AIC:2420.9451575840767\n"
     ]
    },
    {
     "name": "stderr",
     "output_type": "stream",
     "text": [
      "c:\\Users\\KIIT\\AppData\\Local\\Programs\\Python\\Python310\\lib\\site-packages\\statsmodels\\base\\model.py:607: ConvergenceWarning: Maximum Likelihood optimization failed to converge. Check mle_retvals\n",
      "  warnings.warn(\"Maximum Likelihood optimization failed to \"\n"
     ]
    },
    {
     "name": "stdout",
     "output_type": "stream",
     "text": [
      "ARIMA(1, 2, 2)x(0, 0, 2, 12)12 - AIC:274.811505198775\n",
      "ARIMA(1, 2, 2)x(0, 1, 0, 12)12 - AIC:442.08163418071547\n"
     ]
    },
    {
     "name": "stderr",
     "output_type": "stream",
     "text": [
      "c:\\Users\\KIIT\\AppData\\Local\\Programs\\Python\\Python310\\lib\\site-packages\\statsmodels\\base\\model.py:607: ConvergenceWarning: Maximum Likelihood optimization failed to converge. Check mle_retvals\n",
      "  warnings.warn(\"Maximum Likelihood optimization failed to \"\n"
     ]
    },
    {
     "name": "stdout",
     "output_type": "stream",
     "text": [
      "ARIMA(1, 2, 2)x(0, 1, 1, 12)12 - AIC:263.80960203001354\n"
     ]
    },
    {
     "name": "stderr",
     "output_type": "stream",
     "text": [
      "c:\\Users\\KIIT\\AppData\\Local\\Programs\\Python\\Python310\\lib\\site-packages\\statsmodels\\base\\model.py:607: ConvergenceWarning: Maximum Likelihood optimization failed to converge. Check mle_retvals\n",
      "  warnings.warn(\"Maximum Likelihood optimization failed to \"\n"
     ]
    },
    {
     "name": "stdout",
     "output_type": "stream",
     "text": [
      "ARIMA(1, 2, 2)x(0, 1, 2, 12)12 - AIC:99.38050543556403\n",
      "ARIMA(1, 2, 2)x(0, 2, 0, 12)12 - AIC:294.56278264591776\n",
      "ARIMA(1, 2, 2)x(0, 2, 1, 12)12 - AIC:107.52896744968737\n",
      "ARIMA(1, 2, 2)x(0, 2, 2, 12)12 - AIC:12.0\n",
      "ARIMA(1, 2, 2)x(1, 0, 0, 12)12 - AIC:470.59317282846393\n"
     ]
    },
    {
     "name": "stderr",
     "output_type": "stream",
     "text": [
      "c:\\Users\\KIIT\\AppData\\Local\\Programs\\Python\\Python310\\lib\\site-packages\\statsmodels\\base\\model.py:607: ConvergenceWarning: Maximum Likelihood optimization failed to converge. Check mle_retvals\n",
      "  warnings.warn(\"Maximum Likelihood optimization failed to \"\n"
     ]
    },
    {
     "name": "stdout",
     "output_type": "stream",
     "text": [
      "ARIMA(1, 2, 2)x(1, 0, 1, 12)12 - AIC:901.104097398823\n"
     ]
    },
    {
     "name": "stderr",
     "output_type": "stream",
     "text": [
      "c:\\Users\\KIIT\\AppData\\Local\\Programs\\Python\\Python310\\lib\\site-packages\\statsmodels\\base\\model.py:607: ConvergenceWarning: Maximum Likelihood optimization failed to converge. Check mle_retvals\n",
      "  warnings.warn(\"Maximum Likelihood optimization failed to \"\n"
     ]
    },
    {
     "name": "stdout",
     "output_type": "stream",
     "text": [
      "ARIMA(1, 2, 2)x(1, 0, 2, 12)12 - AIC:270.919913758489\n",
      "ARIMA(1, 2, 2)x(1, 1, 0, 12)12 - AIC:293.34659545530644\n",
      "ARIMA(1, 2, 2)x(1, 1, 1, 12)12 - AIC:265.43062100389307\n"
     ]
    },
    {
     "name": "stderr",
     "output_type": "stream",
     "text": [
      "c:\\Users\\KIIT\\AppData\\Local\\Programs\\Python\\Python310\\lib\\site-packages\\statsmodels\\base\\model.py:607: ConvergenceWarning: Maximum Likelihood optimization failed to converge. Check mle_retvals\n",
      "  warnings.warn(\"Maximum Likelihood optimization failed to \"\n"
     ]
    },
    {
     "name": "stdout",
     "output_type": "stream",
     "text": [
      "ARIMA(1, 2, 2)x(1, 1, 2, 12)12 - AIC:103.35899210231409\n",
      "ARIMA(1, 2, 2)x(1, 2, 0, 12)12 - AIC:127.9594803189533\n"
     ]
    },
    {
     "name": "stderr",
     "output_type": "stream",
     "text": [
      "c:\\Users\\KIIT\\AppData\\Local\\Programs\\Python\\Python310\\lib\\site-packages\\statsmodels\\base\\model.py:607: ConvergenceWarning: Maximum Likelihood optimization failed to converge. Check mle_retvals\n",
      "  warnings.warn(\"Maximum Likelihood optimization failed to \"\n"
     ]
    },
    {
     "name": "stdout",
     "output_type": "stream",
     "text": [
      "ARIMA(1, 2, 2)x(1, 2, 1, 12)12 - AIC:103.78059146867851\n",
      "ARIMA(1, 2, 2)x(1, 2, 2, 12)12 - AIC:14.0\n",
      "ARIMA(1, 2, 2)x(2, 0, 0, 12)12 - AIC:294.0029141351379\n"
     ]
    },
    {
     "name": "stderr",
     "output_type": "stream",
     "text": [
      "c:\\Users\\KIIT\\AppData\\Local\\Programs\\Python\\Python310\\lib\\site-packages\\statsmodels\\base\\model.py:607: ConvergenceWarning: Maximum Likelihood optimization failed to converge. Check mle_retvals\n",
      "  warnings.warn(\"Maximum Likelihood optimization failed to \"\n"
     ]
    },
    {
     "name": "stdout",
     "output_type": "stream",
     "text": [
      "ARIMA(1, 2, 2)x(2, 0, 1, 12)12 - AIC:294.10220033333\n"
     ]
    },
    {
     "name": "stderr",
     "output_type": "stream",
     "text": [
      "c:\\Users\\KIIT\\AppData\\Local\\Programs\\Python\\Python310\\lib\\site-packages\\statsmodels\\base\\model.py:607: ConvergenceWarning: Maximum Likelihood optimization failed to converge. Check mle_retvals\n",
      "  warnings.warn(\"Maximum Likelihood optimization failed to \"\n"
     ]
    },
    {
     "name": "stdout",
     "output_type": "stream",
     "text": [
      "ARIMA(1, 2, 2)x(2, 0, 2, 12)12 - AIC:271.78820435205375\n",
      "ARIMA(1, 2, 2)x(2, 1, 0, 12)12 - AIC:129.61643100298255\n"
     ]
    },
    {
     "name": "stderr",
     "output_type": "stream",
     "text": [
      "c:\\Users\\KIIT\\AppData\\Local\\Programs\\Python\\Python310\\lib\\site-packages\\statsmodels\\base\\model.py:607: ConvergenceWarning: Maximum Likelihood optimization failed to converge. Check mle_retvals\n",
      "  warnings.warn(\"Maximum Likelihood optimization failed to \"\n"
     ]
    },
    {
     "name": "stdout",
     "output_type": "stream",
     "text": [
      "ARIMA(1, 2, 2)x(2, 1, 1, 12)12 - AIC:129.15116493208993\n"
     ]
    },
    {
     "name": "stderr",
     "output_type": "stream",
     "text": [
      "c:\\Users\\KIIT\\AppData\\Local\\Programs\\Python\\Python310\\lib\\site-packages\\statsmodels\\base\\model.py:607: ConvergenceWarning: Maximum Likelihood optimization failed to converge. Check mle_retvals\n",
      "  warnings.warn(\"Maximum Likelihood optimization failed to \"\n"
     ]
    },
    {
     "name": "stdout",
     "output_type": "stream",
     "text": [
      "ARIMA(1, 2, 2)x(2, 1, 2, 12)12 - AIC:104.51702086925619\n",
      "ARIMA(1, 2, 2)x(2, 2, 0, 12)12 - AIC:12.0\n",
      "ARIMA(1, 2, 2)x(2, 2, 1, 12)12 - AIC:14.0\n",
      "ARIMA(1, 2, 2)x(2, 2, 2, 12)12 - AIC:16.0\n",
      "ARIMA(2, 0, 0)x(0, 0, 0, 12)12 - AIC:673.024470585072\n",
      "ARIMA(2, 0, 0)x(0, 0, 1, 12)12 - AIC:1688.9039062593042\n"
     ]
    },
    {
     "name": "stderr",
     "output_type": "stream",
     "text": [
      "c:\\Users\\KIIT\\AppData\\Local\\Programs\\Python\\Python310\\lib\\site-packages\\statsmodels\\base\\model.py:607: ConvergenceWarning: Maximum Likelihood optimization failed to converge. Check mle_retvals\n",
      "  warnings.warn(\"Maximum Likelihood optimization failed to \"\n"
     ]
    },
    {
     "name": "stdout",
     "output_type": "stream",
     "text": [
      "ARIMA(2, 0, 0)x(0, 0, 2, 12)12 - AIC:329.644554518668\n",
      "ARIMA(2, 0, 0)x(0, 1, 0, 12)12 - AIC:468.31523432718774\n",
      "ARIMA(2, 0, 0)x(0, 1, 1, 12)12 - AIC:305.7604710918275\n",
      "ARIMA(2, 0, 0)x(0, 1, 2, 12)12 - AIC:150.46805218442069\n",
      "ARIMA(2, 0, 0)x(0, 2, 0, 12)12 - AIC:326.1432862885688\n",
      "ARIMA(2, 0, 0)x(0, 2, 1, 12)12 - AIC:153.82781675527275\n",
      "ARIMA(2, 0, 0)x(0, 2, 2, 12)12 - AIC:10.0\n",
      "ARIMA(2, 0, 0)x(1, 0, 0, 12)12 - AIC:469.60455394735504\n"
     ]
    },
    {
     "name": "stderr",
     "output_type": "stream",
     "text": [
      "c:\\Users\\KIIT\\AppData\\Local\\Programs\\Python\\Python310\\lib\\site-packages\\statsmodels\\base\\model.py:607: ConvergenceWarning: Maximum Likelihood optimization failed to converge. Check mle_retvals\n",
      "  warnings.warn(\"Maximum Likelihood optimization failed to \"\n"
     ]
    },
    {
     "name": "stdout",
     "output_type": "stream",
     "text": [
      "ARIMA(2, 0, 0)x(1, 0, 1, 12)12 - AIC:1586.9431896216227\n"
     ]
    },
    {
     "name": "stderr",
     "output_type": "stream",
     "text": [
      "c:\\Users\\KIIT\\AppData\\Local\\Programs\\Python\\Python310\\lib\\site-packages\\statsmodels\\base\\model.py:607: ConvergenceWarning: Maximum Likelihood optimization failed to converge. Check mle_retvals\n",
      "  warnings.warn(\"Maximum Likelihood optimization failed to \"\n"
     ]
    },
    {
     "name": "stdout",
     "output_type": "stream",
     "text": [
      "ARIMA(2, 0, 0)x(1, 0, 2, 12)12 - AIC:312.8548069752399\n",
      "ARIMA(2, 0, 0)x(1, 1, 0, 12)12 - AIC:293.5694644840542\n",
      "ARIMA(2, 0, 0)x(1, 1, 1, 12)12 - AIC:295.3605973462425\n"
     ]
    },
    {
     "name": "stderr",
     "output_type": "stream",
     "text": [
      "c:\\Users\\KIIT\\AppData\\Local\\Programs\\Python\\Python310\\lib\\site-packages\\statsmodels\\base\\model.py:607: ConvergenceWarning: Maximum Likelihood optimization failed to converge. Check mle_retvals\n",
      "  warnings.warn(\"Maximum Likelihood optimization failed to \"\n"
     ]
    },
    {
     "name": "stdout",
     "output_type": "stream",
     "text": [
      "ARIMA(2, 0, 0)x(1, 1, 2, 12)12 - AIC:152.46824205480783\n",
      "ARIMA(2, 0, 0)x(1, 2, 0, 12)12 - AIC:134.4781543303569\n"
     ]
    },
    {
     "name": "stderr",
     "output_type": "stream",
     "text": [
      "c:\\Users\\KIIT\\AppData\\Local\\Programs\\Python\\Python310\\lib\\site-packages\\statsmodels\\base\\model.py:607: ConvergenceWarning: Maximum Likelihood optimization failed to converge. Check mle_retvals\n",
      "  warnings.warn(\"Maximum Likelihood optimization failed to \"\n"
     ]
    },
    {
     "name": "stdout",
     "output_type": "stream",
     "text": [
      "ARIMA(2, 0, 0)x(1, 2, 1, 12)12 - AIC:136.1311538466764\n",
      "ARIMA(2, 0, 0)x(1, 2, 2, 12)12 - AIC:12.0\n",
      "ARIMA(2, 0, 0)x(2, 0, 0, 12)12 - AIC:295.5281909698292\n",
      "ARIMA(2, 0, 0)x(2, 0, 1, 12)12 - AIC:875.7374575792496\n"
     ]
    },
    {
     "name": "stderr",
     "output_type": "stream",
     "text": [
      "c:\\Users\\KIIT\\AppData\\Local\\Programs\\Python\\Python310\\lib\\site-packages\\statsmodels\\base\\model.py:607: ConvergenceWarning: Maximum Likelihood optimization failed to converge. Check mle_retvals\n",
      "  warnings.warn(\"Maximum Likelihood optimization failed to \"\n"
     ]
    },
    {
     "name": "stdout",
     "output_type": "stream",
     "text": [
      "ARIMA(2, 0, 0)x(2, 0, 2, 12)12 - AIC:299.18555571133135\n",
      "ARIMA(2, 0, 0)x(2, 1, 0, 12)12 - AIC:136.04020418831237\n"
     ]
    },
    {
     "name": "stderr",
     "output_type": "stream",
     "text": [
      "c:\\Users\\KIIT\\AppData\\Local\\Programs\\Python\\Python310\\lib\\site-packages\\statsmodels\\base\\model.py:607: ConvergenceWarning: Maximum Likelihood optimization failed to converge. Check mle_retvals\n",
      "  warnings.warn(\"Maximum Likelihood optimization failed to \"\n"
     ]
    },
    {
     "name": "stdout",
     "output_type": "stream",
     "text": [
      "ARIMA(2, 0, 0)x(2, 1, 1, 12)12 - AIC:137.55618615048746\n"
     ]
    },
    {
     "name": "stderr",
     "output_type": "stream",
     "text": [
      "c:\\Users\\KIIT\\AppData\\Local\\Programs\\Python\\Python310\\lib\\site-packages\\statsmodels\\base\\model.py:607: ConvergenceWarning: Maximum Likelihood optimization failed to converge. Check mle_retvals\n",
      "  warnings.warn(\"Maximum Likelihood optimization failed to \"\n"
     ]
    },
    {
     "name": "stdout",
     "output_type": "stream",
     "text": [
      "ARIMA(2, 0, 0)x(2, 1, 2, 12)12 - AIC:136.95268154008485\n",
      "ARIMA(2, 0, 0)x(2, 2, 0, 12)12 - AIC:10.0\n",
      "ARIMA(2, 0, 0)x(2, 2, 1, 12)12 - AIC:12.0\n",
      "ARIMA(2, 0, 0)x(2, 2, 2, 12)12 - AIC:14.0\n",
      "ARIMA(2, 0, 1)x(0, 0, 0, 12)12 - AIC:665.7944839756384\n",
      "ARIMA(2, 0, 1)x(0, 0, 1, 12)12 - AIC:2685.6118350211386\n"
     ]
    },
    {
     "name": "stderr",
     "output_type": "stream",
     "text": [
      "c:\\Users\\KIIT\\AppData\\Local\\Programs\\Python\\Python310\\lib\\site-packages\\statsmodels\\base\\model.py:607: ConvergenceWarning: Maximum Likelihood optimization failed to converge. Check mle_retvals\n",
      "  warnings.warn(\"Maximum Likelihood optimization failed to \"\n",
      "c:\\Users\\KIIT\\AppData\\Local\\Programs\\Python\\Python310\\lib\\site-packages\\statsmodels\\base\\model.py:607: ConvergenceWarning: Maximum Likelihood optimization failed to converge. Check mle_retvals\n",
      "  warnings.warn(\"Maximum Likelihood optimization failed to \"\n"
     ]
    },
    {
     "name": "stdout",
     "output_type": "stream",
     "text": [
      "ARIMA(2, 0, 1)x(0, 0, 2, 12)12 - AIC:312.5294471448913\n",
      "ARIMA(2, 0, 1)x(0, 1, 0, 12)12 - AIC:469.8069210956197\n",
      "ARIMA(2, 0, 1)x(0, 1, 1, 12)12 - AIC:295.3105416347133\n"
     ]
    },
    {
     "name": "stderr",
     "output_type": "stream",
     "text": [
      "c:\\Users\\KIIT\\AppData\\Local\\Programs\\Python\\Python310\\lib\\site-packages\\statsmodels\\base\\model.py:607: ConvergenceWarning: Maximum Likelihood optimization failed to converge. Check mle_retvals\n",
      "  warnings.warn(\"Maximum Likelihood optimization failed to \"\n"
     ]
    },
    {
     "name": "stdout",
     "output_type": "stream",
     "text": [
      "ARIMA(2, 0, 1)x(0, 1, 2, 12)12 - AIC:133.76686871920833\n",
      "ARIMA(2, 0, 1)x(0, 2, 0, 12)12 - AIC:326.6148901287904\n",
      "ARIMA(2, 0, 1)x(0, 2, 1, 12)12 - AIC:136.41927810221276\n",
      "ARIMA(2, 0, 1)x(0, 2, 2, 12)12 - AIC:12.0\n",
      "ARIMA(2, 0, 1)x(1, 0, 0, 12)12 - AIC:471.15581793171475\n",
      "ARIMA(2, 0, 1)x(1, 0, 1, 12)12 - AIC:2547.4928291474994\n"
     ]
    },
    {
     "name": "stderr",
     "output_type": "stream",
     "text": [
      "c:\\Users\\KIIT\\AppData\\Local\\Programs\\Python\\Python310\\lib\\site-packages\\statsmodels\\base\\model.py:607: ConvergenceWarning: Maximum Likelihood optimization failed to converge. Check mle_retvals\n",
      "  warnings.warn(\"Maximum Likelihood optimization failed to \"\n",
      "c:\\Users\\KIIT\\AppData\\Local\\Programs\\Python\\Python310\\lib\\site-packages\\statsmodels\\base\\model.py:607: ConvergenceWarning: Maximum Likelihood optimization failed to converge. Check mle_retvals\n",
      "  warnings.warn(\"Maximum Likelihood optimization failed to \"\n"
     ]
    },
    {
     "name": "stdout",
     "output_type": "stream",
     "text": [
      "ARIMA(2, 0, 1)x(1, 0, 2, 12)12 - AIC:302.74212659510937\n",
      "ARIMA(2, 0, 1)x(1, 1, 0, 12)12 - AIC:294.14936432413197\n"
     ]
    },
    {
     "name": "stderr",
     "output_type": "stream",
     "text": [
      "c:\\Users\\KIIT\\AppData\\Local\\Programs\\Python\\Python310\\lib\\site-packages\\statsmodels\\base\\model.py:607: ConvergenceWarning: Maximum Likelihood optimization failed to converge. Check mle_retvals\n",
      "  warnings.warn(\"Maximum Likelihood optimization failed to \"\n"
     ]
    },
    {
     "name": "stdout",
     "output_type": "stream",
     "text": [
      "ARIMA(2, 0, 1)x(1, 1, 1, 12)12 - AIC:292.46404151315295\n"
     ]
    },
    {
     "name": "stderr",
     "output_type": "stream",
     "text": [
      "c:\\Users\\KIIT\\AppData\\Local\\Programs\\Python\\Python310\\lib\\site-packages\\statsmodels\\base\\model.py:607: ConvergenceWarning: Maximum Likelihood optimization failed to converge. Check mle_retvals\n",
      "  warnings.warn(\"Maximum Likelihood optimization failed to \"\n"
     ]
    },
    {
     "name": "stdout",
     "output_type": "stream",
     "text": [
      "ARIMA(2, 0, 1)x(1, 1, 2, 12)12 - AIC:136.61064675333444\n",
      "ARIMA(2, 0, 1)x(1, 2, 0, 12)12 - AIC:136.47829623817677\n"
     ]
    },
    {
     "name": "stderr",
     "output_type": "stream",
     "text": [
      "c:\\Users\\KIIT\\AppData\\Local\\Programs\\Python\\Python310\\lib\\site-packages\\statsmodels\\base\\model.py:607: ConvergenceWarning: Maximum Likelihood optimization failed to converge. Check mle_retvals\n",
      "  warnings.warn(\"Maximum Likelihood optimization failed to \"\n"
     ]
    },
    {
     "name": "stdout",
     "output_type": "stream",
     "text": [
      "ARIMA(2, 0, 1)x(1, 2, 1, 12)12 - AIC:143.59836261431073\n",
      "ARIMA(2, 0, 1)x(1, 2, 2, 12)12 - AIC:14.0\n",
      "ARIMA(2, 0, 1)x(2, 0, 0, 12)12 - AIC:295.93337027534534\n"
     ]
    },
    {
     "name": "stderr",
     "output_type": "stream",
     "text": [
      "c:\\Users\\KIIT\\AppData\\Local\\Programs\\Python\\Python310\\lib\\site-packages\\statsmodels\\base\\model.py:607: ConvergenceWarning: Maximum Likelihood optimization failed to converge. Check mle_retvals\n",
      "  warnings.warn(\"Maximum Likelihood optimization failed to \"\n"
     ]
    },
    {
     "name": "stdout",
     "output_type": "stream",
     "text": [
      "ARIMA(2, 0, 1)x(2, 0, 1, 12)12 - AIC:873.323050662922\n"
     ]
    },
    {
     "name": "stderr",
     "output_type": "stream",
     "text": [
      "c:\\Users\\KIIT\\AppData\\Local\\Programs\\Python\\Python310\\lib\\site-packages\\statsmodels\\base\\model.py:607: ConvergenceWarning: Maximum Likelihood optimization failed to converge. Check mle_retvals\n",
      "  warnings.warn(\"Maximum Likelihood optimization failed to \"\n"
     ]
    },
    {
     "name": "stdout",
     "output_type": "stream",
     "text": [
      "ARIMA(2, 0, 1)x(2, 0, 2, 12)12 - AIC:299.969570984472\n"
     ]
    },
    {
     "name": "stderr",
     "output_type": "stream",
     "text": [
      "c:\\Users\\KIIT\\AppData\\Local\\Programs\\Python\\Python310\\lib\\site-packages\\statsmodels\\base\\model.py:607: ConvergenceWarning: Maximum Likelihood optimization failed to converge. Check mle_retvals\n",
      "  warnings.warn(\"Maximum Likelihood optimization failed to \"\n"
     ]
    },
    {
     "name": "stdout",
     "output_type": "stream",
     "text": [
      "ARIMA(2, 0, 1)x(2, 1, 0, 12)12 - AIC:133.592783650522\n"
     ]
    },
    {
     "name": "stderr",
     "output_type": "stream",
     "text": [
      "c:\\Users\\KIIT\\AppData\\Local\\Programs\\Python\\Python310\\lib\\site-packages\\statsmodels\\base\\model.py:607: ConvergenceWarning: Maximum Likelihood optimization failed to converge. Check mle_retvals\n",
      "  warnings.warn(\"Maximum Likelihood optimization failed to \"\n"
     ]
    },
    {
     "name": "stdout",
     "output_type": "stream",
     "text": [
      "ARIMA(2, 0, 1)x(2, 1, 1, 12)12 - AIC:141.2575276308831\n"
     ]
    },
    {
     "name": "stderr",
     "output_type": "stream",
     "text": [
      "c:\\Users\\KIIT\\AppData\\Local\\Programs\\Python\\Python310\\lib\\site-packages\\statsmodels\\base\\model.py:607: ConvergenceWarning: Maximum Likelihood optimization failed to converge. Check mle_retvals\n",
      "  warnings.warn(\"Maximum Likelihood optimization failed to \"\n"
     ]
    },
    {
     "name": "stdout",
     "output_type": "stream",
     "text": [
      "ARIMA(2, 0, 1)x(2, 1, 2, 12)12 - AIC:144.08951029347523\n",
      "ARIMA(2, 0, 1)x(2, 2, 0, 12)12 - AIC:12.0\n",
      "ARIMA(2, 0, 1)x(2, 2, 1, 12)12 - AIC:14.0\n",
      "ARIMA(2, 0, 1)x(2, 2, 2, 12)12 - AIC:16.0\n",
      "ARIMA(2, 0, 2)x(0, 0, 0, 12)12 - AIC:653.6818630917662\n"
     ]
    },
    {
     "name": "stderr",
     "output_type": "stream",
     "text": [
      "c:\\Users\\KIIT\\AppData\\Local\\Programs\\Python\\Python310\\lib\\site-packages\\statsmodels\\base\\model.py:607: ConvergenceWarning: Maximum Likelihood optimization failed to converge. Check mle_retvals\n",
      "  warnings.warn(\"Maximum Likelihood optimization failed to \"\n"
     ]
    },
    {
     "name": "stdout",
     "output_type": "stream",
     "text": [
      "ARIMA(2, 0, 2)x(0, 0, 1, 12)12 - AIC:1509.4223005850054\n"
     ]
    },
    {
     "name": "stderr",
     "output_type": "stream",
     "text": [
      "c:\\Users\\KIIT\\AppData\\Local\\Programs\\Python\\Python310\\lib\\site-packages\\statsmodels\\base\\model.py:607: ConvergenceWarning: Maximum Likelihood optimization failed to converge. Check mle_retvals\n",
      "  warnings.warn(\"Maximum Likelihood optimization failed to \"\n"
     ]
    },
    {
     "name": "stdout",
     "output_type": "stream",
     "text": [
      "ARIMA(2, 0, 2)x(0, 0, 2, 12)12 - AIC:296.9120942043579\n",
      "ARIMA(2, 0, 2)x(0, 1, 0, 12)12 - AIC:453.6893814558425\n"
     ]
    },
    {
     "name": "stderr",
     "output_type": "stream",
     "text": [
      "c:\\Users\\KIIT\\AppData\\Local\\Programs\\Python\\Python310\\lib\\site-packages\\statsmodels\\base\\model.py:607: ConvergenceWarning: Maximum Likelihood optimization failed to converge. Check mle_retvals\n",
      "  warnings.warn(\"Maximum Likelihood optimization failed to \"\n"
     ]
    },
    {
     "name": "stdout",
     "output_type": "stream",
     "text": [
      "ARIMA(2, 0, 2)x(0, 1, 1, 12)12 - AIC:276.4454252233922\n"
     ]
    },
    {
     "name": "stderr",
     "output_type": "stream",
     "text": [
      "c:\\Users\\KIIT\\AppData\\Local\\Programs\\Python\\Python310\\lib\\site-packages\\statsmodels\\base\\model.py:607: ConvergenceWarning: Maximum Likelihood optimization failed to converge. Check mle_retvals\n",
      "  warnings.warn(\"Maximum Likelihood optimization failed to \"\n"
     ]
    },
    {
     "name": "stdout",
     "output_type": "stream",
     "text": [
      "ARIMA(2, 0, 2)x(0, 1, 2, 12)12 - AIC:124.44963802155024\n",
      "ARIMA(2, 0, 2)x(0, 2, 0, 12)12 - AIC:314.4582136712319\n"
     ]
    },
    {
     "name": "stderr",
     "output_type": "stream",
     "text": [
      "c:\\Users\\KIIT\\AppData\\Local\\Programs\\Python\\Python310\\lib\\site-packages\\statsmodels\\base\\model.py:607: ConvergenceWarning: Maximum Likelihood optimization failed to converge. Check mle_retvals\n",
      "  warnings.warn(\"Maximum Likelihood optimization failed to \"\n"
     ]
    },
    {
     "name": "stdout",
     "output_type": "stream",
     "text": [
      "ARIMA(2, 0, 2)x(0, 2, 1, 12)12 - AIC:125.38221840998649\n",
      "ARIMA(2, 0, 2)x(0, 2, 2, 12)12 - AIC:14.0\n",
      "ARIMA(2, 0, 2)x(1, 0, 0, 12)12 - AIC:471.84787713182106\n"
     ]
    },
    {
     "name": "stderr",
     "output_type": "stream",
     "text": [
      "c:\\Users\\KIIT\\AppData\\Local\\Programs\\Python\\Python310\\lib\\site-packages\\statsmodels\\base\\model.py:607: ConvergenceWarning: Maximum Likelihood optimization failed to converge. Check mle_retvals\n",
      "  warnings.warn(\"Maximum Likelihood optimization failed to \"\n"
     ]
    },
    {
     "name": "stdout",
     "output_type": "stream",
     "text": [
      "ARIMA(2, 0, 2)x(1, 0, 1, 12)12 - AIC:2046.4038704217269\n"
     ]
    },
    {
     "name": "stderr",
     "output_type": "stream",
     "text": [
      "c:\\Users\\KIIT\\AppData\\Local\\Programs\\Python\\Python310\\lib\\site-packages\\statsmodels\\base\\model.py:607: ConvergenceWarning: Maximum Likelihood optimization failed to converge. Check mle_retvals\n",
      "  warnings.warn(\"Maximum Likelihood optimization failed to \"\n"
     ]
    },
    {
     "name": "stdout",
     "output_type": "stream",
     "text": [
      "ARIMA(2, 0, 2)x(1, 0, 2, 12)12 - AIC:292.96292931819966\n"
     ]
    },
    {
     "name": "stderr",
     "output_type": "stream",
     "text": [
      "c:\\Users\\KIIT\\AppData\\Local\\Programs\\Python\\Python310\\lib\\site-packages\\statsmodels\\base\\model.py:607: ConvergenceWarning: Maximum Likelihood optimization failed to converge. Check mle_retvals\n",
      "  warnings.warn(\"Maximum Likelihood optimization failed to \"\n"
     ]
    },
    {
     "name": "stdout",
     "output_type": "stream",
     "text": [
      "ARIMA(2, 0, 2)x(1, 1, 0, 12)12 - AIC:288.5615357049039\n"
     ]
    },
    {
     "name": "stderr",
     "output_type": "stream",
     "text": [
      "c:\\Users\\KIIT\\AppData\\Local\\Programs\\Python\\Python310\\lib\\site-packages\\statsmodels\\base\\model.py:607: ConvergenceWarning: Maximum Likelihood optimization failed to converge. Check mle_retvals\n",
      "  warnings.warn(\"Maximum Likelihood optimization failed to \"\n"
     ]
    },
    {
     "name": "stdout",
     "output_type": "stream",
     "text": [
      "ARIMA(2, 0, 2)x(1, 1, 1, 12)12 - AIC:279.9732423990678\n"
     ]
    },
    {
     "name": "stderr",
     "output_type": "stream",
     "text": [
      "c:\\Users\\KIIT\\AppData\\Local\\Programs\\Python\\Python310\\lib\\site-packages\\statsmodels\\base\\model.py:607: ConvergenceWarning: Maximum Likelihood optimization failed to converge. Check mle_retvals\n",
      "  warnings.warn(\"Maximum Likelihood optimization failed to \"\n"
     ]
    },
    {
     "name": "stdout",
     "output_type": "stream",
     "text": [
      "ARIMA(2, 0, 2)x(1, 1, 2, 12)12 - AIC:126.90533065665726\n",
      "ARIMA(2, 0, 2)x(1, 2, 0, 12)12 - AIC:135.25203412972868\n"
     ]
    },
    {
     "name": "stderr",
     "output_type": "stream",
     "text": [
      "c:\\Users\\KIIT\\AppData\\Local\\Programs\\Python\\Python310\\lib\\site-packages\\statsmodels\\base\\model.py:607: ConvergenceWarning: Maximum Likelihood optimization failed to converge. Check mle_retvals\n",
      "  warnings.warn(\"Maximum Likelihood optimization failed to \"\n"
     ]
    },
    {
     "name": "stdout",
     "output_type": "stream",
     "text": [
      "ARIMA(2, 0, 2)x(1, 2, 1, 12)12 - AIC:131.94961695587173\n",
      "ARIMA(2, 0, 2)x(1, 2, 2, 12)12 - AIC:16.0\n"
     ]
    },
    {
     "name": "stderr",
     "output_type": "stream",
     "text": [
      "c:\\Users\\KIIT\\AppData\\Local\\Programs\\Python\\Python310\\lib\\site-packages\\statsmodels\\base\\model.py:607: ConvergenceWarning: Maximum Likelihood optimization failed to converge. Check mle_retvals\n",
      "  warnings.warn(\"Maximum Likelihood optimization failed to \"\n"
     ]
    },
    {
     "name": "stdout",
     "output_type": "stream",
     "text": [
      "ARIMA(2, 0, 2)x(2, 0, 0, 12)12 - AIC:292.6577869191293\n"
     ]
    },
    {
     "name": "stderr",
     "output_type": "stream",
     "text": [
      "c:\\Users\\KIIT\\AppData\\Local\\Programs\\Python\\Python310\\lib\\site-packages\\statsmodels\\base\\model.py:607: ConvergenceWarning: Maximum Likelihood optimization failed to converge. Check mle_retvals\n",
      "  warnings.warn(\"Maximum Likelihood optimization failed to \"\n"
     ]
    },
    {
     "name": "stdout",
     "output_type": "stream",
     "text": [
      "ARIMA(2, 0, 2)x(2, 0, 1, 12)12 - AIC:989.6984314343905\n"
     ]
    },
    {
     "name": "stderr",
     "output_type": "stream",
     "text": [
      "c:\\Users\\KIIT\\AppData\\Local\\Programs\\Python\\Python310\\lib\\site-packages\\statsmodels\\base\\model.py:607: ConvergenceWarning: Maximum Likelihood optimization failed to converge. Check mle_retvals\n",
      "  warnings.warn(\"Maximum Likelihood optimization failed to \"\n"
     ]
    },
    {
     "name": "stdout",
     "output_type": "stream",
     "text": [
      "ARIMA(2, 0, 2)x(2, 0, 2, 12)12 - AIC:289.53302919091874\n"
     ]
    },
    {
     "name": "stderr",
     "output_type": "stream",
     "text": [
      "c:\\Users\\KIIT\\AppData\\Local\\Programs\\Python\\Python310\\lib\\site-packages\\statsmodels\\base\\model.py:607: ConvergenceWarning: Maximum Likelihood optimization failed to converge. Check mle_retvals\n",
      "  warnings.warn(\"Maximum Likelihood optimization failed to \"\n"
     ]
    },
    {
     "name": "stdout",
     "output_type": "stream",
     "text": [
      "ARIMA(2, 0, 2)x(2, 1, 0, 12)12 - AIC:133.42213432266504\n"
     ]
    },
    {
     "name": "stderr",
     "output_type": "stream",
     "text": [
      "c:\\Users\\KIIT\\AppData\\Local\\Programs\\Python\\Python310\\lib\\site-packages\\statsmodels\\base\\model.py:607: ConvergenceWarning: Maximum Likelihood optimization failed to converge. Check mle_retvals\n",
      "  warnings.warn(\"Maximum Likelihood optimization failed to \"\n"
     ]
    },
    {
     "name": "stdout",
     "output_type": "stream",
     "text": [
      "ARIMA(2, 0, 2)x(2, 1, 1, 12)12 - AIC:133.77375568404045\n"
     ]
    },
    {
     "name": "stderr",
     "output_type": "stream",
     "text": [
      "c:\\Users\\KIIT\\AppData\\Local\\Programs\\Python\\Python310\\lib\\site-packages\\statsmodels\\base\\model.py:607: ConvergenceWarning: Maximum Likelihood optimization failed to converge. Check mle_retvals\n",
      "  warnings.warn(\"Maximum Likelihood optimization failed to \"\n"
     ]
    },
    {
     "name": "stdout",
     "output_type": "stream",
     "text": [
      "ARIMA(2, 0, 2)x(2, 1, 2, 12)12 - AIC:127.54323117341053\n",
      "ARIMA(2, 0, 2)x(2, 2, 0, 12)12 - AIC:14.0\n",
      "ARIMA(2, 0, 2)x(2, 2, 1, 12)12 - AIC:16.0\n",
      "ARIMA(2, 0, 2)x(2, 2, 2, 12)12 - AIC:18.0\n",
      "ARIMA(2, 1, 0)x(0, 0, 0, 12)12 - AIC:651.8913365664915\n",
      "ARIMA(2, 1, 0)x(0, 0, 1, 12)12 - AIC:1435.0850968891893\n"
     ]
    },
    {
     "name": "stderr",
     "output_type": "stream",
     "text": [
      "c:\\Users\\KIIT\\AppData\\Local\\Programs\\Python\\Python310\\lib\\site-packages\\statsmodels\\base\\model.py:607: ConvergenceWarning: Maximum Likelihood optimization failed to converge. Check mle_retvals\n",
      "  warnings.warn(\"Maximum Likelihood optimization failed to \"\n"
     ]
    },
    {
     "name": "stdout",
     "output_type": "stream",
     "text": [
      "ARIMA(2, 1, 0)x(0, 0, 2, 12)12 - AIC:309.7535736446978\n",
      "ARIMA(2, 1, 0)x(0, 1, 0, 12)12 - AIC:464.89194824201576\n",
      "ARIMA(2, 1, 0)x(0, 1, 1, 12)12 - AIC:300.2707267585204\n",
      "ARIMA(2, 1, 0)x(0, 1, 2, 12)12 - AIC:140.40064933252313\n",
      "ARIMA(2, 1, 0)x(0, 2, 0, 12)12 - AIC:318.67122575690234\n",
      "ARIMA(2, 1, 0)x(0, 2, 1, 12)12 - AIC:142.91921627449838\n",
      "ARIMA(2, 1, 0)x(0, 2, 2, 12)12 - AIC:10.0\n",
      "ARIMA(2, 1, 0)x(1, 0, 0, 12)12 - AIC:461.9777969139453\n",
      "ARIMA(2, 1, 0)x(1, 0, 1, 12)12 - AIC:1638.72723763883\n",
      "ARIMA(2, 1, 0)x(1, 0, 2, 12)12 - AIC:305.56885517363867\n",
      "ARIMA(2, 1, 0)x(1, 1, 0, 12)12 - AIC:288.393565041763\n",
      "ARIMA(2, 1, 0)x(1, 1, 1, 12)12 - AIC:289.32382951400314\n"
     ]
    },
    {
     "name": "stderr",
     "output_type": "stream",
     "text": [
      "c:\\Users\\KIIT\\AppData\\Local\\Programs\\Python\\Python310\\lib\\site-packages\\statsmodels\\base\\model.py:607: ConvergenceWarning: Maximum Likelihood optimization failed to converge. Check mle_retvals\n",
      "  warnings.warn(\"Maximum Likelihood optimization failed to \"\n"
     ]
    },
    {
     "name": "stdout",
     "output_type": "stream",
     "text": [
      "ARIMA(2, 1, 0)x(1, 1, 2, 12)12 - AIC:142.36877215917102\n",
      "ARIMA(2, 1, 0)x(1, 2, 0, 12)12 - AIC:127.6047141880174\n"
     ]
    },
    {
     "name": "stderr",
     "output_type": "stream",
     "text": [
      "c:\\Users\\KIIT\\AppData\\Local\\Programs\\Python\\Python310\\lib\\site-packages\\statsmodels\\base\\model.py:607: ConvergenceWarning: Maximum Likelihood optimization failed to converge. Check mle_retvals\n",
      "  warnings.warn(\"Maximum Likelihood optimization failed to \"\n"
     ]
    },
    {
     "name": "stdout",
     "output_type": "stream",
     "text": [
      "ARIMA(2, 1, 0)x(1, 2, 1, 12)12 - AIC:129.25276146338751\n",
      "ARIMA(2, 1, 0)x(1, 2, 2, 12)12 - AIC:12.0\n",
      "ARIMA(2, 1, 0)x(2, 0, 0, 12)12 - AIC:288.7598698371242\n"
     ]
    },
    {
     "name": "stderr",
     "output_type": "stream",
     "text": [
      "c:\\Users\\KIIT\\AppData\\Local\\Programs\\Python\\Python310\\lib\\site-packages\\statsmodels\\base\\model.py:607: ConvergenceWarning: Maximum Likelihood optimization failed to converge. Check mle_retvals\n",
      "  warnings.warn(\"Maximum Likelihood optimization failed to \"\n"
     ]
    },
    {
     "name": "stdout",
     "output_type": "stream",
     "text": [
      "ARIMA(2, 1, 0)x(2, 0, 1, 12)12 - AIC:826.0105452340597\n"
     ]
    },
    {
     "name": "stderr",
     "output_type": "stream",
     "text": [
      "c:\\Users\\KIIT\\AppData\\Local\\Programs\\Python\\Python310\\lib\\site-packages\\statsmodels\\base\\model.py:607: ConvergenceWarning: Maximum Likelihood optimization failed to converge. Check mle_retvals\n",
      "  warnings.warn(\"Maximum Likelihood optimization failed to \"\n"
     ]
    },
    {
     "name": "stdout",
     "output_type": "stream",
     "text": [
      "ARIMA(2, 1, 0)x(2, 0, 2, 12)12 - AIC:292.0997699445306\n",
      "ARIMA(2, 1, 0)x(2, 1, 0, 12)12 - AIC:126.86910500705508\n",
      "ARIMA(2, 1, 0)x(2, 1, 1, 12)12 - AIC:128.32471504356283\n",
      "ARIMA(2, 1, 0)x(2, 1, 2, 12)12 - AIC:130.17521990351258\n",
      "ARIMA(2, 1, 0)x(2, 2, 0, 12)12 - AIC:10.0\n",
      "ARIMA(2, 1, 0)x(2, 2, 1, 12)12 - AIC:12.0\n",
      "ARIMA(2, 1, 0)x(2, 2, 2, 12)12 - AIC:14.0\n",
      "ARIMA(2, 1, 1)x(0, 0, 0, 12)12 - AIC:653.7027592626605\n"
     ]
    },
    {
     "name": "stderr",
     "output_type": "stream",
     "text": [
      "c:\\Users\\KIIT\\AppData\\Local\\Programs\\Python\\Python310\\lib\\site-packages\\statsmodels\\base\\model.py:607: ConvergenceWarning: Maximum Likelihood optimization failed to converge. Check mle_retvals\n",
      "  warnings.warn(\"Maximum Likelihood optimization failed to \"\n"
     ]
    },
    {
     "name": "stdout",
     "output_type": "stream",
     "text": [
      "ARIMA(2, 1, 1)x(0, 0, 1, 12)12 - AIC:2529.2943468963895\n",
      "ARIMA(2, 1, 1)x(0, 0, 2, 12)12 - AIC:299.2076520073539\n",
      "ARIMA(2, 1, 1)x(0, 1, 0, 12)12 - AIC:461.5737182105277\n",
      "ARIMA(2, 1, 1)x(0, 1, 1, 12)12 - AIC:283.2664717628257\n",
      "ARIMA(2, 1, 1)x(0, 1, 2, 12)12 - AIC:126.19789518184817\n",
      "ARIMA(2, 1, 1)x(0, 2, 0, 12)12 - AIC:319.47517657323465\n",
      "ARIMA(2, 1, 1)x(0, 2, 1, 12)12 - AIC:124.42338570540834\n",
      "ARIMA(2, 1, 1)x(0, 2, 2, 12)12 - AIC:12.0\n",
      "ARIMA(2, 1, 1)x(1, 0, 0, 12)12 - AIC:457.91198004859916\n"
     ]
    },
    {
     "name": "stderr",
     "output_type": "stream",
     "text": [
      "c:\\Users\\KIIT\\AppData\\Local\\Programs\\Python\\Python310\\lib\\site-packages\\statsmodels\\base\\model.py:607: ConvergenceWarning: Maximum Likelihood optimization failed to converge. Check mle_retvals\n",
      "  warnings.warn(\"Maximum Likelihood optimization failed to \"\n"
     ]
    },
    {
     "name": "stdout",
     "output_type": "stream",
     "text": [
      "ARIMA(2, 1, 1)x(1, 0, 1, 12)12 - AIC:2532.596346894791\n",
      "ARIMA(2, 1, 1)x(1, 0, 2, 12)12 - AIC:291.2384725309676\n",
      "ARIMA(2, 1, 1)x(1, 1, 0, 12)12 - AIC:287.8557403107634\n",
      "ARIMA(2, 1, 1)x(1, 1, 1, 12)12 - AIC:285.26040109144054\n"
     ]
    },
    {
     "name": "stderr",
     "output_type": "stream",
     "text": [
      "c:\\Users\\KIIT\\AppData\\Local\\Programs\\Python\\Python310\\lib\\site-packages\\statsmodels\\base\\model.py:607: ConvergenceWarning: Maximum Likelihood optimization failed to converge. Check mle_retvals\n",
      "  warnings.warn(\"Maximum Likelihood optimization failed to \"\n"
     ]
    },
    {
     "name": "stdout",
     "output_type": "stream",
     "text": [
      "ARIMA(2, 1, 1)x(1, 1, 2, 12)12 - AIC:128.23332336010373\n"
     ]
    },
    {
     "name": "stderr",
     "output_type": "stream",
     "text": [
      "c:\\Users\\KIIT\\AppData\\Local\\Programs\\Python\\Python310\\lib\\site-packages\\statsmodels\\base\\model.py:607: ConvergenceWarning: Maximum Likelihood optimization failed to converge. Check mle_retvals\n",
      "  warnings.warn(\"Maximum Likelihood optimization failed to \"\n"
     ]
    },
    {
     "name": "stdout",
     "output_type": "stream",
     "text": [
      "ARIMA(2, 1, 1)x(1, 2, 0, 12)12 - AIC:124.67867637684972\n"
     ]
    },
    {
     "name": "stderr",
     "output_type": "stream",
     "text": [
      "c:\\Users\\KIIT\\AppData\\Local\\Programs\\Python\\Python310\\lib\\site-packages\\statsmodels\\base\\model.py:607: ConvergenceWarning: Maximum Likelihood optimization failed to converge. Check mle_retvals\n",
      "  warnings.warn(\"Maximum Likelihood optimization failed to \"\n"
     ]
    },
    {
     "name": "stdout",
     "output_type": "stream",
     "text": [
      "ARIMA(2, 1, 1)x(1, 2, 1, 12)12 - AIC:124.78494204434885\n",
      "ARIMA(2, 1, 1)x(1, 2, 2, 12)12 - AIC:14.0\n",
      "ARIMA(2, 1, 1)x(2, 0, 0, 12)12 - AIC:287.8450931552789\n"
     ]
    },
    {
     "name": "stderr",
     "output_type": "stream",
     "text": [
      "c:\\Users\\KIIT\\AppData\\Local\\Programs\\Python\\Python310\\lib\\site-packages\\statsmodels\\base\\model.py:607: ConvergenceWarning: Maximum Likelihood optimization failed to converge. Check mle_retvals\n",
      "  warnings.warn(\"Maximum Likelihood optimization failed to \"\n"
     ]
    },
    {
     "name": "stdout",
     "output_type": "stream",
     "text": [
      "ARIMA(2, 1, 1)x(2, 0, 1, 12)12 - AIC:899.7733157580855\n",
      "ARIMA(2, 1, 1)x(2, 0, 2, 12)12 - AIC:294.082628960091\n",
      "ARIMA(2, 1, 1)x(2, 1, 0, 12)12 - AIC:126.32876516328086\n"
     ]
    },
    {
     "name": "stderr",
     "output_type": "stream",
     "text": [
      "c:\\Users\\KIIT\\AppData\\Local\\Programs\\Python\\Python310\\lib\\site-packages\\statsmodels\\base\\model.py:607: ConvergenceWarning: Maximum Likelihood optimization failed to converge. Check mle_retvals\n",
      "  warnings.warn(\"Maximum Likelihood optimization failed to \"\n"
     ]
    },
    {
     "name": "stdout",
     "output_type": "stream",
     "text": [
      "ARIMA(2, 1, 1)x(2, 1, 1, 12)12 - AIC:128.10346111233724\n"
     ]
    },
    {
     "name": "stderr",
     "output_type": "stream",
     "text": [
      "c:\\Users\\KIIT\\AppData\\Local\\Programs\\Python\\Python310\\lib\\site-packages\\statsmodels\\base\\model.py:607: ConvergenceWarning: Maximum Likelihood optimization failed to converge. Check mle_retvals\n",
      "  warnings.warn(\"Maximum Likelihood optimization failed to \"\n"
     ]
    },
    {
     "name": "stdout",
     "output_type": "stream",
     "text": [
      "ARIMA(2, 1, 1)x(2, 1, 2, 12)12 - AIC:130.3904592060004\n",
      "ARIMA(2, 1, 1)x(2, 2, 0, 12)12 - AIC:12.0\n",
      "ARIMA(2, 1, 1)x(2, 2, 1, 12)12 - AIC:14.0\n",
      "ARIMA(2, 1, 1)x(2, 2, 2, 12)12 - AIC:16.0\n",
      "ARIMA(2, 1, 2)x(0, 0, 0, 12)12 - AIC:642.12104645542\n"
     ]
    },
    {
     "name": "stderr",
     "output_type": "stream",
     "text": [
      "c:\\Users\\KIIT\\AppData\\Local\\Programs\\Python\\Python310\\lib\\site-packages\\statsmodels\\base\\model.py:607: ConvergenceWarning: Maximum Likelihood optimization failed to converge. Check mle_retvals\n",
      "  warnings.warn(\"Maximum Likelihood optimization failed to \"\n"
     ]
    },
    {
     "name": "stdout",
     "output_type": "stream",
     "text": [
      "ARIMA(2, 1, 2)x(0, 0, 1, 12)12 - AIC:2274.1453427234883\n",
      "ARIMA(2, 1, 2)x(0, 0, 2, 12)12 - AIC:282.87665525976723\n",
      "ARIMA(2, 1, 2)x(0, 1, 0, 12)12 - AIC:450.0711888878013\n"
     ]
    },
    {
     "name": "stderr",
     "output_type": "stream",
     "text": [
      "c:\\Users\\KIIT\\AppData\\Local\\Programs\\Python\\Python310\\lib\\site-packages\\statsmodels\\base\\model.py:607: ConvergenceWarning: Maximum Likelihood optimization failed to converge. Check mle_retvals\n",
      "  warnings.warn(\"Maximum Likelihood optimization failed to \"\n"
     ]
    },
    {
     "name": "stdout",
     "output_type": "stream",
     "text": [
      "ARIMA(2, 1, 2)x(0, 1, 1, 12)12 - AIC:269.75774601861025\n"
     ]
    },
    {
     "name": "stderr",
     "output_type": "stream",
     "text": [
      "c:\\Users\\KIIT\\AppData\\Local\\Programs\\Python\\Python310\\lib\\site-packages\\statsmodels\\base\\model.py:607: ConvergenceWarning: Maximum Likelihood optimization failed to converge. Check mle_retvals\n",
      "  warnings.warn(\"Maximum Likelihood optimization failed to \"\n"
     ]
    },
    {
     "name": "stdout",
     "output_type": "stream",
     "text": [
      "ARIMA(2, 1, 2)x(0, 1, 2, 12)12 - AIC:112.6370357683999\n",
      "ARIMA(2, 1, 2)x(0, 2, 0, 12)12 - AIC:305.944516732448\n"
     ]
    },
    {
     "name": "stderr",
     "output_type": "stream",
     "text": [
      "c:\\Users\\KIIT\\AppData\\Local\\Programs\\Python\\Python310\\lib\\site-packages\\statsmodels\\base\\model.py:607: ConvergenceWarning: Maximum Likelihood optimization failed to converge. Check mle_retvals\n",
      "  warnings.warn(\"Maximum Likelihood optimization failed to \"\n"
     ]
    },
    {
     "name": "stdout",
     "output_type": "stream",
     "text": [
      "ARIMA(2, 1, 2)x(0, 2, 1, 12)12 - AIC:106.13258984384396\n",
      "ARIMA(2, 1, 2)x(0, 2, 2, 12)12 - AIC:14.0\n",
      "ARIMA(2, 1, 2)x(1, 0, 0, 12)12 - AIC:459.04510672158915\n"
     ]
    },
    {
     "name": "stderr",
     "output_type": "stream",
     "text": [
      "c:\\Users\\KIIT\\AppData\\Local\\Programs\\Python\\Python310\\lib\\site-packages\\statsmodels\\base\\model.py:607: ConvergenceWarning: Maximum Likelihood optimization failed to converge. Check mle_retvals\n",
      "  warnings.warn(\"Maximum Likelihood optimization failed to \"\n"
     ]
    },
    {
     "name": "stdout",
     "output_type": "stream",
     "text": [
      "ARIMA(2, 1, 2)x(1, 0, 1, 12)12 - AIC:595.7937069789953\n"
     ]
    },
    {
     "name": "stderr",
     "output_type": "stream",
     "text": [
      "c:\\Users\\KIIT\\AppData\\Local\\Programs\\Python\\Python310\\lib\\site-packages\\statsmodels\\base\\model.py:607: ConvergenceWarning: Maximum Likelihood optimization failed to converge. Check mle_retvals\n",
      "  warnings.warn(\"Maximum Likelihood optimization failed to \"\n"
     ]
    },
    {
     "name": "stdout",
     "output_type": "stream",
     "text": [
      "ARIMA(2, 1, 2)x(1, 0, 2, 12)12 - AIC:278.6046984704626\n"
     ]
    },
    {
     "name": "stderr",
     "output_type": "stream",
     "text": [
      "c:\\Users\\KIIT\\AppData\\Local\\Programs\\Python\\Python310\\lib\\site-packages\\statsmodels\\base\\model.py:607: ConvergenceWarning: Maximum Likelihood optimization failed to converge. Check mle_retvals\n",
      "  warnings.warn(\"Maximum Likelihood optimization failed to \"\n"
     ]
    },
    {
     "name": "stdout",
     "output_type": "stream",
     "text": [
      "ARIMA(2, 1, 2)x(1, 1, 0, 12)12 - AIC:287.561667187033\n",
      "ARIMA(2, 1, 2)x(1, 1, 1, 12)12 - AIC:275.0028456537116\n"
     ]
    },
    {
     "name": "stderr",
     "output_type": "stream",
     "text": [
      "c:\\Users\\KIIT\\AppData\\Local\\Programs\\Python\\Python310\\lib\\site-packages\\statsmodels\\base\\model.py:607: ConvergenceWarning: Maximum Likelihood optimization failed to converge. Check mle_retvals\n",
      "  warnings.warn(\"Maximum Likelihood optimization failed to \"\n"
     ]
    },
    {
     "name": "stdout",
     "output_type": "stream",
     "text": [
      "ARIMA(2, 1, 2)x(1, 1, 2, 12)12 - AIC:112.90813938777796\n"
     ]
    },
    {
     "name": "stderr",
     "output_type": "stream",
     "text": [
      "c:\\Users\\KIIT\\AppData\\Local\\Programs\\Python\\Python310\\lib\\site-packages\\statsmodels\\base\\model.py:607: ConvergenceWarning: Maximum Likelihood optimization failed to converge. Check mle_retvals\n",
      "  warnings.warn(\"Maximum Likelihood optimization failed to \"\n"
     ]
    },
    {
     "name": "stdout",
     "output_type": "stream",
     "text": [
      "ARIMA(2, 1, 2)x(1, 2, 0, 12)12 - AIC:127.05705736537419\n"
     ]
    },
    {
     "name": "stderr",
     "output_type": "stream",
     "text": [
      "c:\\Users\\KIIT\\AppData\\Local\\Programs\\Python\\Python310\\lib\\site-packages\\statsmodels\\base\\model.py:607: ConvergenceWarning: Maximum Likelihood optimization failed to converge. Check mle_retvals\n",
      "  warnings.warn(\"Maximum Likelihood optimization failed to \"\n"
     ]
    },
    {
     "name": "stdout",
     "output_type": "stream",
     "text": [
      "ARIMA(2, 1, 2)x(1, 2, 1, 12)12 - AIC:120.35640728105506\n",
      "ARIMA(2, 1, 2)x(1, 2, 2, 12)12 - AIC:16.0\n",
      "ARIMA(2, 1, 2)x(2, 0, 0, 12)12 - AIC:288.5720385177788\n"
     ]
    },
    {
     "name": "stderr",
     "output_type": "stream",
     "text": [
      "c:\\Users\\KIIT\\AppData\\Local\\Programs\\Python\\Python310\\lib\\site-packages\\statsmodels\\base\\model.py:607: ConvergenceWarning: Maximum Likelihood optimization failed to converge. Check mle_retvals\n",
      "  warnings.warn(\"Maximum Likelihood optimization failed to \"\n"
     ]
    },
    {
     "name": "stdout",
     "output_type": "stream",
     "text": [
      "ARIMA(2, 1, 2)x(2, 0, 1, 12)12 - AIC:859.6560456962377\n"
     ]
    },
    {
     "name": "stderr",
     "output_type": "stream",
     "text": [
      "c:\\Users\\KIIT\\AppData\\Local\\Programs\\Python\\Python310\\lib\\site-packages\\statsmodels\\base\\model.py:607: ConvergenceWarning: Maximum Likelihood optimization failed to converge. Check mle_retvals\n",
      "  warnings.warn(\"Maximum Likelihood optimization failed to \"\n"
     ]
    },
    {
     "name": "stdout",
     "output_type": "stream",
     "text": [
      "ARIMA(2, 1, 2)x(2, 0, 2, 12)12 - AIC:280.47534702304904\n"
     ]
    },
    {
     "name": "stderr",
     "output_type": "stream",
     "text": [
      "c:\\Users\\KIIT\\AppData\\Local\\Programs\\Python\\Python310\\lib\\site-packages\\statsmodels\\base\\model.py:607: ConvergenceWarning: Maximum Likelihood optimization failed to converge. Check mle_retvals\n",
      "  warnings.warn(\"Maximum Likelihood optimization failed to \"\n"
     ]
    },
    {
     "name": "stdout",
     "output_type": "stream",
     "text": [
      "ARIMA(2, 1, 2)x(2, 1, 0, 12)12 - AIC:127.91172961192581\n"
     ]
    },
    {
     "name": "stderr",
     "output_type": "stream",
     "text": [
      "c:\\Users\\KIIT\\AppData\\Local\\Programs\\Python\\Python310\\lib\\site-packages\\statsmodels\\base\\model.py:607: ConvergenceWarning: Maximum Likelihood optimization failed to converge. Check mle_retvals\n",
      "  warnings.warn(\"Maximum Likelihood optimization failed to \"\n"
     ]
    },
    {
     "name": "stdout",
     "output_type": "stream",
     "text": [
      "ARIMA(2, 1, 2)x(2, 1, 1, 12)12 - AIC:133.4146939084083\n"
     ]
    },
    {
     "name": "stderr",
     "output_type": "stream",
     "text": [
      "c:\\Users\\KIIT\\AppData\\Local\\Programs\\Python\\Python310\\lib\\site-packages\\statsmodels\\base\\model.py:607: ConvergenceWarning: Maximum Likelihood optimization failed to converge. Check mle_retvals\n",
      "  warnings.warn(\"Maximum Likelihood optimization failed to \"\n"
     ]
    },
    {
     "name": "stdout",
     "output_type": "stream",
     "text": [
      "ARIMA(2, 1, 2)x(2, 1, 2, 12)12 - AIC:115.95660800414007\n",
      "ARIMA(2, 1, 2)x(2, 2, 0, 12)12 - AIC:14.0\n",
      "ARIMA(2, 1, 2)x(2, 2, 1, 12)12 - AIC:16.0\n",
      "ARIMA(2, 1, 2)x(2, 2, 2, 12)12 - AIC:18.0\n",
      "ARIMA(2, 2, 0)x(0, 0, 0, 12)12 - AIC:656.929182124119\n",
      "ARIMA(2, 2, 0)x(0, 0, 1, 12)12 - AIC:1375.047904901413\n",
      "ARIMA(2, 2, 0)x(0, 0, 2, 12)12 - AIC:303.7609538473625\n",
      "ARIMA(2, 2, 0)x(0, 1, 0, 12)12 - AIC:467.74561119176593\n",
      "ARIMA(2, 2, 0)x(0, 1, 1, 12)12 - AIC:296.6216264788778\n",
      "ARIMA(2, 2, 0)x(0, 1, 2, 12)12 - AIC:131.13109332685065\n",
      "ARIMA(2, 2, 0)x(0, 2, 0, 12)12 - AIC:311.69952051933984\n",
      "ARIMA(2, 2, 0)x(0, 2, 1, 12)12 - AIC:130.61436689458347\n",
      "ARIMA(2, 2, 0)x(0, 2, 2, 12)12 - AIC:10.0\n",
      "ARIMA(2, 2, 0)x(1, 0, 0, 12)12 - AIC:464.7608850390022\n",
      "ARIMA(2, 2, 0)x(1, 0, 1, 12)12 - AIC:1224.71411439073\n"
     ]
    },
    {
     "name": "stderr",
     "output_type": "stream",
     "text": [
      "c:\\Users\\KIIT\\AppData\\Local\\Programs\\Python\\Python310\\lib\\site-packages\\statsmodels\\base\\model.py:607: ConvergenceWarning: Maximum Likelihood optimization failed to converge. Check mle_retvals\n",
      "  warnings.warn(\"Maximum Likelihood optimization failed to \"\n"
     ]
    },
    {
     "name": "stdout",
     "output_type": "stream",
     "text": [
      "ARIMA(2, 2, 0)x(1, 0, 2, 12)12 - AIC:301.21914967574065\n",
      "ARIMA(2, 2, 0)x(1, 1, 0, 12)12 - AIC:286.0955354148295\n",
      "ARIMA(2, 2, 0)x(1, 1, 1, 12)12 - AIC:285.32792061889023\n",
      "ARIMA(2, 2, 0)x(1, 1, 2, 12)12 - AIC:133.17934414789954\n",
      "ARIMA(2, 2, 0)x(1, 2, 0, 12)12 - AIC:117.90430574036834\n"
     ]
    },
    {
     "name": "stderr",
     "output_type": "stream",
     "text": [
      "c:\\Users\\KIIT\\AppData\\Local\\Programs\\Python\\Python310\\lib\\site-packages\\statsmodels\\base\\model.py:607: ConvergenceWarning: Maximum Likelihood optimization failed to converge. Check mle_retvals\n",
      "  warnings.warn(\"Maximum Likelihood optimization failed to \"\n"
     ]
    },
    {
     "name": "stdout",
     "output_type": "stream",
     "text": [
      "ARIMA(2, 2, 0)x(1, 2, 1, 12)12 - AIC:118.9929564660429\n",
      "ARIMA(2, 2, 0)x(1, 2, 2, 12)12 - AIC:12.0\n",
      "ARIMA(2, 2, 0)x(2, 0, 0, 12)12 - AIC:283.1555485839368\n",
      "ARIMA(2, 2, 0)x(2, 0, 1, 12)12 - AIC:284.86848223731573\n",
      "ARIMA(2, 2, 0)x(2, 0, 2, 12)12 - AIC:286.83156726780464\n",
      "ARIMA(2, 2, 0)x(2, 1, 0, 12)12 - AIC:117.49144309454803\n",
      "ARIMA(2, 2, 0)x(2, 1, 1, 12)12 - AIC:118.96814939919605\n",
      "ARIMA(2, 2, 0)x(2, 1, 2, 12)12 - AIC:120.29539957668393\n",
      "ARIMA(2, 2, 0)x(2, 2, 0, 12)12 - AIC:10.0\n",
      "ARIMA(2, 2, 0)x(2, 2, 1, 12)12 - AIC:12.0\n",
      "ARIMA(2, 2, 0)x(2, 2, 2, 12)12 - AIC:14.0\n",
      "ARIMA(2, 2, 1)x(0, 0, 0, 12)12 - AIC:643.7507440372246\n"
     ]
    },
    {
     "name": "stderr",
     "output_type": "stream",
     "text": [
      "c:\\Users\\KIIT\\AppData\\Local\\Programs\\Python\\Python310\\lib\\site-packages\\statsmodels\\base\\model.py:607: ConvergenceWarning: Maximum Likelihood optimization failed to converge. Check mle_retvals\n",
      "  warnings.warn(\"Maximum Likelihood optimization failed to \"\n"
     ]
    },
    {
     "name": "stdout",
     "output_type": "stream",
     "text": [
      "ARIMA(2, 2, 1)x(0, 0, 1, 12)12 - AIC:2334.6328768436533\n",
      "ARIMA(2, 2, 1)x(0, 0, 2, 12)12 - AIC:286.0771901284573\n",
      "ARIMA(2, 2, 1)x(0, 1, 0, 12)12 - AIC:457.7096702182473\n",
      "ARIMA(2, 2, 1)x(0, 1, 1, 12)12 - AIC:278.90521165132776\n",
      "ARIMA(2, 2, 1)x(0, 1, 2, 12)12 - AIC:115.89357127307908\n",
      "ARIMA(2, 2, 1)x(0, 2, 0, 12)12 - AIC:309.3853855181929\n",
      "ARIMA(2, 2, 1)x(0, 2, 1, 12)12 - AIC:118.68164567940066\n",
      "ARIMA(2, 2, 1)x(0, 2, 2, 12)12 - AIC:12.0\n",
      "ARIMA(2, 2, 1)x(1, 0, 0, 12)12 - AIC:455.09659927662494\n",
      "ARIMA(2, 2, 1)x(1, 0, 1, 12)12 - AIC:745.7253693665218\n"
     ]
    },
    {
     "name": "stderr",
     "output_type": "stream",
     "text": [
      "c:\\Users\\KIIT\\AppData\\Local\\Programs\\Python\\Python310\\lib\\site-packages\\statsmodels\\base\\model.py:607: ConvergenceWarning: Maximum Likelihood optimization failed to converge. Check mle_retvals\n",
      "  warnings.warn(\"Maximum Likelihood optimization failed to \"\n"
     ]
    },
    {
     "name": "stdout",
     "output_type": "stream",
     "text": [
      "ARIMA(2, 2, 1)x(1, 0, 2, 12)12 - AIC:283.51460132751646\n",
      "ARIMA(2, 2, 1)x(1, 1, 0, 12)12 - AIC:279.4519907913279\n",
      "ARIMA(2, 2, 1)x(1, 1, 1, 12)12 - AIC:280.8718624862867\n"
     ]
    },
    {
     "name": "stderr",
     "output_type": "stream",
     "text": [
      "c:\\Users\\KIIT\\AppData\\Local\\Programs\\Python\\Python310\\lib\\site-packages\\statsmodels\\base\\model.py:607: ConvergenceWarning: Maximum Likelihood optimization failed to converge. Check mle_retvals\n",
      "  warnings.warn(\"Maximum Likelihood optimization failed to \"\n"
     ]
    },
    {
     "name": "stdout",
     "output_type": "stream",
     "text": [
      "ARIMA(2, 2, 1)x(1, 1, 2, 12)12 - AIC:117.8130114909554\n",
      "ARIMA(2, 2, 1)x(1, 2, 0, 12)12 - AIC:117.35996069074932\n"
     ]
    },
    {
     "name": "stderr",
     "output_type": "stream",
     "text": [
      "c:\\Users\\KIIT\\AppData\\Local\\Programs\\Python\\Python310\\lib\\site-packages\\statsmodels\\base\\model.py:607: ConvergenceWarning: Maximum Likelihood optimization failed to converge. Check mle_retvals\n",
      "  warnings.warn(\"Maximum Likelihood optimization failed to \"\n"
     ]
    },
    {
     "name": "stdout",
     "output_type": "stream",
     "text": [
      "ARIMA(2, 2, 1)x(1, 2, 1, 12)12 - AIC:121.90898244093984\n",
      "ARIMA(2, 2, 1)x(1, 2, 2, 12)12 - AIC:14.0\n",
      "ARIMA(2, 2, 1)x(2, 0, 0, 12)12 - AIC:279.45511391750256\n",
      "ARIMA(2, 2, 1)x(2, 0, 1, 12)12 - AIC:280.80695486878915\n"
     ]
    },
    {
     "name": "stderr",
     "output_type": "stream",
     "text": [
      "c:\\Users\\KIIT\\AppData\\Local\\Programs\\Python\\Python310\\lib\\site-packages\\statsmodels\\base\\model.py:607: ConvergenceWarning: Maximum Likelihood optimization failed to converge. Check mle_retvals\n",
      "  warnings.warn(\"Maximum Likelihood optimization failed to \"\n"
     ]
    },
    {
     "name": "stdout",
     "output_type": "stream",
     "text": [
      "ARIMA(2, 2, 1)x(2, 0, 2, 12)12 - AIC:282.82871442514175\n"
     ]
    },
    {
     "name": "stderr",
     "output_type": "stream",
     "text": [
      "c:\\Users\\KIIT\\AppData\\Local\\Programs\\Python\\Python310\\lib\\site-packages\\statsmodels\\base\\model.py:607: ConvergenceWarning: Maximum Likelihood optimization failed to converge. Check mle_retvals\n",
      "  warnings.warn(\"Maximum Likelihood optimization failed to \"\n"
     ]
    },
    {
     "name": "stdout",
     "output_type": "stream",
     "text": [
      "ARIMA(2, 2, 1)x(2, 1, 0, 12)12 - AIC:116.26597417809381\n"
     ]
    },
    {
     "name": "stderr",
     "output_type": "stream",
     "text": [
      "c:\\Users\\KIIT\\AppData\\Local\\Programs\\Python\\Python310\\lib\\site-packages\\statsmodels\\base\\model.py:607: ConvergenceWarning: Maximum Likelihood optimization failed to converge. Check mle_retvals\n",
      "  warnings.warn(\"Maximum Likelihood optimization failed to \"\n"
     ]
    },
    {
     "name": "stdout",
     "output_type": "stream",
     "text": [
      "ARIMA(2, 2, 1)x(2, 1, 1, 12)12 - AIC:118.18253675468813\n"
     ]
    },
    {
     "name": "stderr",
     "output_type": "stream",
     "text": [
      "c:\\Users\\KIIT\\AppData\\Local\\Programs\\Python\\Python310\\lib\\site-packages\\statsmodels\\base\\model.py:607: ConvergenceWarning: Maximum Likelihood optimization failed to converge. Check mle_retvals\n",
      "  warnings.warn(\"Maximum Likelihood optimization failed to \"\n"
     ]
    },
    {
     "name": "stdout",
     "output_type": "stream",
     "text": [
      "ARIMA(2, 2, 1)x(2, 1, 2, 12)12 - AIC:119.86293605360633\n",
      "ARIMA(2, 2, 1)x(2, 2, 0, 12)12 - AIC:12.0\n",
      "ARIMA(2, 2, 1)x(2, 2, 1, 12)12 - AIC:14.0\n",
      "ARIMA(2, 2, 1)x(2, 2, 2, 12)12 - AIC:16.0\n",
      "ARIMA(2, 2, 2)x(0, 0, 0, 12)12 - AIC:631.267887578616\n"
     ]
    },
    {
     "name": "stderr",
     "output_type": "stream",
     "text": [
      "c:\\Users\\KIIT\\AppData\\Local\\Programs\\Python\\Python310\\lib\\site-packages\\statsmodels\\base\\model.py:607: ConvergenceWarning: Maximum Likelihood optimization failed to converge. Check mle_retvals\n",
      "  warnings.warn(\"Maximum Likelihood optimization failed to \"\n"
     ]
    },
    {
     "name": "stdout",
     "output_type": "stream",
     "text": [
      "ARIMA(2, 2, 2)x(0, 0, 1, 12)12 - AIC:705.3982899336032\n"
     ]
    },
    {
     "name": "stderr",
     "output_type": "stream",
     "text": [
      "c:\\Users\\KIIT\\AppData\\Local\\Programs\\Python\\Python310\\lib\\site-packages\\statsmodels\\base\\model.py:607: ConvergenceWarning: Maximum Likelihood optimization failed to converge. Check mle_retvals\n",
      "  warnings.warn(\"Maximum Likelihood optimization failed to \"\n"
     ]
    },
    {
     "name": "stdout",
     "output_type": "stream",
     "text": [
      "ARIMA(2, 2, 2)x(0, 0, 2, 12)12 - AIC:273.318394229262\n",
      "ARIMA(2, 2, 2)x(0, 1, 0, 12)12 - AIC:445.24599241101265\n"
     ]
    },
    {
     "name": "stderr",
     "output_type": "stream",
     "text": [
      "c:\\Users\\KIIT\\AppData\\Local\\Programs\\Python\\Python310\\lib\\site-packages\\statsmodels\\base\\model.py:607: ConvergenceWarning: Maximum Likelihood optimization failed to converge. Check mle_retvals\n",
      "  warnings.warn(\"Maximum Likelihood optimization failed to \"\n"
     ]
    },
    {
     "name": "stdout",
     "output_type": "stream",
     "text": [
      "ARIMA(2, 2, 2)x(0, 1, 1, 12)12 - AIC:264.3517623000125\n"
     ]
    },
    {
     "name": "stderr",
     "output_type": "stream",
     "text": [
      "c:\\Users\\KIIT\\AppData\\Local\\Programs\\Python\\Python310\\lib\\site-packages\\statsmodels\\base\\model.py:607: ConvergenceWarning: Maximum Likelihood optimization failed to converge. Check mle_retvals\n",
      "  warnings.warn(\"Maximum Likelihood optimization failed to \"\n"
     ]
    },
    {
     "name": "stdout",
     "output_type": "stream",
     "text": [
      "ARIMA(2, 2, 2)x(0, 1, 2, 12)12 - AIC:103.44946633860965\n",
      "ARIMA(2, 2, 2)x(0, 2, 0, 12)12 - AIC:296.46503563118233\n"
     ]
    },
    {
     "name": "stderr",
     "output_type": "stream",
     "text": [
      "c:\\Users\\KIIT\\AppData\\Local\\Programs\\Python\\Python310\\lib\\site-packages\\statsmodels\\base\\model.py:607: ConvergenceWarning: Maximum Likelihood optimization failed to converge. Check mle_retvals\n",
      "  warnings.warn(\"Maximum Likelihood optimization failed to \"\n"
     ]
    },
    {
     "name": "stdout",
     "output_type": "stream",
     "text": [
      "ARIMA(2, 2, 2)x(0, 2, 1, 12)12 - AIC:99.47177910418365\n",
      "ARIMA(2, 2, 2)x(0, 2, 2, 12)12 - AIC:14.0\n",
      "ARIMA(2, 2, 2)x(1, 0, 0, 12)12 - AIC:452.3140181538365\n",
      "ARIMA(2, 2, 2)x(1, 0, 1, 12)12 - AIC:319.1210628194352\n"
     ]
    },
    {
     "name": "stderr",
     "output_type": "stream",
     "text": [
      "c:\\Users\\KIIT\\AppData\\Local\\Programs\\Python\\Python310\\lib\\site-packages\\statsmodels\\base\\model.py:607: ConvergenceWarning: Maximum Likelihood optimization failed to converge. Check mle_retvals\n",
      "  warnings.warn(\"Maximum Likelihood optimization failed to \"\n"
     ]
    },
    {
     "name": "stdout",
     "output_type": "stream",
     "text": [
      "ARIMA(2, 2, 2)x(1, 0, 2, 12)12 - AIC:273.4391649852587\n"
     ]
    },
    {
     "name": "stderr",
     "output_type": "stream",
     "text": [
      "c:\\Users\\KIIT\\AppData\\Local\\Programs\\Python\\Python310\\lib\\site-packages\\statsmodels\\base\\model.py:607: ConvergenceWarning: Maximum Likelihood optimization failed to converge. Check mle_retvals\n",
      "  warnings.warn(\"Maximum Likelihood optimization failed to \"\n"
     ]
    },
    {
     "name": "stdout",
     "output_type": "stream",
     "text": [
      "ARIMA(2, 2, 2)x(1, 1, 0, 12)12 - AIC:281.44499476669296\n"
     ]
    },
    {
     "name": "stderr",
     "output_type": "stream",
     "text": [
      "c:\\Users\\KIIT\\AppData\\Local\\Programs\\Python\\Python310\\lib\\site-packages\\statsmodels\\base\\model.py:607: ConvergenceWarning: Maximum Likelihood optimization failed to converge. Check mle_retvals\n",
      "  warnings.warn(\"Maximum Likelihood optimization failed to \"\n"
     ]
    },
    {
     "name": "stdout",
     "output_type": "stream",
     "text": [
      "ARIMA(2, 2, 2)x(1, 1, 1, 12)12 - AIC:267.1690856596548\n"
     ]
    },
    {
     "name": "stderr",
     "output_type": "stream",
     "text": [
      "c:\\Users\\KIIT\\AppData\\Local\\Programs\\Python\\Python310\\lib\\site-packages\\statsmodels\\base\\model.py:607: ConvergenceWarning: Maximum Likelihood optimization failed to converge. Check mle_retvals\n",
      "  warnings.warn(\"Maximum Likelihood optimization failed to \"\n"
     ]
    },
    {
     "name": "stdout",
     "output_type": "stream",
     "text": [
      "ARIMA(2, 2, 2)x(1, 1, 2, 12)12 - AIC:104.97213620620293\n"
     ]
    },
    {
     "name": "stderr",
     "output_type": "stream",
     "text": [
      "c:\\Users\\KIIT\\AppData\\Local\\Programs\\Python\\Python310\\lib\\site-packages\\statsmodels\\base\\model.py:607: ConvergenceWarning: Maximum Likelihood optimization failed to converge. Check mle_retvals\n",
      "  warnings.warn(\"Maximum Likelihood optimization failed to \"\n"
     ]
    },
    {
     "name": "stdout",
     "output_type": "stream",
     "text": [
      "ARIMA(2, 2, 2)x(1, 2, 0, 12)12 - AIC:115.89173970349856\n"
     ]
    },
    {
     "name": "stderr",
     "output_type": "stream",
     "text": [
      "c:\\Users\\KIIT\\AppData\\Local\\Programs\\Python\\Python310\\lib\\site-packages\\statsmodels\\base\\model.py:607: ConvergenceWarning: Maximum Likelihood optimization failed to converge. Check mle_retvals\n",
      "  warnings.warn(\"Maximum Likelihood optimization failed to \"\n"
     ]
    },
    {
     "name": "stdout",
     "output_type": "stream",
     "text": [
      "ARIMA(2, 2, 2)x(1, 2, 1, 12)12 - AIC:109.20934828752354\n",
      "ARIMA(2, 2, 2)x(1, 2, 2, 12)12 - AIC:16.0\n",
      "ARIMA(2, 2, 2)x(2, 0, 0, 12)12 - AIC:281.31746769107076\n",
      "ARIMA(2, 2, 2)x(2, 0, 1, 12)12 - AIC:282.3652618571131\n"
     ]
    },
    {
     "name": "stderr",
     "output_type": "stream",
     "text": [
      "c:\\Users\\KIIT\\AppData\\Local\\Programs\\Python\\Python310\\lib\\site-packages\\statsmodels\\base\\model.py:607: ConvergenceWarning: Maximum Likelihood optimization failed to converge. Check mle_retvals\n",
      "  warnings.warn(\"Maximum Likelihood optimization failed to \"\n"
     ]
    },
    {
     "name": "stdout",
     "output_type": "stream",
     "text": [
      "ARIMA(2, 2, 2)x(2, 0, 2, 12)12 - AIC:273.4382040790962\n"
     ]
    },
    {
     "name": "stderr",
     "output_type": "stream",
     "text": [
      "c:\\Users\\KIIT\\AppData\\Local\\Programs\\Python\\Python310\\lib\\site-packages\\statsmodels\\base\\model.py:607: ConvergenceWarning: Maximum Likelihood optimization failed to converge. Check mle_retvals\n",
      "  warnings.warn(\"Maximum Likelihood optimization failed to \"\n"
     ]
    },
    {
     "name": "stdout",
     "output_type": "stream",
     "text": [
      "ARIMA(2, 2, 2)x(2, 1, 0, 12)12 - AIC:119.41113345729045\n"
     ]
    },
    {
     "name": "stderr",
     "output_type": "stream",
     "text": [
      "c:\\Users\\KIIT\\AppData\\Local\\Programs\\Python\\Python310\\lib\\site-packages\\statsmodels\\base\\model.py:607: ConvergenceWarning: Maximum Likelihood optimization failed to converge. Check mle_retvals\n",
      "  warnings.warn(\"Maximum Likelihood optimization failed to \"\n"
     ]
    },
    {
     "name": "stdout",
     "output_type": "stream",
     "text": [
      "ARIMA(2, 2, 2)x(2, 1, 1, 12)12 - AIC:120.64919136215676\n"
     ]
    },
    {
     "name": "stderr",
     "output_type": "stream",
     "text": [
      "c:\\Users\\KIIT\\AppData\\Local\\Programs\\Python\\Python310\\lib\\site-packages\\statsmodels\\base\\model.py:607: ConvergenceWarning: Maximum Likelihood optimization failed to converge. Check mle_retvals\n",
      "  warnings.warn(\"Maximum Likelihood optimization failed to \"\n"
     ]
    },
    {
     "name": "stdout",
     "output_type": "stream",
     "text": [
      "ARIMA(2, 2, 2)x(2, 1, 2, 12)12 - AIC:111.58898386675953\n",
      "ARIMA(2, 2, 2)x(2, 2, 0, 12)12 - AIC:14.0\n",
      "ARIMA(2, 2, 2)x(2, 2, 1, 12)12 - AIC:16.0\n",
      "ARIMA(2, 2, 2)x(2, 2, 2, 12)12 - AIC:18.0\n"
     ]
    }
   ],
   "source": [
    "from pylab import rcParams\n",
    "for param in pdq:\n",
    "    for param_seasonal in seasonal_pdq:\n",
    "        try:\n",
    "            mod = sm.tsa.statespace.SARIMAX(y, order=param,\n",
    "seasonal_order=param_seasonal,\n",
    "enforce_stationarity=False, \n",
    "enforce_invertibility=False)\n",
    "            results = mod.fit()\n",
    "            print('ARIMA{}x{}12 - AIC:{}'.format(param, param_seasonal, results.aic))\n",
    "        except:\n",
    "            continue"
   ]
  },
  {
   "cell_type": "markdown",
   "metadata": {
    "colab_type": "text",
    "id": "XiGtQfeB2fJg"
   },
   "source": [
    "<font color = red><font size = 4>Fitting the ARIMA model"
   ]
  },
  {
   "cell_type": "code",
   "execution_count": 44,
   "metadata": {
    "colab": {},
    "colab_type": "code",
    "id": "bU7QKiBr2fJh",
    "outputId": "5d9df1cf-cafa-4005-b817-c4da77e73e10"
   },
   "outputs": [
    {
     "name": "stdout",
     "output_type": "stream",
     "text": [
      "==============================================================================\n",
      "                 coef    std err          z      P>|z|      [0.025      0.975]\n",
      "------------------------------------------------------------------------------\n",
      "ar.L1         -0.4316     10.496     -0.041      0.967     -21.003      20.140\n",
      "ma.L1         -1.8078      0.008   -214.921      0.000      -1.824      -1.791\n",
      "ma.S.L12    -1.17e+14   3.14e-07  -3.73e+20      0.000   -1.17e+14   -1.17e+14\n",
      "sigma2      1.131e+05   1934.027     58.498      0.000    1.09e+05    1.17e+05\n",
      "==============================================================================\n"
     ]
    },
    {
     "name": "stderr",
     "output_type": "stream",
     "text": [
      "c:\\Users\\KIIT\\AppData\\Local\\Programs\\Python\\Python310\\lib\\site-packages\\statsmodels\\base\\model.py:607: ConvergenceWarning: Maximum Likelihood optimization failed to converge. Check mle_retvals\n",
      "  warnings.warn(\"Maximum Likelihood optimization failed to \"\n"
     ]
    }
   ],
   "source": [
    "mod = sm.tsa.statespace.SARIMAX(y,\n",
    "                                order=(1, 1, 1),\n",
    "                                seasonal_order=(0, 0, 1, 12),\n",
    "                                enforce_stationarity=False,\n",
    "                                enforce_invertibility=False)\n",
    "results = mod.fit()\n",
    "print(results.summary().tables[1])"
   ]
  },
  {
   "cell_type": "markdown",
   "metadata": {
    "colab_type": "text",
    "id": "-g6ny3ZU2fJq"
   },
   "source": [
    "<font color = red><font size = 4>Running model diagnostiscs to check any unusual behaviour"
   ]
  },
  {
   "cell_type": "code",
   "execution_count": 45,
   "metadata": {
    "colab": {},
    "colab_type": "code",
    "id": "H0NF5nNb2fJr",
    "outputId": "f42c1539-2eea-4b8e-df15-4a89d8172595"
   },
   "outputs": [
    {
     "data": {
      "image/png": "[encoded data removed]",
      "text/plain": [
       "<Figure size 1600x800 with 4 Axes>"
      ]
     },
     "metadata": {},
     "output_type": "display_data"
    }
   ],
   "source": [
    "results.plot_diagnostics(figsize=(16, 8))\n",
    "plt.show()"
   ]
  },
  {
   "cell_type": "markdown",
   "metadata": {
    "colab_type": "text",
    "id": "E4srBUL22fJy"
   },
   "source": [
    "Standardized Residual : The residuals scatters around a mean near zero, as they should, with no obvious trends or patterns indicating misspecification.\n",
    "\n",
    "Histogram plus estimated density: The data distribution is nearly normal.\n",
    "\n",
    "Normal Q-Q : The plots show sample quantiles versus theoretical quantiles. Those are the quantiles from the standard Normal distribution with mean 0 and standard deviation 1. The points seem to fall about a straight line. This graphs to help us assess if a set of data plausibly came from some theoretical distribution such as a Normal or exponential\n",
    "\n",
    "Correlogram : There is no evidence of autocorrelation outside of the Bartlett two-standard-error bands for white noise, given by the blue lines.\n",
    "\n",
    "The model diagnostics indicates that the model residuals are near normally distributed"
   ]
  },
  {
   "cell_type": "markdown",
   "metadata": {
    "colab_type": "text",
    "id": "uZHOU49M2fJz"
   },
   "source": [
    "<font color = red><font size = 4>Validating Forecasts</font></br>\n",
    "<font color = black><font size = 2>We compare predicted sales to real sales of the time series to understand the accuracy of our forecasts"
   ]
  },
  {
   "cell_type": "code",
   "execution_count": 46,
   "metadata": {
    "colab": {},
    "colab_type": "code",
    "id": "BNJDOVYz2fJ0",
    "outputId": "d1de817d-8fff-4be7-ce20-60fc0d351972"
   },
   "outputs": [
    {
     "data": {
      "image/png": "[encoded data removed]",
      "text/plain": [
       "<Figure size 1400x700 with 1 Axes>"
      ]
     },
     "metadata": {},
     "output_type": "display_data"
    }
   ],
   "source": [
    "#set forecasts to start at 2017–01–01 to the end of the data to forecast\n",
    "pred = results.get_prediction(start=pd.to_datetime('2017-01-01'), dynamic=False)\n",
    "pred_ci = pred.conf_int()\n",
    "ax = y['2014':].plot(label='observed')\n",
    "pred.predicted_mean.plot(ax=ax, label='One-step ahead Forecast', alpha=.7, figsize=(14, 7))\n",
    "ax.fill_between(pred_ci.index,\n",
    "                pred_ci.iloc[:, 0],\n",
    "                pred_ci.iloc[:, 1], color='k', alpha=.2)\n",
    "ax.set_xlabel('Date')\n",
    "ax.set_ylabel('Furniture Sales')\n",
    "plt.legend()\n",
    "plt.show()"
   ]
  },
  {
   "cell_type": "markdown",
   "metadata": {
    "colab_type": "text",
    "id": "CSGlENov2fJ8"
   },
   "source": [
    "The above plot indicates the observed value and the rolling forecast predications (A rolling forecast is an add/drop process for predicting the future over a set period of time). The predicated values align well with the true values."
   ]
  },
  {
   "cell_type": "markdown",
   "metadata": {
    "colab_type": "text",
    "id": "L7NfHGPj2fJ8"
   },
   "source": [
    "<font color = red><font size = 4>Calculating RMSE"
   ]
  },
  {
   "cell_type": "code",
   "execution_count": 47,
   "metadata": {
    "colab": {},
    "colab_type": "code",
    "id": "l_inrbyg2fKA",
    "outputId": "af7e7917-f49b-4f2f-95a8-bf86f6f52fa4"
   },
   "outputs": [
    {
     "name": "stdout",
     "output_type": "stream",
     "text": [
      "The Root Mean Squared Error of our forecasts is 130535474266.38\n"
     ]
    }
   ],
   "source": [
    "y_forecasted = pred.predicted_mean\n",
    "y_truth = y['2017-01-01':]\n",
    "mse = ((y_forecasted - y_truth) ** 2).mean()\n",
    "print('The Root Mean Squared Error of our forecasts is {}'.format(round(np.sqrt(mse), 2)))"
   ]
  },
  {
   "cell_type": "markdown",
   "metadata": {
    "colab_type": "text",
    "id": "p2NhU9-w2fKH"
   },
   "source": [
    "RMSE tells us that our model was able to forecast the average daily furniture sales in the test set within 151.64 of the real sales."
   ]
  },
  {
   "cell_type": "markdown",
   "metadata": {
    "colab_type": "text",
    "id": "PNmiYlCw2fKJ"
   },
   "source": [
    "<font color = red><font size = 4>Visualizing the Forecast "
   ]
  },
  {
   "cell_type": "code",
   "execution_count": 48,
   "metadata": {
    "colab": {},
    "colab_type": "code",
    "id": "GnWUtUv72fKL",
    "outputId": "6e0e17a3-3d8d-4639-a943-e6d44ddd729b"
   },
   "outputs": [
    {
     "name": "stdout",
     "output_type": "stream",
     "text": [
      "             lower Sales   upper Sales\n",
      "2018-01-01           NaN           NaN\n",
      "2018-02-01           NaN           NaN\n",
      "2018-03-01           NaN           NaN\n",
      "2018-04-01 -2.638731e+16  2.638772e+16\n",
      "2018-05-01 -4.992353e+16  4.992394e+16\n",
      "2018-06-01 -6.656173e+16  6.656214e+16\n",
      "2018-07-01 -7.941812e+16  7.941853e+16\n",
      "2018-08-01 -9.061171e+16  9.061212e+16\n",
      "2018-09-01 -1.005102e+17  1.005106e+17\n",
      "2018-10-01 -1.095402e+17  1.095406e+17\n",
      "2018-11-01 -1.178714e+17  1.178718e+17\n",
      "2018-12-01 -1.256551e+17  1.256556e+17\n",
      "2019-01-01 -1.329826e+17  1.329830e+17\n"
     ]
    },
    {
     "data": {
      "image/png": "[encoded data removed]",
      "text/plain": [
       "<Figure size 1400x700 with 1 Axes>"
      ]
     },
     "metadata": {},
     "output_type": "display_data"
    }
   ],
   "source": [
    "pred_uc = results.get_forecast(steps=13)\n",
    "pred_ci = pred_uc.conf_int()\n",
    "ax = y.plot(label='observed', figsize=(14, 7))\n",
    "pred_uc.predicted_mean.plot(ax=ax, label='Forecast')\n",
    "ax.fill_between(pred_ci.index,\n",
    "                pred_ci.iloc[:, 0],\n",
    "                pred_ci.iloc[:, 1], color='k', alpha=.25)\n",
    "ax.set_xlabel('Date')\n",
    "ax.set_ylabel('Furniture Sales')\n",
    "print(pred_ci)\n",
    "plt.legend()\n",
    "plt.show()"
   ]
  },
  {
   "cell_type": "markdown",
   "metadata": {
    "colab_type": "text",
    "id": "QDvBlbrn2fKS"
   },
   "source": [
    "<font color = red><font size = 5>Conclusion"
   ]
  },
  {
   "cell_type": "markdown",
   "metadata": {
    "colab_type": "text",
    "id": "-KshHFDn2fKT"
   },
   "source": [
    "We observe that sales of furniture produces seasonal pattern. Early of the year is the off season for furniture sales in the superstore. The sales for furniture increases linearly over time in a year."
   ]
  }
 ],
 "metadata": {
  "colab": {
   "name": "Forecasting and Predicting the Furniture Sales of  .ipynb",
   "provenance": [],
   "version": "0.3.2"
  },
  "kernelspec": {
   "display_name": "Python 3 (ipykernel)",
   "language": "python",
   "name": "python3"
  },
  "language_info": {
   "codemirror_mode": {
    "name": "ipython",
    "version": 3
   },
   "file_extension": ".py",
   "mimetype": "text/x-python",
   "name": "python",
   "nbconvert_exporter": "python",
   "pygments_lexer": "ipython3",
   "version": "3.10.6"
  }
 },
 "nbformat": 4,
 "nbformat_minor": 1
}
